{
 "cells": [
  {
   "cell_type": "code",
   "execution_count": 2,
   "metadata": {},
   "outputs": [],
   "source": [
    "import pandas as pd\n",
    "pd.options.display.width = 0\n",
    "\n",
    "pd.set_option('display.max_rows', 6000)\n",
    "pd.set_option('display.max_columns', 500)\n",
    "pd.set_option('display.max_colwidth', 1000)"
   ]
  },
  {
   "cell_type": "code",
   "execution_count": 3,
   "metadata": {},
   "outputs": [
    {
     "output_type": "execute_result",
     "data": {
      "text/plain": [
       "(5453, 6)"
      ]
     },
     "metadata": {},
     "execution_count": 3
    }
   ],
   "source": [
    "df = pd.read_csv('../../../data_off/clarify/spanish_comorbidity/comorbidities_spanish_google_deep_last.csv', sep=',', error_bad_lines=True, encoding='utf-8')\n",
    "df.shape"
   ]
  },
  {
   "source": [
    "df.head(5)"
   ],
   "cell_type": "code",
   "metadata": {
    "scrolled": true
   },
   "execution_count": 4,
   "outputs": [
    {
     "output_type": "execute_result",
     "data": {
      "text/plain": [
       "                   table_name        column_name  \\\n",
       "0                 comorbidity  positive_negative   \n",
       "1                 comorbidity  positive_negative   \n",
       "2  comorbidity_treatment_line        comorbidity   \n",
       "3  comorbidity_treatment_line        comorbidity   \n",
       "4  comorbidity_treatment_line        comorbidity   \n",
       "\n",
       "                                value                           replacement  \\\n",
       "0                                   0                                   NaN   \n",
       "1                                   1                                   NaN   \n",
       "2                   Gastritis crÛnica                     Chronic gastritis   \n",
       "3  Sarcoma PleomÛrfico Pectoral Mayor  Pectoralis major pleomorphic sarcoma   \n",
       "4                       hiperuricemia                         Hyperuricemia   \n",
       "\n",
       "                     replacement_google  \\\n",
       "0                                     0   \n",
       "1                                     1   \n",
       "2                     Chronic gastritis   \n",
       "3  Pectoralis Major Pleomorphic Sarcoma   \n",
       "4                         hyperuricemia   \n",
       "\n",
       "                                 replacement_deepl  \n",
       "0                                                0  \n",
       "1                                                1  \n",
       "2                                Chronic gastritis  \n",
       "3  Pectoralis major pectoralis pleomÛrphic sarcoma  \n",
       "4                                    hyperuricemia  "
      ],
      "text/html": "<div>\n<style scoped>\n    .dataframe tbody tr th:only-of-type {\n        vertical-align: middle;\n    }\n\n    .dataframe tbody tr th {\n        vertical-align: top;\n    }\n\n    .dataframe thead th {\n        text-align: right;\n    }\n</style>\n<table border=\"1\" class=\"dataframe\">\n  <thead>\n    <tr style=\"text-align: right;\">\n      <th></th>\n      <th>table_name</th>\n      <th>column_name</th>\n      <th>value</th>\n      <th>replacement</th>\n      <th>replacement_google</th>\n      <th>replacement_deepl</th>\n    </tr>\n  </thead>\n  <tbody>\n    <tr>\n      <th>0</th>\n      <td>comorbidity</td>\n      <td>positive_negative</td>\n      <td>0</td>\n      <td>NaN</td>\n      <td>0</td>\n      <td>0</td>\n    </tr>\n    <tr>\n      <th>1</th>\n      <td>comorbidity</td>\n      <td>positive_negative</td>\n      <td>1</td>\n      <td>NaN</td>\n      <td>1</td>\n      <td>1</td>\n    </tr>\n    <tr>\n      <th>2</th>\n      <td>comorbidity_treatment_line</td>\n      <td>comorbidity</td>\n      <td>Gastritis crÛnica</td>\n      <td>Chronic gastritis</td>\n      <td>Chronic gastritis</td>\n      <td>Chronic gastritis</td>\n    </tr>\n    <tr>\n      <th>3</th>\n      <td>comorbidity_treatment_line</td>\n      <td>comorbidity</td>\n      <td>Sarcoma PleomÛrfico Pectoral Mayor</td>\n      <td>Pectoralis major pleomorphic sarcoma</td>\n      <td>Pectoralis Major Pleomorphic Sarcoma</td>\n      <td>Pectoralis major pectoralis pleomÛrphic sarcoma</td>\n    </tr>\n    <tr>\n      <th>4</th>\n      <td>comorbidity_treatment_line</td>\n      <td>comorbidity</td>\n      <td>hiperuricemia</td>\n      <td>Hyperuricemia</td>\n      <td>hyperuricemia</td>\n      <td>hyperuricemia</td>\n    </tr>\n  </tbody>\n</table>\n</div>"
     },
     "metadata": {},
     "execution_count": 4
    }
   ]
  },
  {
   "cell_type": "code",
   "execution_count": null,
   "metadata": {},
   "outputs": [],
   "source": [
    "df_MEV = df.dropna(subset=['replacement'])"
   ]
  },
  {
   "cell_type": "code",
   "execution_count": null,
   "metadata": {},
   "outputs": [],
   "source": [
    "# df_MEV['IsMevEqGoogleEN'] = df_MEV['replacement'].str.lower() == df_MEV['replacement_google'].str.lower()"
   ]
  },
  {
   "cell_type": "code",
   "execution_count": null,
   "metadata": {},
   "outputs": [],
   "source": [
    "df_MEV.shape"
   ]
  },
  {
   "cell_type": "code",
   "execution_count": null,
   "metadata": {
    "scrolled": true
   },
   "outputs": [],
   "source": [
    "df_MEV"
   ]
  },
  {
   "cell_type": "code",
   "execution_count": null,
   "metadata": {},
   "outputs": [],
   "source": [
    "df_MEV.to_csv('../../../data_off/clarify/spanish_comorbidity/train_MEV.csv', index=False, encoding='utf-8')"
   ]
  }
 ],
 "metadata": {
  "kernelspec": {
   "name": "python3710jvsc74a57bd0399d1cc73644b9c8e7484462cd4f9b3b32f61f571975f1cd01f67b06c060b9c6",
   "display_name": "Python 3.7.10 64-bit ('scispacy': conda)"
  },
  "language_info": {
   "codemirror_mode": {
    "name": "ipython",
    "version": 3
   },
   "file_extension": ".py",
   "mimetype": "text/x-python",
   "name": "python",
   "nbconvert_exporter": "python",
   "pygments_lexer": "ipython3",
   "version": "3.7.10"
  },
  "metadata": {
   "interpreter": {
    "hash": "399d1cc73644b9c8e7484462cd4f9b3b32f61f571975f1cd01f67b06c060b9c6"
   }
  }
 },
 "nbformat": 4,
 "nbformat_minor": 4
}