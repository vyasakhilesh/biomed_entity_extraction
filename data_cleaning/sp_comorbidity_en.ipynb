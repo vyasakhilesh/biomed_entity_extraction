{
 "cells": [
  {
   "cell_type": "code",
   "execution_count": null,
   "metadata": {},
   "outputs": [],
   "source": [
    "import pandas as pd\n",
    "pd.options.display.width = 0\n",
    "\n",
    "pd.set_option('display.max_rows', 6000)\n",
    "pd.set_option('display.max_columns', 500)\n",
    "pd.set_option('display.max_colwidth', 1000)\n",
    "#pd.describe_option('display')\n",
    "\n",
    "import requests"
   ]
  },
  {
   "cell_type": "code",
   "execution_count": null,
   "metadata": {},
   "outputs": [],
   "source": [
    "df = pd.read_csv('../../../data_off/clarify/spanish_comorbidity/comorbidities_modified.csv', sep=',', error_bad_lines=True, encoding='utf-8')\n",
    "df.shape"
   ]
  },
  {
   "cell_type": "code",
   "execution_count": null,
   "metadata": {},
   "outputs": [],
   "source": [
    "\"\"\"df.drop_duplicates(inplace=True)\n",
    "df.shape\n",
    "df.drop(columns=['replacement'], inplace=True)\n",
    "df_old = pd.read_csv('../../../data_off/clarify/spanish_comorbidity/comorbiditiesNEW2.csv', encoding='utf-8')\n",
    "df_old.shape\n",
    "df_old.rename(columns={\"replacement;\":\"replacement\"}, inplace=True)\n",
    "df = df.merge(df_old, how='left')\n",
    "df.to_csv('../../../data_off/clarify/spanish_comorbidity/comorbidities_modified.csv', encoding='utf-8', index=False)\"\"\""
   ]
  },
  {
   "cell_type": "code",
   "execution_count": null,
   "metadata": {
    "scrolled": true
   },
   "outputs": [],
   "source": [
    "# example spanish to English\n",
    "\"\"\"r = requests.get('https://www.python.org')\n",
    "r.status_code\n",
    "payload = dict(key1='value1', key2='value2')\n",
    "r = requests.post('http://httpbin.org/post', data=payload)\n",
    "print(r.text)\n",
    "\n",
    "url = 'https://www.googleapis.com/qpxExpress/v1/trips/search?key=mykeyhere'\n",
    "payload = open(\"request.json\")\n",
    "headers = {'content-type': 'application/json', 'Accept-Charset': 'UTF-8'}\n",
    "r = requests.post(url, data=payload, headers=headers)\n",
    "print(r.text)\"\"\""
   ]
  },
  {
   "cell_type": "code",
   "execution_count": null,
   "metadata": {},
   "outputs": [],
   "source": [
    "df_sp_google = pd.read_csv('../../../data_off/clarify/spanish_comorbidity/comorbidities_spanish_english_google.csv', sep=',', error_bad_lines=True, encoding='utf-8')\n",
    "print (df_sp_google.shape)\n",
    "\n",
    "df_sp_deep = pd.read_csv('../../../data_off/clarify/spanish_comorbidity/spanish_english_deepl.csv', sep=',', error_bad_lines=True, encoding='utf-8')\n",
    "print (df_sp_deep.shape)"
   ]
  },
  {
   "cell_type": "code",
   "execution_count": null,
   "metadata": {
    "scrolled": true
   },
   "outputs": [],
   "source": [
    "# df_sp_deep.to_csv('../../../data_off/clarify/spanish_comorbidity/spanish_english_deepl_withoutbad.csv', encoding='utf-8', index=False)"
   ]
  },
  {
   "cell_type": "code",
   "execution_count": null,
   "metadata": {},
   "outputs": [],
   "source": [
    "df['replacement_google'] = df_sp_google['value']\n",
    "df['replacement_deepl'] = df_sp_deep['value']"
   ]
  },
  {
   "cell_type": "code",
   "execution_count": null,
   "metadata": {},
   "outputs": [],
   "source": [
    "df['replacement'] = df['replacement'].str.replace(';', '')"
   ]
  },
  {
   "cell_type": "code",
   "execution_count": null,
   "metadata": {},
   "outputs": [],
   "source": [
    "df.to_csv('../../../data_off/clarify/spanish_comorbidity/comorbidities_spanish_google_deep_last.csv', index=False, encoding='utf-8')"
   ]
  }
 ],
 "metadata": {
  "kernelspec": {
   "name": "python376jvsc74a57bd03bf450dac8e30c2682a14291ee05461f24f9d33a85f8d7bd07a761e0031767ab",
   "display_name": "Python 3.7.6 64-bit ('base': conda)"
  },
  "language_info": {
   "codemirror_mode": {
    "name": "ipython",
    "version": 3
   },
   "file_extension": ".py",
   "mimetype": "text/x-python",
   "name": "python",
   "nbconvert_exporter": "python",
   "pygments_lexer": "ipython3",
   "version": "3.7.6"
  }
 },
 "nbformat": 4,
 "nbformat_minor": 4
}