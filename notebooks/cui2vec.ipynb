{
 "metadata": {
  "language_info": {
   "codemirror_mode": {
    "name": "ipython",
    "version": 3
   },
   "file_extension": ".py",
   "mimetype": "text/x-python",
   "name": "python",
   "nbconvert_exporter": "python",
   "pygments_lexer": "ipython3",
   "version": "3.6.13"
  },
  "orig_nbformat": 2,
  "kernelspec": {
   "name": "python3",
   "display_name": "Python 3.6.13 64-bit ('scispacy_0.4': conda)"
  },
  "interpreter": {
   "hash": "a70084e415d3a7a6e045d5423124f4f63f520ff68c2c2d3722b0024c2c4b1684"
  }
 },
 "nbformat": 4,
 "nbformat_minor": 2,
 "cells": [
  {
   "cell_type": "code",
   "execution_count": 1,
   "metadata": {},
   "outputs": [],
   "source": [
    "import numpy as np\n",
    "import pickle\n",
    "import pandas as pd"
   ]
  },
  {
   "cell_type": "code",
   "execution_count": 2,
   "metadata": {},
   "outputs": [],
   "source": [
    "path_cui = '/nfs/home/vyasa/projects/proj_off/data_off/clarify/spanish_comorbidity/cui2vec/'\n",
    "path = '/nfs/home/vyasa/projects/proj_off/data_off/clarify/spanish_comorbidity/new/'"
   ]
  },
  {
   "cell_type": "code",
   "execution_count": 6,
   "metadata": {},
   "outputs": [],
   "source": [
    "embeddings_cui = dict()\n",
    "\n",
    "with open(path_cui+'cui2vec_pretrained.csv') as f:\n",
    "    next(f)\n",
    "    for line in f:\n",
    "        values = line.split(',')\n",
    "        #print (values)\n",
    "        cui = values[0].strip('\\\"')\n",
    "        coefs = np.asarray(values[1:], dtype='float32')\n",
    "        embeddings_cui[cui] = coefs"
   ]
  },
  {
   "cell_type": "code",
   "execution_count": 7,
   "metadata": {},
   "outputs": [
    {
     "output_type": "execute_result",
     "data": {
      "text/plain": [
       "109053"
      ]
     },
     "metadata": {},
     "execution_count": 7
    }
   ],
   "source": [
    "len(embeddings_cui)"
   ]
  },
  {
   "cell_type": "code",
   "execution_count": 8,
   "metadata": {},
   "outputs": [],
   "source": [
    "with open(path+'embeddings_cui.pkl', 'wb') as f:\n",
    "    pickle.dump(embeddings_cui, f)"
   ]
  },
  {
   "cell_type": "code",
   "execution_count": 26,
   "metadata": {},
   "outputs": [
    {
     "output_type": "stream",
     "name": "stdout",
     "text": [
      "(3063795, 3)\n              CUI            SemanticType  \\\n247      C0000727         Sign or Symptom   \n248      C0000729         Sign or Symptom   \n252      C0000737         Sign or Symptom   \n256      C0000744     Disease or Syndrome   \n257      C0000754  Congenital Abnormality   \n...           ...                     ...   \n3063738  C4082083     Disease or Syndrome   \n3063741  C4082086     Disease or Syndrome   \n3063780  C4082125     Disease or Syndrome   \n3063781  C4082126     Disease or Syndrome   \n3063783  C4082128     Pathologic Function   \n\n                                                    String  \n247                                         Abdomen, Acute  \n248                                       Abdominal Cramps  \n252                                         Abdominal Pain  \n256                                   Abetalipoproteinemia  \n257                             Congenital abnormal fusion  \n...                                                    ...  \n3063738        Somatic dysfunction of left upper extremity  \n3063741       Somatic dysfunction of right upper extremity  \n3063780  Peripheral vascular disease of foot with loss ...  \n3063781  Peripheral vascular disease of foot with loss ...  \n3063783  Loss of protective sensation of foot with defo...  \n\n[125901 rows x 3 columns]\n"
     ]
    }
   ],
   "source": [
    "df_sem_type = pd.read_csv(path_cui+'semantic_type.csv',encoding='ISO-8859-1')\n",
    "filter_comb = ['Sign or Symptom', 'Disease or Syndrome', 'Congenital Abnormality', 'Anatomical Abnormality', 'Pathologic Function', 'Acquired Abnormality', 'Mental or Behavioral Dysfunction']\n",
    "print(df_sem_type.shape)\n",
    "df_sem_type = df_sem_type[df_sem_type['SemanticType'].isin(filter_comb)]\n",
    "print(df_sem_type)\n",
    "#df_sem_type.to_csv(path+'semantic_type_comb.csv', index=False)"
   ]
  },
  {
   "cell_type": "code",
   "execution_count": 24,
   "metadata": {},
   "outputs": [
    {
     "output_type": "execute_result",
     "data": {
      "text/plain": [
       "             CUI SemanticType                        String\n",
       "834930  C1519275      Finding  Grade 3 Severe Adverse Event"
      ],
      "text/html": "<div>\n<style scoped>\n    .dataframe tbody tr th:only-of-type {\n        vertical-align: middle;\n    }\n\n    .dataframe tbody tr th {\n        vertical-align: top;\n    }\n\n    .dataframe thead th {\n        text-align: right;\n    }\n</style>\n<table border=\"1\" class=\"dataframe\">\n  <thead>\n    <tr style=\"text-align: right;\">\n      <th></th>\n      <th>CUI</th>\n      <th>SemanticType</th>\n      <th>String</th>\n    </tr>\n  </thead>\n  <tbody>\n    <tr>\n      <th>834930</th>\n      <td>C1519275</td>\n      <td>Finding</td>\n      <td>Grade 3 Severe Adverse Event</td>\n    </tr>\n  </tbody>\n</table>\n</div>"
     },
     "metadata": {},
     "execution_count": 24
    }
   ],
   "source": [
    "df_sem_type[df_sem_type['CUI']=='C1519275']"
   ]
  },
  {
   "cell_type": "code",
   "execution_count": 17,
   "metadata": {},
   "outputs": [
    {
     "output_type": "execute_result",
     "data": {
      "text/plain": [
       "        CUI                           SemanticType  \\\n",
       "0  C0000005        Amino Acid, Peptide, or Protein   \n",
       "1  C0000005                Pharmacologic Substance   \n",
       "2  C0000005  Indicator, Reagent, or Diagnostic Aid   \n",
       "3  C0000039                       Organic Chemical   \n",
       "4  C0000039                Pharmacologic Substance   \n",
       "\n",
       "                               String  \n",
       "0      (131)I-Macroaggregated Albumin  \n",
       "1      (131)I-Macroaggregated Albumin  \n",
       "2      (131)I-Macroaggregated Albumin  \n",
       "3  1,2-Dipalmitoylphosphatidylcholine  \n",
       "4  1,2-Dipalmitoylphosphatidylcholine  "
      ],
      "text/html": "<div>\n<style scoped>\n    .dataframe tbody tr th:only-of-type {\n        vertical-align: middle;\n    }\n\n    .dataframe tbody tr th {\n        vertical-align: top;\n    }\n\n    .dataframe thead th {\n        text-align: right;\n    }\n</style>\n<table border=\"1\" class=\"dataframe\">\n  <thead>\n    <tr style=\"text-align: right;\">\n      <th></th>\n      <th>CUI</th>\n      <th>SemanticType</th>\n      <th>String</th>\n    </tr>\n  </thead>\n  <tbody>\n    <tr>\n      <th>0</th>\n      <td>C0000005</td>\n      <td>Amino Acid, Peptide, or Protein</td>\n      <td>(131)I-Macroaggregated Albumin</td>\n    </tr>\n    <tr>\n      <th>1</th>\n      <td>C0000005</td>\n      <td>Pharmacologic Substance</td>\n      <td>(131)I-Macroaggregated Albumin</td>\n    </tr>\n    <tr>\n      <th>2</th>\n      <td>C0000005</td>\n      <td>Indicator, Reagent, or Diagnostic Aid</td>\n      <td>(131)I-Macroaggregated Albumin</td>\n    </tr>\n    <tr>\n      <th>3</th>\n      <td>C0000039</td>\n      <td>Organic Chemical</td>\n      <td>1,2-Dipalmitoylphosphatidylcholine</td>\n    </tr>\n    <tr>\n      <th>4</th>\n      <td>C0000039</td>\n      <td>Pharmacologic Substance</td>\n      <td>1,2-Dipalmitoylphosphatidylcholine</td>\n    </tr>\n  </tbody>\n</table>\n</div>"
     },
     "metadata": {},
     "execution_count": 17
    }
   ],
   "source": [
    "df_sem_type.head(5)"
   ]
  },
  {
   "cell_type": "code",
   "execution_count": null,
   "metadata": {},
   "outputs": [],
   "source": []
  }
 ]
}