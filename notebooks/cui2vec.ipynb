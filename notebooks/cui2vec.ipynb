{
 "metadata": {
  "language_info": {
   "codemirror_mode": {
    "name": "ipython",
    "version": 3
   },
   "file_extension": ".py",
   "mimetype": "text/x-python",
   "name": "python",
   "nbconvert_exporter": "python",
   "pygments_lexer": "ipython3",
   "version": "3.6.13"
  },
  "orig_nbformat": 2,
  "kernelspec": {
   "name": "python3613jvsc74a57bd0a70084e415d3a7a6e045d5423124f4f63f520ff68c2c2d3722b0024c2c4b1684",
   "display_name": "Python 3.6.13 64-bit ('scispacy_0.4': conda)"
  }
 },
 "nbformat": 4,
 "nbformat_minor": 2,
 "cells": [
  {
   "cell_type": "code",
   "execution_count": 4,
   "metadata": {},
   "outputs": [],
   "source": [
    "import numpy as np\n",
    "import pickle"
   ]
  },
  {
   "cell_type": "code",
   "execution_count": 5,
   "metadata": {},
   "outputs": [],
   "source": [
    "path_cui = '/nfs/home/vyasa/projects/proj_off/data_off/clarify/spanish_comorbidity/cui2vec/'\n",
    "path = '/nfs/home/vyasa/projects/proj_off/data_off/clarify/spanish_comorbidity/new/'"
   ]
  },
  {
   "cell_type": "code",
   "execution_count": 6,
   "metadata": {},
   "outputs": [],
   "source": [
    "embeddings_cui = dict()\n",
    "\n",
    "with open(path_cui+'cui2vec_pretrained.csv') as f:\n",
    "    next(f)\n",
    "    for line in f:\n",
    "        values = line.split(',')\n",
    "        #print (values)\n",
    "        cui = values[0].strip('\\\"')\n",
    "        coefs = np.asarray(values[1:], dtype='float32')\n",
    "        embeddings_cui[cui] = coefs"
   ]
  },
  {
   "cell_type": "code",
   "execution_count": 7,
   "metadata": {},
   "outputs": [
    {
     "output_type": "execute_result",
     "data": {
      "text/plain": [
       "109053"
      ]
     },
     "metadata": {},
     "execution_count": 7
    }
   ],
   "source": [
    "len(embeddings_cui)"
   ]
  },
  {
   "cell_type": "code",
   "execution_count": 8,
   "metadata": {},
   "outputs": [],
   "source": [
    "with open(path+'embeddings_cui.pkl', 'wb') as f:\n",
    "    pickle.dump(embeddings_cui, f)"
   ]
  },
  {
   "cell_type": "code",
   "execution_count": null,
   "metadata": {},
   "outputs": [],
   "source": []
  }
 ]
}