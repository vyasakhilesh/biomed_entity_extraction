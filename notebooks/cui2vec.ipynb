{
 "metadata": {
  "language_info": {
   "codemirror_mode": {
    "name": "ipython",
    "version": 3
   },
   "file_extension": ".py",
   "mimetype": "text/x-python",
   "name": "python",
   "nbconvert_exporter": "python",
   "pygments_lexer": "ipython3",
   "version": "3.6.13"
  },
  "orig_nbformat": 2,
  "kernelspec": {
   "name": "python3",
   "display_name": "Python 3.6.13 64-bit ('scispacy_0.4': conda)"
  },
  "interpreter": {
   "hash": "a70084e415d3a7a6e045d5423124f4f63f520ff68c2c2d3722b0024c2c4b1684"
  }
 },
 "nbformat": 4,
 "nbformat_minor": 2,
 "cells": [
  {
   "cell_type": "code",
   "execution_count": 2,
   "metadata": {},
   "outputs": [],
   "source": [
    "import numpy as np\n",
    "import pickle\n",
    "import pandas as pd\n",
    "import ast"
   ]
  },
  {
   "cell_type": "code",
   "execution_count": 1,
   "metadata": {},
   "outputs": [],
   "source": [
    "path_cui = '/nfs/home/vyasa/projects/proj_off/data_off/clarify/spanish_comorbidity/cui2vec/'\n",
    "path = '/nfs/home/vyasa/projects/proj_off/data_off/clarify/spanish_comorbidity/new/'"
   ]
  },
  {
   "cell_type": "code",
   "execution_count": null,
   "metadata": {},
   "outputs": [],
   "source": [
    "embeddings_cui = dict()\n",
    "\n",
    "with open(path_cui+'cui2vec_pretrained.csv') as f:\n",
    "    next(f)\n",
    "    for line in f:\n",
    "        values = line.split(',')\n",
    "        #print (values)\n",
    "        cui = values[0].strip('\\\"')\n",
    "        coefs = np.asarray(values[1:], dtype='float32')\n",
    "        embeddings_cui[cui] = coefs"
   ]
  },
  {
   "cell_type": "code",
   "execution_count": null,
   "metadata": {},
   "outputs": [],
   "source": [
    "len(embeddings_cui)"
   ]
  },
  {
   "cell_type": "code",
   "execution_count": null,
   "metadata": {},
   "outputs": [],
   "source": [
    "with open(path+'embeddings_cui.pkl', 'wb') as f:\n",
    "    pickle.dump(embeddings_cui, f)"
   ]
  },
  {
   "cell_type": "code",
   "execution_count": null,
   "metadata": {},
   "outputs": [],
   "source": [
    "df_sem_type = pd.read_csv(path_cui+'semantic_type.csv',encoding='ISO-8859-1')\n",
    "print(df_sem_type['CUI'].unique().shape)\n",
    "filter_comb = ['Sign or Symptom', 'Disease or Syndrome', 'Congenital Abnormality', 'Anatomical Abnormality', 'Pathologic Function', 'Acquired Abnormality', 'Mental or Behavioral Dysfunction']\n",
    "print(df_sem_type.shape)\n",
    "#df_sem_type = df_sem_type[df_sem_type['SemanticType'].isin(filter_comb)]\n",
    "print(df_sem_type.head(5))\n",
    "#df_sem_type.to_csv(path+'semantic_type_comb.csv', index=False)"
   ]
  },
  {
   "cell_type": "code",
   "execution_count": null,
   "metadata": {},
   "outputs": [],
   "source": [
    "print(df_sem_type[df_sem_type['CUI']=='C1547227'] )\n",
    "if 'C1547227' in embeddings_cui:\n",
    "    print('True')"
   ]
  },
  {
   "cell_type": "code",
   "execution_count": null,
   "metadata": {},
   "outputs": [],
   "source": [
    "df_sem_type_tib = pd.read_csv(path_cui+'UMLS_combined.csv',encoding='ISO-8859-1')\n",
    "print(df_sem_type_tib['CUI'].unique().shape)\n",
    "#filter_comb = ['Sign or Symptom', 'Disease or Syndrome', 'Congenital Abnormality', 'Anatomical Abnormality', 'Pathologic Function', 'Acquired Abnormality', 'Mental or Behavioral Dysfunction']\n",
    "print(df_sem_type_tib.shape)\n",
    "#df_sem_type_tib = df_sem_type_tib[df_sem_type_tib['SemanticType'].isin(filter_comb)]\n",
    "df_sem_type_tib.head(5)"
   ]
  },
  {
   "cell_type": "code",
   "execution_count": null,
   "metadata": {},
   "outputs": [],
   "source": [
    "df_sem_type_tib[df_sem_type_tib['CUI']=='C2937421']"
   ]
  },
  {
   "cell_type": "code",
   "execution_count": null,
   "metadata": {},
   "outputs": [],
   "source": [
    "len(set(['Disease or Syndrome'] ).intersection(set(['Organic Chemical', 'Pharmacologic Substance'])))"
   ]
  },
  {
   "cell_type": "code",
   "execution_count": null,
   "metadata": {},
   "outputs": [],
   "source": [
    "\n",
    "for i,j in df_sem_type_tib['Semantic_type_label'].iloc[0:1].items():\n",
    "    print (i,j, type(j))\n",
    "    print (ast.literal_eval(j)[2])\n"
   ]
  },
  {
   "cell_type": "code",
   "execution_count": null,
   "metadata": {},
   "outputs": [],
   "source": []
  }
 ]
}