{
 "metadata": {
  "language_info": {
   "codemirror_mode": {
    "name": "ipython",
    "version": 3
   },
   "file_extension": ".py",
   "mimetype": "text/x-python",
   "name": "python",
   "nbconvert_exporter": "python",
   "pygments_lexer": "ipython3",
   "version": "3.7.10"
  },
  "orig_nbformat": 2,
  "kernelspec": {
   "name": "python3710jvsc74a57bd0399d1cc73644b9c8e7484462cd4f9b3b32f61f571975f1cd01f67b06c060b9c6",
   "display_name": "Python 3.7.10 64-bit ('scispacy': conda)"
  }
 },
 "nbformat": 4,
 "nbformat_minor": 2,
 "cells": [
  {
   "cell_type": "code",
   "execution_count": 25,
   "metadata": {},
   "outputs": [],
   "source": [
    "import pandas as pd\n",
    "import numpy as np\n",
    "\n",
    "pd.set_option('display.max_rows', 6000)\n",
    "pd.set_option('display.max_columns', 500)\n",
    "pd.set_option('display.max_colwidth', 1000)"
   ]
  },
  {
   "cell_type": "code",
   "execution_count": 26,
   "metadata": {},
   "outputs": [],
   "source": [
    "path_output = '/nfs/home/vyasa/projects/proj_off/data_off/clarify/spanish_comorbidity/new/output/'\n",
    "df = pd.read_csv(path_output+'id_text_cuiLst.csv', encoding='utf-8')\n",
    "df_id_text = pd.read_csv(path_output+'id_text_kg.csv', encoding='utf-8')\n",
    "df_id_cui = pd.read_csv(path_output+'id_cuis_kg.csv', encoding='utf-8')\n",
    "df_id_cui_cn = pd.read_csv(path_output+'id_cuis_cn.csv', encoding='utf-8')"
   ]
  },
  {
   "cell_type": "code",
   "execution_count": 27,
   "metadata": {},
   "outputs": [
    {
     "output_type": "execute_result",
     "data": {
      "text/plain": [
       "  Value_ID                                value  \\\n",
       "0   A10000                    Gastritis crÛnica   \n",
       "1   A10001  Sarcoma PleomÛrfico Pectoral Mayor    \n",
       "2   A10002                        hiperuricemia   \n",
       "3   A10003             intervenido pÛlipo colon   \n",
       "4   A10004          intervenido estenosis aorta   \n",
       "\n",
       "                            replacement                           google_abbr  \\\n",
       "0                     Chronic Gastritis                     Chronic Gastritis   \n",
       "1  Pectoralis Major Pleomorphic Sarcoma  Pectoralis Major Pleomorphic Sarcoma   \n",
       "2                         Hyperuricemia                         Hyperuricemia   \n",
       "3                  Colon Polyp Operated                Colon Plipo Intervened   \n",
       "4              Aortic Stenosis Operated              Operated Aortic Stenosis   \n",
       "\n",
       "                            deepl_abbr  \\\n",
       "0                    Chronic Gastritis   \n",
       "1  Pectoralis Major PleomÛrfic Sarcoma   \n",
       "2                        Hyperuricemia   \n",
       "3              Intervened PÛlipo Colon   \n",
       "4           Intervened Aortic Stenosis   \n",
       "\n",
       "                                                                                mev_cui  \\\n",
       "0                                                  ['C0267146', 'C0341194', 'C0085695']   \n",
       "1              ['C0030747', 'C3674152', 'C0205825', 'C3675353', 'C0598607', 'C1261358']   \n",
       "2                                                  ['C0740394', 'C4553069', 'C1856288']   \n",
       "3  ['C0267573', 'C2684091', 'C3888384', 'C0032584', 'C0009368', 'C3242339', 'C0027430']   \n",
       "4                                      ['C0685726', 'C0340335', 'C3242339', 'C0003507']   \n",
       "\n",
       "                                                            google_abbr_cui  \\\n",
       "0                                      ['C0267146', 'C0341194', 'C0085695']   \n",
       "1  ['C0030747', 'C3674152', 'C0205825', 'C3675353', 'C0598607', 'C1261358']   \n",
       "2                                      ['C0740394', 'C4553069', 'C1856288']   \n",
       "3                                      ['C3888384', 'C0009368', 'C2684091']   \n",
       "4                                      ['C0349516', 'C0685726', 'C0003507']   \n",
       "\n",
       "                         deepl_abbr_cui  mev_cui_len  google_abbr_cui_len  \\\n",
       "0  ['C0267146', 'C0341194', 'C0085695']            3                    3   \n",
       "1  ['C0030747', 'C3674152', 'C3675353']            6                    6   \n",
       "2  ['C0740394', 'C4553069', 'C1856288']            3                    3   \n",
       "3  ['C0122111', 'C1333906', 'C1705263']            7                    3   \n",
       "4                          ['C0003507']            4                    3   \n",
       "\n",
       "   deepl_abbr_cui_len  \\\n",
       "0                   3   \n",
       "1                   3   \n",
       "2                   3   \n",
       "3                   3   \n",
       "4                   1   \n",
       "\n",
       "                                                      google_deepl_abbr_cui  \\\n",
       "0                                      ['C0341194', 'C0085695', 'C0267146']   \n",
       "1  ['C0030747', 'C3674152', 'C0205825', 'C3675353', 'C0598607', 'C1261358']   \n",
       "2                                      ['C0740394', 'C4553069', 'C1856288']   \n",
       "3  ['C0122111', 'C2684091', 'C3888384', 'C1705263', 'C0009368', 'C1333906']   \n",
       "4                                      ['C0349516', 'C0685726', 'C0003507']   \n",
       "\n",
       "  TEXT_ID                                 TEXT  \\\n",
       "0  A10000                    Gastritis crÛnica   \n",
       "1  A10001  Sarcoma PleomÛrfico Pectoral Mayor    \n",
       "2  A10002                        hiperuricemia   \n",
       "3  A10003             intervenido pÛlipo colon   \n",
       "4  A10004          intervenido estenosis aorta   \n",
       "\n",
       "                                                                              FINAL_CUI  \\\n",
       "0                                                  ['C0267146', 'C0341194', 'C0085695']   \n",
       "1              ['C0030747', 'C3674152', 'C0205825', 'C3675353', 'C0598607', 'C1261358']   \n",
       "2                                                  ['C0740394', 'C4553069', 'C1856288']   \n",
       "3  ['C0267573', 'C2684091', 'C3888384', 'C0032584', 'C0009368', 'C3242339', 'C0027430']   \n",
       "4                                      ['C0685726', 'C0340335', 'C3242339', 'C0003507']   \n",
       "\n",
       "   FINAL_CUI_len  \n",
       "0              3  \n",
       "1              6  \n",
       "2              3  \n",
       "3              7  \n",
       "4              4  "
      ],
      "text/html": "<div>\n<style scoped>\n    .dataframe tbody tr th:only-of-type {\n        vertical-align: middle;\n    }\n\n    .dataframe tbody tr th {\n        vertical-align: top;\n    }\n\n    .dataframe thead th {\n        text-align: right;\n    }\n</style>\n<table border=\"1\" class=\"dataframe\">\n  <thead>\n    <tr style=\"text-align: right;\">\n      <th></th>\n      <th>Value_ID</th>\n      <th>value</th>\n      <th>replacement</th>\n      <th>google_abbr</th>\n      <th>deepl_abbr</th>\n      <th>mev_cui</th>\n      <th>google_abbr_cui</th>\n      <th>deepl_abbr_cui</th>\n      <th>mev_cui_len</th>\n      <th>google_abbr_cui_len</th>\n      <th>deepl_abbr_cui_len</th>\n      <th>google_deepl_abbr_cui</th>\n      <th>TEXT_ID</th>\n      <th>TEXT</th>\n      <th>FINAL_CUI</th>\n      <th>FINAL_CUI_len</th>\n    </tr>\n  </thead>\n  <tbody>\n    <tr>\n      <th>0</th>\n      <td>A10000</td>\n      <td>Gastritis crÛnica</td>\n      <td>Chronic Gastritis</td>\n      <td>Chronic Gastritis</td>\n      <td>Chronic Gastritis</td>\n      <td>['C0267146', 'C0341194', 'C0085695']</td>\n      <td>['C0267146', 'C0341194', 'C0085695']</td>\n      <td>['C0267146', 'C0341194', 'C0085695']</td>\n      <td>3</td>\n      <td>3</td>\n      <td>3</td>\n      <td>['C0341194', 'C0085695', 'C0267146']</td>\n      <td>A10000</td>\n      <td>Gastritis crÛnica</td>\n      <td>['C0267146', 'C0341194', 'C0085695']</td>\n      <td>3</td>\n    </tr>\n    <tr>\n      <th>1</th>\n      <td>A10001</td>\n      <td>Sarcoma PleomÛrfico Pectoral Mayor</td>\n      <td>Pectoralis Major Pleomorphic Sarcoma</td>\n      <td>Pectoralis Major Pleomorphic Sarcoma</td>\n      <td>Pectoralis Major PleomÛrfic Sarcoma</td>\n      <td>['C0030747', 'C3674152', 'C0205825', 'C3675353', 'C0598607', 'C1261358']</td>\n      <td>['C0030747', 'C3674152', 'C0205825', 'C3675353', 'C0598607', 'C1261358']</td>\n      <td>['C0030747', 'C3674152', 'C3675353']</td>\n      <td>6</td>\n      <td>6</td>\n      <td>3</td>\n      <td>['C0030747', 'C3674152', 'C0205825', 'C3675353', 'C0598607', 'C1261358']</td>\n      <td>A10001</td>\n      <td>Sarcoma PleomÛrfico Pectoral Mayor</td>\n      <td>['C0030747', 'C3674152', 'C0205825', 'C3675353', 'C0598607', 'C1261358']</td>\n      <td>6</td>\n    </tr>\n    <tr>\n      <th>2</th>\n      <td>A10002</td>\n      <td>hiperuricemia</td>\n      <td>Hyperuricemia</td>\n      <td>Hyperuricemia</td>\n      <td>Hyperuricemia</td>\n      <td>['C0740394', 'C4553069', 'C1856288']</td>\n      <td>['C0740394', 'C4553069', 'C1856288']</td>\n      <td>['C0740394', 'C4553069', 'C1856288']</td>\n      <td>3</td>\n      <td>3</td>\n      <td>3</td>\n      <td>['C0740394', 'C4553069', 'C1856288']</td>\n      <td>A10002</td>\n      <td>hiperuricemia</td>\n      <td>['C0740394', 'C4553069', 'C1856288']</td>\n      <td>3</td>\n    </tr>\n    <tr>\n      <th>3</th>\n      <td>A10003</td>\n      <td>intervenido pÛlipo colon</td>\n      <td>Colon Polyp Operated</td>\n      <td>Colon Plipo Intervened</td>\n      <td>Intervened PÛlipo Colon</td>\n      <td>['C0267573', 'C2684091', 'C3888384', 'C0032584', 'C0009368', 'C3242339', 'C0027430']</td>\n      <td>['C3888384', 'C0009368', 'C2684091']</td>\n      <td>['C0122111', 'C1333906', 'C1705263']</td>\n      <td>7</td>\n      <td>3</td>\n      <td>3</td>\n      <td>['C0122111', 'C2684091', 'C3888384', 'C1705263', 'C0009368', 'C1333906']</td>\n      <td>A10003</td>\n      <td>intervenido pÛlipo colon</td>\n      <td>['C0267573', 'C2684091', 'C3888384', 'C0032584', 'C0009368', 'C3242339', 'C0027430']</td>\n      <td>7</td>\n    </tr>\n    <tr>\n      <th>4</th>\n      <td>A10004</td>\n      <td>intervenido estenosis aorta</td>\n      <td>Aortic Stenosis Operated</td>\n      <td>Operated Aortic Stenosis</td>\n      <td>Intervened Aortic Stenosis</td>\n      <td>['C0685726', 'C0340335', 'C3242339', 'C0003507']</td>\n      <td>['C0349516', 'C0685726', 'C0003507']</td>\n      <td>['C0003507']</td>\n      <td>4</td>\n      <td>3</td>\n      <td>1</td>\n      <td>['C0349516', 'C0685726', 'C0003507']</td>\n      <td>A10004</td>\n      <td>intervenido estenosis aorta</td>\n      <td>['C0685726', 'C0340335', 'C3242339', 'C0003507']</td>\n      <td>4</td>\n    </tr>\n  </tbody>\n</table>\n</div>"
     },
     "metadata": {},
     "execution_count": 27
    }
   ],
   "source": [
    "df.head(5)"
   ]
  },
  {
   "cell_type": "code",
   "execution_count": 28,
   "metadata": {},
   "outputs": [],
   "source": [
    "df[['value']].to_csv(path_output+'text.csv', encoding='utf-8', index=False)"
   ]
  },
  {
   "cell_type": "code",
   "execution_count": 29,
   "metadata": {},
   "outputs": [
    {
     "output_type": "execute_result",
     "data": {
      "text/plain": [
       "((5445, 2), (25363, 2))"
      ]
     },
     "metadata": {},
     "execution_count": 29
    }
   ],
   "source": [
    "df_id_text.shape, df_id_cui.shape,"
   ]
  },
  {
   "cell_type": "code",
   "execution_count": 30,
   "metadata": {},
   "outputs": [
    {
     "output_type": "execute_result",
     "data": {
      "text/plain": [
       "<AxesSubplot:xlabel='FINAL_CUI'>"
      ]
     },
     "metadata": {},
     "execution_count": 30
    },
    {
     "output_type": "display_data",
     "data": {
      "text/plain": "<Figure size 432x288 with 1 Axes>",
      "image/svg+xml": "<?xml version=\"1.0\" encoding=\"utf-8\" standalone=\"no\"?>\n<!DOCTYPE svg PUBLIC \"-//W3C//DTD SVG 1.1//EN\"\n  \"http://www.w3.org/Graphics/SVG/1.1/DTD/svg11.dtd\">\n<svg height=\"304.14pt\" version=\"1.1\" viewBox=\"0 0 368.925 304.14\" width=\"368.925pt\" xmlns=\"http://www.w3.org/2000/svg\" xmlns:xlink=\"http://www.w3.org/1999/xlink\">\n <metadata>\n  <rdf:RDF xmlns:cc=\"http://creativecommons.org/ns#\" xmlns:dc=\"http://purl.org/dc/elements/1.1/\" xmlns:rdf=\"http://www.w3.org/1999/02/22-rdf-syntax-ns#\">\n   <cc:Work>\n    <dc:type rdf:resource=\"http://purl.org/dc/dcmitype/StillImage\"/>\n    <dc:date>2021-06-05T09:38:08.446534</dc:date>\n    <dc:format>image/svg+xml</dc:format>\n    <dc:creator>\n     <cc:Agent>\n      <dc:title>Matplotlib v3.4.1, https://matplotlib.org/</dc:title>\n     </cc:Agent>\n    </dc:creator>\n   </cc:Work>\n  </rdf:RDF>\n </metadata>\n <defs>\n  <style type=\"text/css\">*{stroke-linecap:butt;stroke-linejoin:round;}</style>\n </defs>\n <g id=\"figure_1\">\n  <g id=\"patch_1\">\n   <path d=\"M -0 304.14 \nL 368.925 304.14 \nL 368.925 0 \nL -0 0 \nz\n\" style=\"fill:none;\"/>\n  </g>\n  <g id=\"axes_1\">\n   <g id=\"patch_2\">\n    <path d=\"M 26.925 224.64 \nL 361.725 224.64 \nL 361.725 7.2 \nL 26.925 7.2 \nz\n\" style=\"fill:#ffffff;\"/>\n   </g>\n   <g id=\"patch_3\">\n    <path clip-path=\"url(#pdec8aa8e93)\" d=\"M 29.715 224.64 \nL 35.295 224.64 \nL 35.295 17.554286 \nL 29.715 17.554286 \nz\n\" style=\"fill:#1f77b4;\"/>\n   </g>\n   <g id=\"patch_4\">\n    <path clip-path=\"url(#pdec8aa8e93)\" d=\"M 40.875 224.64 \nL 46.455 224.64 \nL 46.455 22.544303 \nL 40.875 22.544303 \nz\n\" style=\"fill:#1f77b4;\"/>\n   </g>\n   <g id=\"patch_5\">\n    <path clip-path=\"url(#pdec8aa8e93)\" d=\"M 52.035 224.64 \nL 57.615 224.64 \nL 57.615 27.53432 \nL 52.035 27.53432 \nz\n\" style=\"fill:#1f77b4;\"/>\n   </g>\n   <g id=\"patch_6\">\n    <path clip-path=\"url(#pdec8aa8e93)\" d=\"M 63.195 224.64 \nL 68.775 224.64 \nL 68.775 27.53432 \nL 63.195 27.53432 \nz\n\" style=\"fill:#1f77b4;\"/>\n   </g>\n   <g id=\"patch_7\">\n    <path clip-path=\"url(#pdec8aa8e93)\" d=\"M 74.355 224.64 \nL 79.935 224.64 \nL 79.935 27.53432 \nL 74.355 27.53432 \nz\n\" style=\"fill:#1f77b4;\"/>\n   </g>\n   <g id=\"patch_8\">\n    <path clip-path=\"url(#pdec8aa8e93)\" d=\"M 85.515 224.64 \nL 91.095 224.64 \nL 91.095 30.029329 \nL 85.515 30.029329 \nz\n\" style=\"fill:#1f77b4;\"/>\n   </g>\n   <g id=\"patch_9\">\n    <path clip-path=\"url(#pdec8aa8e93)\" d=\"M 96.675 224.64 \nL 102.255 224.64 \nL 102.255 54.979415 \nL 96.675 54.979415 \nz\n\" style=\"fill:#1f77b4;\"/>\n   </g>\n   <g id=\"patch_10\">\n    <path clip-path=\"url(#pdec8aa8e93)\" d=\"M 107.835 224.64 \nL 113.415 224.64 \nL 113.415 64.959449 \nL 107.835 64.959449 \nz\n\" style=\"fill:#1f77b4;\"/>\n   </g>\n   <g id=\"patch_11\">\n    <path clip-path=\"url(#pdec8aa8e93)\" d=\"M 118.995 224.64 \nL 124.575 224.64 \nL 124.575 64.959449 \nL 118.995 64.959449 \nz\n\" style=\"fill:#1f77b4;\"/>\n   </g>\n   <g id=\"patch_12\">\n    <path clip-path=\"url(#pdec8aa8e93)\" d=\"M 130.155 224.64 \nL 135.735 224.64 \nL 135.735 69.949466 \nL 130.155 69.949466 \nz\n\" style=\"fill:#1f77b4;\"/>\n   </g>\n   <g id=\"patch_13\">\n    <path clip-path=\"url(#pdec8aa8e93)\" d=\"M 141.315 224.64 \nL 146.895 224.64 \nL 146.895 77.434492 \nL 141.315 77.434492 \nz\n\" style=\"fill:#1f77b4;\"/>\n   </g>\n   <g id=\"patch_14\">\n    <path clip-path=\"url(#pdec8aa8e93)\" d=\"M 152.475 224.64 \nL 158.055 224.64 \nL 158.055 77.434492 \nL 152.475 77.434492 \nz\n\" style=\"fill:#1f77b4;\"/>\n   </g>\n   <g id=\"patch_15\">\n    <path clip-path=\"url(#pdec8aa8e93)\" d=\"M 163.635 224.64 \nL 169.215 224.64 \nL 169.215 77.434492 \nL 163.635 77.434492 \nz\n\" style=\"fill:#1f77b4;\"/>\n   </g>\n   <g id=\"patch_16\">\n    <path clip-path=\"url(#pdec8aa8e93)\" d=\"M 174.795 224.64 \nL 180.375 224.64 \nL 180.375 77.434492 \nL 174.795 77.434492 \nz\n\" style=\"fill:#1f77b4;\"/>\n   </g>\n   <g id=\"patch_17\">\n    <path clip-path=\"url(#pdec8aa8e93)\" d=\"M 185.955 224.64 \nL 191.535 224.64 \nL 191.535 84.919518 \nL 185.955 84.919518 \nz\n\" style=\"fill:#1f77b4;\"/>\n   </g>\n   <g id=\"patch_18\">\n    <path clip-path=\"url(#pdec8aa8e93)\" d=\"M 197.115 224.64 \nL 202.695 224.64 \nL 202.695 87.414527 \nL 197.115 87.414527 \nz\n\" style=\"fill:#1f77b4;\"/>\n   </g>\n   <g id=\"patch_19\">\n    <path clip-path=\"url(#pdec8aa8e93)\" d=\"M 208.275 224.64 \nL 213.855 224.64 \nL 213.855 87.414527 \nL 208.275 87.414527 \nz\n\" style=\"fill:#1f77b4;\"/>\n   </g>\n   <g id=\"patch_20\">\n    <path clip-path=\"url(#pdec8aa8e93)\" d=\"M 219.435 224.64 \nL 225.015 224.64 \nL 225.015 97.394561 \nL 219.435 97.394561 \nz\n\" style=\"fill:#1f77b4;\"/>\n   </g>\n   <g id=\"patch_21\">\n    <path clip-path=\"url(#pdec8aa8e93)\" d=\"M 230.595 224.64 \nL 236.175 224.64 \nL 236.175 99.88957 \nL 230.595 99.88957 \nz\n\" style=\"fill:#1f77b4;\"/>\n   </g>\n   <g id=\"patch_22\">\n    <path clip-path=\"url(#pdec8aa8e93)\" d=\"M 241.755 224.64 \nL 247.335 224.64 \nL 247.335 114.859621 \nL 241.755 114.859621 \nz\n\" style=\"fill:#1f77b4;\"/>\n   </g>\n   <g id=\"patch_23\">\n    <path clip-path=\"url(#pdec8aa8e93)\" d=\"M 252.915 224.64 \nL 258.495 224.64 \nL 258.495 117.35463 \nL 252.915 117.35463 \nz\n\" style=\"fill:#1f77b4;\"/>\n   </g>\n   <g id=\"patch_24\">\n    <path clip-path=\"url(#pdec8aa8e93)\" d=\"M 264.075 224.64 \nL 269.655 224.64 \nL 269.655 122.344647 \nL 264.075 122.344647 \nz\n\" style=\"fill:#1f77b4;\"/>\n   </g>\n   <g id=\"patch_25\">\n    <path clip-path=\"url(#pdec8aa8e93)\" d=\"M 275.235 224.64 \nL 280.815 224.64 \nL 280.815 124.839656 \nL 275.235 124.839656 \nz\n\" style=\"fill:#1f77b4;\"/>\n   </g>\n   <g id=\"patch_26\">\n    <path clip-path=\"url(#pdec8aa8e93)\" d=\"M 286.395 224.64 \nL 291.975 224.64 \nL 291.975 127.334664 \nL 286.395 127.334664 \nz\n\" style=\"fill:#1f77b4;\"/>\n   </g>\n   <g id=\"patch_27\">\n    <path clip-path=\"url(#pdec8aa8e93)\" d=\"M 297.555 224.64 \nL 303.135 224.64 \nL 303.135 127.334664 \nL 297.555 127.334664 \nz\n\" style=\"fill:#1f77b4;\"/>\n   </g>\n   <g id=\"patch_28\">\n    <path clip-path=\"url(#pdec8aa8e93)\" d=\"M 308.715 224.64 \nL 314.295 224.64 \nL 314.295 127.334664 \nL 308.715 127.334664 \nz\n\" style=\"fill:#1f77b4;\"/>\n   </g>\n   <g id=\"patch_29\">\n    <path clip-path=\"url(#pdec8aa8e93)\" d=\"M 319.875 224.64 \nL 325.455 224.64 \nL 325.455 127.334664 \nL 319.875 127.334664 \nz\n\" style=\"fill:#1f77b4;\"/>\n   </g>\n   <g id=\"patch_30\">\n    <path clip-path=\"url(#pdec8aa8e93)\" d=\"M 331.035 224.64 \nL 336.615 224.64 \nL 336.615 127.334664 \nL 331.035 127.334664 \nz\n\" style=\"fill:#1f77b4;\"/>\n   </g>\n   <g id=\"patch_31\">\n    <path clip-path=\"url(#pdec8aa8e93)\" d=\"M 342.195 224.64 \nL 347.775 224.64 \nL 347.775 127.334664 \nL 342.195 127.334664 \nz\n\" style=\"fill:#1f77b4;\"/>\n   </g>\n   <g id=\"patch_32\">\n    <path clip-path=\"url(#pdec8aa8e93)\" d=\"M 353.355 224.64 \nL 358.935 224.64 \nL 358.935 132.324682 \nL 353.355 132.324682 \nz\n\" style=\"fill:#1f77b4;\"/>\n   </g>\n   <g id=\"matplotlib.axis_1\">\n    <g id=\"xtick_1\">\n     <g id=\"line2d_1\">\n      <defs>\n       <path d=\"M 0 0 \nL 0 3.5 \n\" id=\"mb144f49757\" style=\"stroke:#000000;stroke-width:0.8;\"/>\n      </defs>\n      <g>\n       <use style=\"stroke:#000000;stroke-width:0.8;\" x=\"32.505\" xlink:href=\"#mb144f49757\" y=\"224.64\"/>\n      </g>\n     </g>\n     <g id=\"text_1\">\n      <!-- C0520679 -->\n      <g transform=\"translate(35.264375 283.160312)rotate(-90)scale(0.1 -0.1)\">\n       <defs>\n        <path d=\"M 4122 4306 \nL 4122 3641 \nQ 3803 3938 3442 4084 \nQ 3081 4231 2675 4231 \nQ 1875 4231 1450 3742 \nQ 1025 3253 1025 2328 \nQ 1025 1406 1450 917 \nQ 1875 428 2675 428 \nQ 3081 428 3442 575 \nQ 3803 722 4122 1019 \nL 4122 359 \nQ 3791 134 3420 21 \nQ 3050 -91 2638 -91 \nQ 1578 -91 968 557 \nQ 359 1206 359 2328 \nQ 359 3453 968 4101 \nQ 1578 4750 2638 4750 \nQ 3056 4750 3426 4639 \nQ 3797 4528 4122 4306 \nz\n\" id=\"DejaVuSans-43\" transform=\"scale(0.015625)\"/>\n        <path d=\"M 2034 4250 \nQ 1547 4250 1301 3770 \nQ 1056 3291 1056 2328 \nQ 1056 1369 1301 889 \nQ 1547 409 2034 409 \nQ 2525 409 2770 889 \nQ 3016 1369 3016 2328 \nQ 3016 3291 2770 3770 \nQ 2525 4250 2034 4250 \nz\nM 2034 4750 \nQ 2819 4750 3233 4129 \nQ 3647 3509 3647 2328 \nQ 3647 1150 3233 529 \nQ 2819 -91 2034 -91 \nQ 1250 -91 836 529 \nQ 422 1150 422 2328 \nQ 422 3509 836 4129 \nQ 1250 4750 2034 4750 \nz\n\" id=\"DejaVuSans-30\" transform=\"scale(0.015625)\"/>\n        <path d=\"M 691 4666 \nL 3169 4666 \nL 3169 4134 \nL 1269 4134 \nL 1269 2991 \nQ 1406 3038 1543 3061 \nQ 1681 3084 1819 3084 \nQ 2600 3084 3056 2656 \nQ 3513 2228 3513 1497 \nQ 3513 744 3044 326 \nQ 2575 -91 1722 -91 \nQ 1428 -91 1123 -41 \nQ 819 9 494 109 \nL 494 744 \nQ 775 591 1075 516 \nQ 1375 441 1709 441 \nQ 2250 441 2565 725 \nQ 2881 1009 2881 1497 \nQ 2881 1984 2565 2268 \nQ 2250 2553 1709 2553 \nQ 1456 2553 1204 2497 \nQ 953 2441 691 2322 \nL 691 4666 \nz\n\" id=\"DejaVuSans-35\" transform=\"scale(0.015625)\"/>\n        <path d=\"M 1228 531 \nL 3431 531 \nL 3431 0 \nL 469 0 \nL 469 531 \nQ 828 903 1448 1529 \nQ 2069 2156 2228 2338 \nQ 2531 2678 2651 2914 \nQ 2772 3150 2772 3378 \nQ 2772 3750 2511 3984 \nQ 2250 4219 1831 4219 \nQ 1534 4219 1204 4116 \nQ 875 4013 500 3803 \nL 500 4441 \nQ 881 4594 1212 4672 \nQ 1544 4750 1819 4750 \nQ 2544 4750 2975 4387 \nQ 3406 4025 3406 3419 \nQ 3406 3131 3298 2873 \nQ 3191 2616 2906 2266 \nQ 2828 2175 2409 1742 \nQ 1991 1309 1228 531 \nz\n\" id=\"DejaVuSans-32\" transform=\"scale(0.015625)\"/>\n        <path d=\"M 2113 2584 \nQ 1688 2584 1439 2293 \nQ 1191 2003 1191 1497 \nQ 1191 994 1439 701 \nQ 1688 409 2113 409 \nQ 2538 409 2786 701 \nQ 3034 994 3034 1497 \nQ 3034 2003 2786 2293 \nQ 2538 2584 2113 2584 \nz\nM 3366 4563 \nL 3366 3988 \nQ 3128 4100 2886 4159 \nQ 2644 4219 2406 4219 \nQ 1781 4219 1451 3797 \nQ 1122 3375 1075 2522 \nQ 1259 2794 1537 2939 \nQ 1816 3084 2150 3084 \nQ 2853 3084 3261 2657 \nQ 3669 2231 3669 1497 \nQ 3669 778 3244 343 \nQ 2819 -91 2113 -91 \nQ 1303 -91 875 529 \nQ 447 1150 447 2328 \nQ 447 3434 972 4092 \nQ 1497 4750 2381 4750 \nQ 2619 4750 2861 4703 \nQ 3103 4656 3366 4563 \nz\n\" id=\"DejaVuSans-36\" transform=\"scale(0.015625)\"/>\n        <path d=\"M 525 4666 \nL 3525 4666 \nL 3525 4397 \nL 1831 0 \nL 1172 0 \nL 2766 4134 \nL 525 4134 \nL 525 4666 \nz\n\" id=\"DejaVuSans-37\" transform=\"scale(0.015625)\"/>\n        <path d=\"M 703 97 \nL 703 672 \nQ 941 559 1184 500 \nQ 1428 441 1663 441 \nQ 2288 441 2617 861 \nQ 2947 1281 2994 2138 \nQ 2813 1869 2534 1725 \nQ 2256 1581 1919 1581 \nQ 1219 1581 811 2004 \nQ 403 2428 403 3163 \nQ 403 3881 828 4315 \nQ 1253 4750 1959 4750 \nQ 2769 4750 3195 4129 \nQ 3622 3509 3622 2328 \nQ 3622 1225 3098 567 \nQ 2575 -91 1691 -91 \nQ 1453 -91 1209 -44 \nQ 966 3 703 97 \nz\nM 1959 2075 \nQ 2384 2075 2632 2365 \nQ 2881 2656 2881 3163 \nQ 2881 3666 2632 3958 \nQ 2384 4250 1959 4250 \nQ 1534 4250 1286 3958 \nQ 1038 3666 1038 3163 \nQ 1038 2656 1286 2365 \nQ 1534 2075 1959 2075 \nz\n\" id=\"DejaVuSans-39\" transform=\"scale(0.015625)\"/>\n       </defs>\n       <use xlink:href=\"#DejaVuSans-43\"/>\n       <use x=\"69.824219\" xlink:href=\"#DejaVuSans-30\"/>\n       <use x=\"133.447266\" xlink:href=\"#DejaVuSans-35\"/>\n       <use x=\"197.070312\" xlink:href=\"#DejaVuSans-32\"/>\n       <use x=\"260.693359\" xlink:href=\"#DejaVuSans-30\"/>\n       <use x=\"324.316406\" xlink:href=\"#DejaVuSans-36\"/>\n       <use x=\"387.939453\" xlink:href=\"#DejaVuSans-37\"/>\n       <use x=\"451.5625\" xlink:href=\"#DejaVuSans-39\"/>\n      </g>\n     </g>\n    </g>\n    <g id=\"xtick_2\">\n     <g id=\"line2d_2\">\n      <g>\n       <use style=\"stroke:#000000;stroke-width:0.8;\" x=\"43.665\" xlink:href=\"#mb144f49757\" y=\"224.64\"/>\n      </g>\n     </g>\n     <g id=\"text_2\">\n      <!-- C0037315 -->\n      <g transform=\"translate(46.424375 283.160312)rotate(-90)scale(0.1 -0.1)\">\n       <defs>\n        <path d=\"M 2597 2516 \nQ 3050 2419 3304 2112 \nQ 3559 1806 3559 1356 \nQ 3559 666 3084 287 \nQ 2609 -91 1734 -91 \nQ 1441 -91 1130 -33 \nQ 819 25 488 141 \nL 488 750 \nQ 750 597 1062 519 \nQ 1375 441 1716 441 \nQ 2309 441 2620 675 \nQ 2931 909 2931 1356 \nQ 2931 1769 2642 2001 \nQ 2353 2234 1838 2234 \nL 1294 2234 \nL 1294 2753 \nL 1863 2753 \nQ 2328 2753 2575 2939 \nQ 2822 3125 2822 3475 \nQ 2822 3834 2567 4026 \nQ 2313 4219 1838 4219 \nQ 1578 4219 1281 4162 \nQ 984 4106 628 3988 \nL 628 4550 \nQ 988 4650 1302 4700 \nQ 1616 4750 1894 4750 \nQ 2613 4750 3031 4423 \nQ 3450 4097 3450 3541 \nQ 3450 3153 3228 2886 \nQ 3006 2619 2597 2516 \nz\n\" id=\"DejaVuSans-33\" transform=\"scale(0.015625)\"/>\n        <path d=\"M 794 531 \nL 1825 531 \nL 1825 4091 \nL 703 3866 \nL 703 4441 \nL 1819 4666 \nL 2450 4666 \nL 2450 531 \nL 3481 531 \nL 3481 0 \nL 794 0 \nL 794 531 \nz\n\" id=\"DejaVuSans-31\" transform=\"scale(0.015625)\"/>\n       </defs>\n       <use xlink:href=\"#DejaVuSans-43\"/>\n       <use x=\"69.824219\" xlink:href=\"#DejaVuSans-30\"/>\n       <use x=\"133.447266\" xlink:href=\"#DejaVuSans-30\"/>\n       <use x=\"197.070312\" xlink:href=\"#DejaVuSans-33\"/>\n       <use x=\"260.693359\" xlink:href=\"#DejaVuSans-37\"/>\n       <use x=\"324.316406\" xlink:href=\"#DejaVuSans-33\"/>\n       <use x=\"387.939453\" xlink:href=\"#DejaVuSans-31\"/>\n       <use x=\"451.5625\" xlink:href=\"#DejaVuSans-35\"/>\n      </g>\n     </g>\n    </g>\n    <g id=\"xtick_3\">\n     <g id=\"line2d_3\">\n      <g>\n       <use style=\"stroke:#000000;stroke-width:0.8;\" x=\"54.825\" xlink:href=\"#mb144f49757\" y=\"224.64\"/>\n      </g>\n     </g>\n     <g id=\"text_3\">\n      <!-- C1332550 -->\n      <g transform=\"translate(57.584375 283.160312)rotate(-90)scale(0.1 -0.1)\">\n       <use xlink:href=\"#DejaVuSans-43\"/>\n       <use x=\"69.824219\" xlink:href=\"#DejaVuSans-31\"/>\n       <use x=\"133.447266\" xlink:href=\"#DejaVuSans-33\"/>\n       <use x=\"197.070312\" xlink:href=\"#DejaVuSans-33\"/>\n       <use x=\"260.693359\" xlink:href=\"#DejaVuSans-32\"/>\n       <use x=\"324.316406\" xlink:href=\"#DejaVuSans-35\"/>\n       <use x=\"387.939453\" xlink:href=\"#DejaVuSans-35\"/>\n       <use x=\"451.5625\" xlink:href=\"#DejaVuSans-30\"/>\n      </g>\n     </g>\n    </g>\n    <g id=\"xtick_4\">\n     <g id=\"line2d_4\">\n      <g>\n       <use style=\"stroke:#000000;stroke-width:0.8;\" x=\"65.985\" xlink:href=\"#mb144f49757\" y=\"224.64\"/>\n      </g>\n     </g>\n     <g id=\"text_4\">\n      <!-- C0459680 -->\n      <g transform=\"translate(68.744375 283.160312)rotate(-90)scale(0.1 -0.1)\">\n       <defs>\n        <path d=\"M 2419 4116 \nL 825 1625 \nL 2419 1625 \nL 2419 4116 \nz\nM 2253 4666 \nL 3047 4666 \nL 3047 1625 \nL 3713 1625 \nL 3713 1100 \nL 3047 1100 \nL 3047 0 \nL 2419 0 \nL 2419 1100 \nL 313 1100 \nL 313 1709 \nL 2253 4666 \nz\n\" id=\"DejaVuSans-34\" transform=\"scale(0.015625)\"/>\n        <path d=\"M 2034 2216 \nQ 1584 2216 1326 1975 \nQ 1069 1734 1069 1313 \nQ 1069 891 1326 650 \nQ 1584 409 2034 409 \nQ 2484 409 2743 651 \nQ 3003 894 3003 1313 \nQ 3003 1734 2745 1975 \nQ 2488 2216 2034 2216 \nz\nM 1403 2484 \nQ 997 2584 770 2862 \nQ 544 3141 544 3541 \nQ 544 4100 942 4425 \nQ 1341 4750 2034 4750 \nQ 2731 4750 3128 4425 \nQ 3525 4100 3525 3541 \nQ 3525 3141 3298 2862 \nQ 3072 2584 2669 2484 \nQ 3125 2378 3379 2068 \nQ 3634 1759 3634 1313 \nQ 3634 634 3220 271 \nQ 2806 -91 2034 -91 \nQ 1263 -91 848 271 \nQ 434 634 434 1313 \nQ 434 1759 690 2068 \nQ 947 2378 1403 2484 \nz\nM 1172 3481 \nQ 1172 3119 1398 2916 \nQ 1625 2713 2034 2713 \nQ 2441 2713 2670 2916 \nQ 2900 3119 2900 3481 \nQ 2900 3844 2670 4047 \nQ 2441 4250 2034 4250 \nQ 1625 4250 1398 4047 \nQ 1172 3844 1172 3481 \nz\n\" id=\"DejaVuSans-38\" transform=\"scale(0.015625)\"/>\n       </defs>\n       <use xlink:href=\"#DejaVuSans-43\"/>\n       <use x=\"69.824219\" xlink:href=\"#DejaVuSans-30\"/>\n       <use x=\"133.447266\" xlink:href=\"#DejaVuSans-34\"/>\n       <use x=\"197.070312\" xlink:href=\"#DejaVuSans-35\"/>\n       <use x=\"260.693359\" xlink:href=\"#DejaVuSans-39\"/>\n       <use x=\"324.316406\" xlink:href=\"#DejaVuSans-36\"/>\n       <use x=\"387.939453\" xlink:href=\"#DejaVuSans-38\"/>\n       <use x=\"451.5625\" xlink:href=\"#DejaVuSans-30\"/>\n      </g>\n     </g>\n    </g>\n    <g id=\"xtick_5\">\n     <g id=\"line2d_5\">\n      <g>\n       <use style=\"stroke:#000000;stroke-width:0.8;\" x=\"77.145\" xlink:href=\"#mb144f49757\" y=\"224.64\"/>\n      </g>\n     </g>\n     <g id=\"text_5\">\n      <!-- C0238767 -->\n      <g transform=\"translate(79.904375 283.160312)rotate(-90)scale(0.1 -0.1)\">\n       <use xlink:href=\"#DejaVuSans-43\"/>\n       <use x=\"69.824219\" xlink:href=\"#DejaVuSans-30\"/>\n       <use x=\"133.447266\" xlink:href=\"#DejaVuSans-32\"/>\n       <use x=\"197.070312\" xlink:href=\"#DejaVuSans-33\"/>\n       <use x=\"260.693359\" xlink:href=\"#DejaVuSans-38\"/>\n       <use x=\"324.316406\" xlink:href=\"#DejaVuSans-37\"/>\n       <use x=\"387.939453\" xlink:href=\"#DejaVuSans-36\"/>\n       <use x=\"451.5625\" xlink:href=\"#DejaVuSans-37\"/>\n      </g>\n     </g>\n    </g>\n    <g id=\"xtick_6\">\n     <g id=\"line2d_6\">\n      <g>\n       <use style=\"stroke:#000000;stroke-width:0.8;\" x=\"88.305\" xlink:href=\"#mb144f49757\" y=\"224.64\"/>\n      </g>\n     </g>\n     <g id=\"text_6\">\n      <!-- C0038454 -->\n      <g transform=\"translate(91.064375 283.160312)rotate(-90)scale(0.1 -0.1)\">\n       <use xlink:href=\"#DejaVuSans-43\"/>\n       <use x=\"69.824219\" xlink:href=\"#DejaVuSans-30\"/>\n       <use x=\"133.447266\" xlink:href=\"#DejaVuSans-30\"/>\n       <use x=\"197.070312\" xlink:href=\"#DejaVuSans-33\"/>\n       <use x=\"260.693359\" xlink:href=\"#DejaVuSans-38\"/>\n       <use x=\"324.316406\" xlink:href=\"#DejaVuSans-34\"/>\n       <use x=\"387.939453\" xlink:href=\"#DejaVuSans-35\"/>\n       <use x=\"451.5625\" xlink:href=\"#DejaVuSans-34\"/>\n      </g>\n     </g>\n    </g>\n    <g id=\"xtick_7\">\n     <g id=\"line2d_7\">\n      <g>\n       <use style=\"stroke:#000000;stroke-width:0.8;\" x=\"99.465\" xlink:href=\"#mb144f49757\" y=\"224.64\"/>\n      </g>\n     </g>\n     <g id=\"text_7\">\n      <!-- C0457801 -->\n      <g transform=\"translate(102.224375 283.160312)rotate(-90)scale(0.1 -0.1)\">\n       <use xlink:href=\"#DejaVuSans-43\"/>\n       <use x=\"69.824219\" xlink:href=\"#DejaVuSans-30\"/>\n       <use x=\"133.447266\" xlink:href=\"#DejaVuSans-34\"/>\n       <use x=\"197.070312\" xlink:href=\"#DejaVuSans-35\"/>\n       <use x=\"260.693359\" xlink:href=\"#DejaVuSans-37\"/>\n       <use x=\"324.316406\" xlink:href=\"#DejaVuSans-38\"/>\n       <use x=\"387.939453\" xlink:href=\"#DejaVuSans-30\"/>\n       <use x=\"451.5625\" xlink:href=\"#DejaVuSans-31\"/>\n      </g>\n     </g>\n    </g>\n    <g id=\"xtick_8\">\n     <g id=\"line2d_8\">\n      <g>\n       <use style=\"stroke:#000000;stroke-width:0.8;\" x=\"110.625\" xlink:href=\"#mb144f49757\" y=\"224.64\"/>\n      </g>\n     </g>\n     <g id=\"text_8\">\n      <!-- C0556338 -->\n      <g transform=\"translate(113.384375 283.160312)rotate(-90)scale(0.1 -0.1)\">\n       <use xlink:href=\"#DejaVuSans-43\"/>\n       <use x=\"69.824219\" xlink:href=\"#DejaVuSans-30\"/>\n       <use x=\"133.447266\" xlink:href=\"#DejaVuSans-35\"/>\n       <use x=\"197.070312\" xlink:href=\"#DejaVuSans-35\"/>\n       <use x=\"260.693359\" xlink:href=\"#DejaVuSans-36\"/>\n       <use x=\"324.316406\" xlink:href=\"#DejaVuSans-33\"/>\n       <use x=\"387.939453\" xlink:href=\"#DejaVuSans-33\"/>\n       <use x=\"451.5625\" xlink:href=\"#DejaVuSans-38\"/>\n      </g>\n     </g>\n    </g>\n    <g id=\"xtick_9\">\n     <g id=\"line2d_9\">\n      <g>\n       <use style=\"stroke:#000000;stroke-width:0.8;\" x=\"121.785\" xlink:href=\"#mb144f49757\" y=\"224.64\"/>\n      </g>\n     </g>\n     <g id=\"text_9\">\n      <!-- C0556317 -->\n      <g transform=\"translate(124.544375 283.160312)rotate(-90)scale(0.1 -0.1)\">\n       <use xlink:href=\"#DejaVuSans-43\"/>\n       <use x=\"69.824219\" xlink:href=\"#DejaVuSans-30\"/>\n       <use x=\"133.447266\" xlink:href=\"#DejaVuSans-35\"/>\n       <use x=\"197.070312\" xlink:href=\"#DejaVuSans-35\"/>\n       <use x=\"260.693359\" xlink:href=\"#DejaVuSans-36\"/>\n       <use x=\"324.316406\" xlink:href=\"#DejaVuSans-33\"/>\n       <use x=\"387.939453\" xlink:href=\"#DejaVuSans-31\"/>\n       <use x=\"451.5625\" xlink:href=\"#DejaVuSans-37\"/>\n      </g>\n     </g>\n    </g>\n    <g id=\"xtick_10\">\n     <g id=\"line2d_10\">\n      <g>\n       <use style=\"stroke:#000000;stroke-width:0.8;\" x=\"132.945\" xlink:href=\"#mb144f49757\" y=\"224.64\"/>\n      </g>\n     </g>\n     <g id=\"text_10\">\n      <!-- C0886296 -->\n      <g transform=\"translate(135.704375 283.160312)rotate(-90)scale(0.1 -0.1)\">\n       <use xlink:href=\"#DejaVuSans-43\"/>\n       <use x=\"69.824219\" xlink:href=\"#DejaVuSans-30\"/>\n       <use x=\"133.447266\" xlink:href=\"#DejaVuSans-38\"/>\n       <use x=\"197.070312\" xlink:href=\"#DejaVuSans-38\"/>\n       <use x=\"260.693359\" xlink:href=\"#DejaVuSans-36\"/>\n       <use x=\"324.316406\" xlink:href=\"#DejaVuSans-32\"/>\n       <use x=\"387.939453\" xlink:href=\"#DejaVuSans-39\"/>\n       <use x=\"451.5625\" xlink:href=\"#DejaVuSans-36\"/>\n      </g>\n     </g>\n    </g>\n    <g id=\"xtick_11\">\n     <g id=\"line2d_11\">\n      <g>\n       <use style=\"stroke:#000000;stroke-width:0.8;\" x=\"144.105\" xlink:href=\"#mb144f49757\" y=\"224.64\"/>\n      </g>\n     </g>\n     <g id=\"text_11\">\n      <!-- C0022066 -->\n      <g transform=\"translate(146.864375 283.160312)rotate(-90)scale(0.1 -0.1)\">\n       <use xlink:href=\"#DejaVuSans-43\"/>\n       <use x=\"69.824219\" xlink:href=\"#DejaVuSans-30\"/>\n       <use x=\"133.447266\" xlink:href=\"#DejaVuSans-30\"/>\n       <use x=\"197.070312\" xlink:href=\"#DejaVuSans-32\"/>\n       <use x=\"260.693359\" xlink:href=\"#DejaVuSans-32\"/>\n       <use x=\"324.316406\" xlink:href=\"#DejaVuSans-30\"/>\n       <use x=\"387.939453\" xlink:href=\"#DejaVuSans-36\"/>\n       <use x=\"451.5625\" xlink:href=\"#DejaVuSans-36\"/>\n      </g>\n     </g>\n    </g>\n    <g id=\"xtick_12\">\n     <g id=\"line2d_12\">\n      <g>\n       <use style=\"stroke:#000000;stroke-width:0.8;\" x=\"155.265\" xlink:href=\"#mb144f49757\" y=\"224.64\"/>\n      </g>\n     </g>\n     <g id=\"text_12\">\n      <!-- C0456149 -->\n      <g transform=\"translate(158.024375 283.160312)rotate(-90)scale(0.1 -0.1)\">\n       <use xlink:href=\"#DejaVuSans-43\"/>\n       <use x=\"69.824219\" xlink:href=\"#DejaVuSans-30\"/>\n       <use x=\"133.447266\" xlink:href=\"#DejaVuSans-34\"/>\n       <use x=\"197.070312\" xlink:href=\"#DejaVuSans-35\"/>\n       <use x=\"260.693359\" xlink:href=\"#DejaVuSans-36\"/>\n       <use x=\"324.316406\" xlink:href=\"#DejaVuSans-31\"/>\n       <use x=\"387.939453\" xlink:href=\"#DejaVuSans-34\"/>\n       <use x=\"451.5625\" xlink:href=\"#DejaVuSans-39\"/>\n      </g>\n     </g>\n    </g>\n    <g id=\"xtick_13\">\n     <g id=\"line2d_13\">\n      <g>\n       <use style=\"stroke:#000000;stroke-width:0.8;\" x=\"166.425\" xlink:href=\"#mb144f49757\" y=\"224.64\"/>\n      </g>\n     </g>\n     <g id=\"text_13\">\n      <!-- C1312059 -->\n      <g transform=\"translate(169.184375 283.160312)rotate(-90)scale(0.1 -0.1)\">\n       <use xlink:href=\"#DejaVuSans-43\"/>\n       <use x=\"69.824219\" xlink:href=\"#DejaVuSans-31\"/>\n       <use x=\"133.447266\" xlink:href=\"#DejaVuSans-33\"/>\n       <use x=\"197.070312\" xlink:href=\"#DejaVuSans-31\"/>\n       <use x=\"260.693359\" xlink:href=\"#DejaVuSans-32\"/>\n       <use x=\"324.316406\" xlink:href=\"#DejaVuSans-30\"/>\n       <use x=\"387.939453\" xlink:href=\"#DejaVuSans-35\"/>\n       <use x=\"451.5625\" xlink:href=\"#DejaVuSans-39\"/>\n      </g>\n     </g>\n    </g>\n    <g id=\"xtick_14\">\n     <g id=\"line2d_14\">\n      <g>\n       <use style=\"stroke:#000000;stroke-width:0.8;\" x=\"177.585\" xlink:href=\"#mb144f49757\" y=\"224.64\"/>\n      </g>\n     </g>\n     <g id=\"text_14\">\n      <!-- C0019294 -->\n      <g transform=\"translate(180.344375 283.160312)rotate(-90)scale(0.1 -0.1)\">\n       <use xlink:href=\"#DejaVuSans-43\"/>\n       <use x=\"69.824219\" xlink:href=\"#DejaVuSans-30\"/>\n       <use x=\"133.447266\" xlink:href=\"#DejaVuSans-30\"/>\n       <use x=\"197.070312\" xlink:href=\"#DejaVuSans-31\"/>\n       <use x=\"260.693359\" xlink:href=\"#DejaVuSans-39\"/>\n       <use x=\"324.316406\" xlink:href=\"#DejaVuSans-32\"/>\n       <use x=\"387.939453\" xlink:href=\"#DejaVuSans-39\"/>\n       <use x=\"451.5625\" xlink:href=\"#DejaVuSans-34\"/>\n      </g>\n     </g>\n    </g>\n    <g id=\"xtick_15\">\n     <g id=\"line2d_15\">\n      <g>\n       <use style=\"stroke:#000000;stroke-width:0.8;\" x=\"188.745\" xlink:href=\"#mb144f49757\" y=\"224.64\"/>\n      </g>\n     </g>\n     <g id=\"text_15\">\n      <!-- C0543467 -->\n      <g transform=\"translate(191.504375 283.160312)rotate(-90)scale(0.1 -0.1)\">\n       <use xlink:href=\"#DejaVuSans-43\"/>\n       <use x=\"69.824219\" xlink:href=\"#DejaVuSans-30\"/>\n       <use x=\"133.447266\" xlink:href=\"#DejaVuSans-35\"/>\n       <use x=\"197.070312\" xlink:href=\"#DejaVuSans-34\"/>\n       <use x=\"260.693359\" xlink:href=\"#DejaVuSans-33\"/>\n       <use x=\"324.316406\" xlink:href=\"#DejaVuSans-34\"/>\n       <use x=\"387.939453\" xlink:href=\"#DejaVuSans-36\"/>\n       <use x=\"451.5625\" xlink:href=\"#DejaVuSans-37\"/>\n      </g>\n     </g>\n    </g>\n    <g id=\"xtick_16\">\n     <g id=\"line2d_16\">\n      <g>\n       <use style=\"stroke:#000000;stroke-width:0.8;\" x=\"199.905\" xlink:href=\"#mb144f49757\" y=\"224.64\"/>\n      </g>\n     </g>\n     <g id=\"text_16\">\n      <!-- C0020517 -->\n      <g transform=\"translate(202.664375 283.160312)rotate(-90)scale(0.1 -0.1)\">\n       <use xlink:href=\"#DejaVuSans-43\"/>\n       <use x=\"69.824219\" xlink:href=\"#DejaVuSans-30\"/>\n       <use x=\"133.447266\" xlink:href=\"#DejaVuSans-30\"/>\n       <use x=\"197.070312\" xlink:href=\"#DejaVuSans-32\"/>\n       <use x=\"260.693359\" xlink:href=\"#DejaVuSans-30\"/>\n       <use x=\"324.316406\" xlink:href=\"#DejaVuSans-35\"/>\n       <use x=\"387.939453\" xlink:href=\"#DejaVuSans-31\"/>\n       <use x=\"451.5625\" xlink:href=\"#DejaVuSans-37\"/>\n      </g>\n     </g>\n    </g>\n    <g id=\"xtick_17\">\n     <g id=\"line2d_17\">\n      <g>\n       <use style=\"stroke:#000000;stroke-width:0.8;\" x=\"211.065\" xlink:href=\"#mb144f49757\" y=\"224.64\"/>\n      </g>\n     </g>\n     <g id=\"text_17\">\n      <!-- C0262537 -->\n      <g transform=\"translate(213.824375 283.160312)rotate(-90)scale(0.1 -0.1)\">\n       <use xlink:href=\"#DejaVuSans-43\"/>\n       <use x=\"69.824219\" xlink:href=\"#DejaVuSans-30\"/>\n       <use x=\"133.447266\" xlink:href=\"#DejaVuSans-32\"/>\n       <use x=\"197.070312\" xlink:href=\"#DejaVuSans-36\"/>\n       <use x=\"260.693359\" xlink:href=\"#DejaVuSans-32\"/>\n       <use x=\"324.316406\" xlink:href=\"#DejaVuSans-35\"/>\n       <use x=\"387.939453\" xlink:href=\"#DejaVuSans-33\"/>\n       <use x=\"451.5625\" xlink:href=\"#DejaVuSans-37\"/>\n      </g>\n     </g>\n    </g>\n    <g id=\"xtick_18\">\n     <g id=\"line2d_18\">\n      <g>\n       <use style=\"stroke:#000000;stroke-width:0.8;\" x=\"222.225\" xlink:href=\"#mb144f49757\" y=\"224.64\"/>\n      </g>\n     </g>\n     <g id=\"text_18\">\n      <!-- C3242339 -->\n      <g transform=\"translate(224.984375 283.160312)rotate(-90)scale(0.1 -0.1)\">\n       <use xlink:href=\"#DejaVuSans-43\"/>\n       <use x=\"69.824219\" xlink:href=\"#DejaVuSans-33\"/>\n       <use x=\"133.447266\" xlink:href=\"#DejaVuSans-32\"/>\n       <use x=\"197.070312\" xlink:href=\"#DejaVuSans-34\"/>\n       <use x=\"260.693359\" xlink:href=\"#DejaVuSans-32\"/>\n       <use x=\"324.316406\" xlink:href=\"#DejaVuSans-33\"/>\n       <use x=\"387.939453\" xlink:href=\"#DejaVuSans-33\"/>\n       <use x=\"451.5625\" xlink:href=\"#DejaVuSans-39\"/>\n      </g>\n     </g>\n    </g>\n    <g id=\"xtick_19\">\n     <g id=\"line2d_19\">\n      <g>\n       <use style=\"stroke:#000000;stroke-width:0.8;\" x=\"233.385\" xlink:href=\"#mb144f49757\" y=\"224.64\"/>\n      </g>\n     </g>\n     <g id=\"text_19\">\n      <!-- C0019295 -->\n      <g transform=\"translate(236.144375 283.160312)rotate(-90)scale(0.1 -0.1)\">\n       <use xlink:href=\"#DejaVuSans-43\"/>\n       <use x=\"69.824219\" xlink:href=\"#DejaVuSans-30\"/>\n       <use x=\"133.447266\" xlink:href=\"#DejaVuSans-30\"/>\n       <use x=\"197.070312\" xlink:href=\"#DejaVuSans-31\"/>\n       <use x=\"260.693359\" xlink:href=\"#DejaVuSans-39\"/>\n       <use x=\"324.316406\" xlink:href=\"#DejaVuSans-32\"/>\n       <use x=\"387.939453\" xlink:href=\"#DejaVuSans-39\"/>\n       <use x=\"451.5625\" xlink:href=\"#DejaVuSans-35\"/>\n      </g>\n     </g>\n    </g>\n    <g id=\"xtick_20\">\n     <g id=\"line2d_20\">\n      <g>\n       <use style=\"stroke:#000000;stroke-width:0.8;\" x=\"244.545\" xlink:href=\"#mb144f49757\" y=\"224.64\"/>\n      </g>\n     </g>\n     <g id=\"text_20\">\n      <!-- C0029408 -->\n      <g transform=\"translate(247.304375 283.160312)rotate(-90)scale(0.1 -0.1)\">\n       <use xlink:href=\"#DejaVuSans-43\"/>\n       <use x=\"69.824219\" xlink:href=\"#DejaVuSans-30\"/>\n       <use x=\"133.447266\" xlink:href=\"#DejaVuSans-30\"/>\n       <use x=\"197.070312\" xlink:href=\"#DejaVuSans-32\"/>\n       <use x=\"260.693359\" xlink:href=\"#DejaVuSans-39\"/>\n       <use x=\"324.316406\" xlink:href=\"#DejaVuSans-34\"/>\n       <use x=\"387.939453\" xlink:href=\"#DejaVuSans-30\"/>\n       <use x=\"451.5625\" xlink:href=\"#DejaVuSans-38\"/>\n      </g>\n     </g>\n    </g>\n    <g id=\"xtick_21\">\n     <g id=\"line2d_21\">\n      <g>\n       <use style=\"stroke:#000000;stroke-width:0.8;\" x=\"255.705\" xlink:href=\"#mb144f49757\" y=\"224.64\"/>\n      </g>\n     </g>\n     <g id=\"text_21\">\n      <!-- C4554100 -->\n      <g transform=\"translate(258.464375 283.160312)rotate(-90)scale(0.1 -0.1)\">\n       <use xlink:href=\"#DejaVuSans-43\"/>\n       <use x=\"69.824219\" xlink:href=\"#DejaVuSans-34\"/>\n       <use x=\"133.447266\" xlink:href=\"#DejaVuSans-35\"/>\n       <use x=\"197.070312\" xlink:href=\"#DejaVuSans-35\"/>\n       <use x=\"260.693359\" xlink:href=\"#DejaVuSans-34\"/>\n       <use x=\"324.316406\" xlink:href=\"#DejaVuSans-31\"/>\n       <use x=\"387.939453\" xlink:href=\"#DejaVuSans-30\"/>\n       <use x=\"451.5625\" xlink:href=\"#DejaVuSans-30\"/>\n      </g>\n     </g>\n    </g>\n    <g id=\"xtick_22\">\n     <g id=\"line2d_22\">\n      <g>\n       <use style=\"stroke:#000000;stroke-width:0.8;\" x=\"266.865\" xlink:href=\"#mb144f49757\" y=\"224.64\"/>\n      </g>\n     </g>\n     <g id=\"text_22\">\n      <!-- C0018844 -->\n      <g transform=\"translate(269.624375 283.160312)rotate(-90)scale(0.1 -0.1)\">\n       <use xlink:href=\"#DejaVuSans-43\"/>\n       <use x=\"69.824219\" xlink:href=\"#DejaVuSans-30\"/>\n       <use x=\"133.447266\" xlink:href=\"#DejaVuSans-30\"/>\n       <use x=\"197.070312\" xlink:href=\"#DejaVuSans-31\"/>\n       <use x=\"260.693359\" xlink:href=\"#DejaVuSans-38\"/>\n       <use x=\"324.316406\" xlink:href=\"#DejaVuSans-38\"/>\n       <use x=\"387.939453\" xlink:href=\"#DejaVuSans-34\"/>\n       <use x=\"451.5625\" xlink:href=\"#DejaVuSans-34\"/>\n      </g>\n     </g>\n    </g>\n    <g id=\"xtick_23\">\n     <g id=\"line2d_23\">\n      <g>\n       <use style=\"stroke:#000000;stroke-width:0.8;\" x=\"278.025\" xlink:href=\"#mb144f49757\" y=\"224.64\"/>\n      </g>\n     </g>\n     <g id=\"text_23\">\n      <!-- C0086543 -->\n      <g transform=\"translate(280.784375 283.160312)rotate(-90)scale(0.1 -0.1)\">\n       <use xlink:href=\"#DejaVuSans-43\"/>\n       <use x=\"69.824219\" xlink:href=\"#DejaVuSans-30\"/>\n       <use x=\"133.447266\" xlink:href=\"#DejaVuSans-30\"/>\n       <use x=\"197.070312\" xlink:href=\"#DejaVuSans-38\"/>\n       <use x=\"260.693359\" xlink:href=\"#DejaVuSans-36\"/>\n       <use x=\"324.316406\" xlink:href=\"#DejaVuSans-35\"/>\n       <use x=\"387.939453\" xlink:href=\"#DejaVuSans-34\"/>\n       <use x=\"451.5625\" xlink:href=\"#DejaVuSans-33\"/>\n      </g>\n     </g>\n    </g>\n    <g id=\"xtick_24\">\n     <g id=\"line2d_24\">\n      <g>\n       <use style=\"stroke:#000000;stroke-width:0.8;\" x=\"289.185\" xlink:href=\"#mb144f49757\" y=\"224.64\"/>\n      </g>\n     </g>\n     <g id=\"text_24\">\n      <!-- C1547231 -->\n      <g transform=\"translate(291.944375 283.160312)rotate(-90)scale(0.1 -0.1)\">\n       <use xlink:href=\"#DejaVuSans-43\"/>\n       <use x=\"69.824219\" xlink:href=\"#DejaVuSans-31\"/>\n       <use x=\"133.447266\" xlink:href=\"#DejaVuSans-35\"/>\n       <use x=\"197.070312\" xlink:href=\"#DejaVuSans-34\"/>\n       <use x=\"260.693359\" xlink:href=\"#DejaVuSans-37\"/>\n       <use x=\"324.316406\" xlink:href=\"#DejaVuSans-32\"/>\n       <use x=\"387.939453\" xlink:href=\"#DejaVuSans-33\"/>\n       <use x=\"451.5625\" xlink:href=\"#DejaVuSans-31\"/>\n      </g>\n     </g>\n    </g>\n    <g id=\"xtick_25\">\n     <g id=\"line2d_25\">\n      <g>\n       <use style=\"stroke:#000000;stroke-width:0.8;\" x=\"300.345\" xlink:href=\"#mb144f49757\" y=\"224.64\"/>\n      </g>\n     </g>\n     <g id=\"text_25\">\n      <!-- C0205082 -->\n      <g transform=\"translate(303.104375 283.160312)rotate(-90)scale(0.1 -0.1)\">\n       <use xlink:href=\"#DejaVuSans-43\"/>\n       <use x=\"69.824219\" xlink:href=\"#DejaVuSans-30\"/>\n       <use x=\"133.447266\" xlink:href=\"#DejaVuSans-32\"/>\n       <use x=\"197.070312\" xlink:href=\"#DejaVuSans-30\"/>\n       <use x=\"260.693359\" xlink:href=\"#DejaVuSans-35\"/>\n       <use x=\"324.316406\" xlink:href=\"#DejaVuSans-30\"/>\n       <use x=\"387.939453\" xlink:href=\"#DejaVuSans-38\"/>\n       <use x=\"451.5625\" xlink:href=\"#DejaVuSans-32\"/>\n      </g>\n     </g>\n    </g>\n    <g id=\"xtick_26\">\n     <g id=\"line2d_26\">\n      <g>\n       <use style=\"stroke:#000000;stroke-width:0.8;\" x=\"311.505\" xlink:href=\"#mb144f49757\" y=\"224.64\"/>\n      </g>\n     </g>\n     <g id=\"text_26\">\n      <!-- C1561581 -->\n      <g transform=\"translate(314.264375 283.160312)rotate(-90)scale(0.1 -0.1)\">\n       <use xlink:href=\"#DejaVuSans-43\"/>\n       <use x=\"69.824219\" xlink:href=\"#DejaVuSans-31\"/>\n       <use x=\"133.447266\" xlink:href=\"#DejaVuSans-35\"/>\n       <use x=\"197.070312\" xlink:href=\"#DejaVuSans-36\"/>\n       <use x=\"260.693359\" xlink:href=\"#DejaVuSans-31\"/>\n       <use x=\"324.316406\" xlink:href=\"#DejaVuSans-35\"/>\n       <use x=\"387.939453\" xlink:href=\"#DejaVuSans-38\"/>\n       <use x=\"451.5625\" xlink:href=\"#DejaVuSans-31\"/>\n      </g>\n     </g>\n    </g>\n    <g id=\"xtick_27\">\n     <g id=\"line2d_27\">\n      <g>\n       <use style=\"stroke:#000000;stroke-width:0.8;\" x=\"322.665\" xlink:href=\"#mb144f49757\" y=\"224.64\"/>\n      </g>\n     </g>\n     <g id=\"text_27\">\n      <!-- C0009368 -->\n      <g transform=\"translate(325.424375 283.160312)rotate(-90)scale(0.1 -0.1)\">\n       <use xlink:href=\"#DejaVuSans-43\"/>\n       <use x=\"69.824219\" xlink:href=\"#DejaVuSans-30\"/>\n       <use x=\"133.447266\" xlink:href=\"#DejaVuSans-30\"/>\n       <use x=\"197.070312\" xlink:href=\"#DejaVuSans-30\"/>\n       <use x=\"260.693359\" xlink:href=\"#DejaVuSans-39\"/>\n       <use x=\"324.316406\" xlink:href=\"#DejaVuSans-33\"/>\n       <use x=\"387.939453\" xlink:href=\"#DejaVuSans-36\"/>\n       <use x=\"451.5625\" xlink:href=\"#DejaVuSans-38\"/>\n      </g>\n     </g>\n    </g>\n    <g id=\"xtick_28\">\n     <g id=\"line2d_28\">\n      <g>\n       <use style=\"stroke:#000000;stroke-width:0.8;\" x=\"333.825\" xlink:href=\"#mb144f49757\" y=\"224.64\"/>\n      </g>\n     </g>\n     <g id=\"text_28\">\n      <!-- C1547227 -->\n      <g transform=\"translate(336.584375 283.160312)rotate(-90)scale(0.1 -0.1)\">\n       <use xlink:href=\"#DejaVuSans-43\"/>\n       <use x=\"69.824219\" xlink:href=\"#DejaVuSans-31\"/>\n       <use x=\"133.447266\" xlink:href=\"#DejaVuSans-35\"/>\n       <use x=\"197.070312\" xlink:href=\"#DejaVuSans-34\"/>\n       <use x=\"260.693359\" xlink:href=\"#DejaVuSans-37\"/>\n       <use x=\"324.316406\" xlink:href=\"#DejaVuSans-32\"/>\n       <use x=\"387.939453\" xlink:href=\"#DejaVuSans-32\"/>\n       <use x=\"451.5625\" xlink:href=\"#DejaVuSans-37\"/>\n      </g>\n     </g>\n    </g>\n    <g id=\"xtick_29\">\n     <g id=\"line2d_29\">\n      <g>\n       <use style=\"stroke:#000000;stroke-width:0.8;\" x=\"344.985\" xlink:href=\"#mb144f49757\" y=\"224.64\"/>\n      </g>\n     </g>\n     <g id=\"text_29\">\n      <!-- C1519275 -->\n      <g transform=\"translate(347.744375 283.160312)rotate(-90)scale(0.1 -0.1)\">\n       <use xlink:href=\"#DejaVuSans-43\"/>\n       <use x=\"69.824219\" xlink:href=\"#DejaVuSans-31\"/>\n       <use x=\"133.447266\" xlink:href=\"#DejaVuSans-35\"/>\n       <use x=\"197.070312\" xlink:href=\"#DejaVuSans-31\"/>\n       <use x=\"260.693359\" xlink:href=\"#DejaVuSans-39\"/>\n       <use x=\"324.316406\" xlink:href=\"#DejaVuSans-32\"/>\n       <use x=\"387.939453\" xlink:href=\"#DejaVuSans-37\"/>\n       <use x=\"451.5625\" xlink:href=\"#DejaVuSans-35\"/>\n      </g>\n     </g>\n    </g>\n    <g id=\"xtick_30\">\n     <g id=\"line2d_30\">\n      <g>\n       <use style=\"stroke:#000000;stroke-width:0.8;\" x=\"356.145\" xlink:href=\"#mb144f49757\" y=\"224.64\"/>\n      </g>\n     </g>\n     <g id=\"text_30\">\n      <!-- C0184661 -->\n      <g transform=\"translate(358.904375 283.160312)rotate(-90)scale(0.1 -0.1)\">\n       <use xlink:href=\"#DejaVuSans-43\"/>\n       <use x=\"69.824219\" xlink:href=\"#DejaVuSans-30\"/>\n       <use x=\"133.447266\" xlink:href=\"#DejaVuSans-31\"/>\n       <use x=\"197.070312\" xlink:href=\"#DejaVuSans-38\"/>\n       <use x=\"260.693359\" xlink:href=\"#DejaVuSans-34\"/>\n       <use x=\"324.316406\" xlink:href=\"#DejaVuSans-36\"/>\n       <use x=\"387.939453\" xlink:href=\"#DejaVuSans-36\"/>\n       <use x=\"451.5625\" xlink:href=\"#DejaVuSans-31\"/>\n      </g>\n     </g>\n    </g>\n    <g id=\"text_31\">\n     <!-- FINAL_CUI -->\n     <g transform=\"translate(168.901563 294.582187)scale(0.1 -0.1)\">\n      <defs>\n       <path d=\"M 628 4666 \nL 3309 4666 \nL 3309 4134 \nL 1259 4134 \nL 1259 2759 \nL 3109 2759 \nL 3109 2228 \nL 1259 2228 \nL 1259 0 \nL 628 0 \nL 628 4666 \nz\n\" id=\"DejaVuSans-46\" transform=\"scale(0.015625)\"/>\n       <path d=\"M 628 4666 \nL 1259 4666 \nL 1259 0 \nL 628 0 \nL 628 4666 \nz\n\" id=\"DejaVuSans-49\" transform=\"scale(0.015625)\"/>\n       <path d=\"M 628 4666 \nL 1478 4666 \nL 3547 763 \nL 3547 4666 \nL 4159 4666 \nL 4159 0 \nL 3309 0 \nL 1241 3903 \nL 1241 0 \nL 628 0 \nL 628 4666 \nz\n\" id=\"DejaVuSans-4e\" transform=\"scale(0.015625)\"/>\n       <path d=\"M 2188 4044 \nL 1331 1722 \nL 3047 1722 \nL 2188 4044 \nz\nM 1831 4666 \nL 2547 4666 \nL 4325 0 \nL 3669 0 \nL 3244 1197 \nL 1141 1197 \nL 716 0 \nL 50 0 \nL 1831 4666 \nz\n\" id=\"DejaVuSans-41\" transform=\"scale(0.015625)\"/>\n       <path d=\"M 628 4666 \nL 1259 4666 \nL 1259 531 \nL 3531 531 \nL 3531 0 \nL 628 0 \nL 628 4666 \nz\n\" id=\"DejaVuSans-4c\" transform=\"scale(0.015625)\"/>\n       <path d=\"M 3263 -1063 \nL 3263 -1509 \nL -63 -1509 \nL -63 -1063 \nL 3263 -1063 \nz\n\" id=\"DejaVuSans-5f\" transform=\"scale(0.015625)\"/>\n       <path d=\"M 556 4666 \nL 1191 4666 \nL 1191 1831 \nQ 1191 1081 1462 751 \nQ 1734 422 2344 422 \nQ 2950 422 3222 751 \nQ 3494 1081 3494 1831 \nL 3494 4666 \nL 4128 4666 \nL 4128 1753 \nQ 4128 841 3676 375 \nQ 3225 -91 2344 -91 \nQ 1459 -91 1007 375 \nQ 556 841 556 1753 \nL 556 4666 \nz\n\" id=\"DejaVuSans-55\" transform=\"scale(0.015625)\"/>\n      </defs>\n      <use xlink:href=\"#DejaVuSans-46\"/>\n      <use x=\"57.519531\" xlink:href=\"#DejaVuSans-49\"/>\n      <use x=\"87.011719\" xlink:href=\"#DejaVuSans-4e\"/>\n      <use x=\"161.816406\" xlink:href=\"#DejaVuSans-41\"/>\n      <use x=\"230.224609\" xlink:href=\"#DejaVuSans-4c\"/>\n      <use x=\"285.9375\" xlink:href=\"#DejaVuSans-5f\"/>\n      <use x=\"335.9375\" xlink:href=\"#DejaVuSans-43\"/>\n      <use x=\"405.761719\" xlink:href=\"#DejaVuSans-55\"/>\n      <use x=\"478.955078\" xlink:href=\"#DejaVuSans-49\"/>\n     </g>\n    </g>\n   </g>\n   <g id=\"matplotlib.axis_2\">\n    <g id=\"ytick_1\">\n     <g id=\"line2d_31\">\n      <defs>\n       <path d=\"M 0 0 \nL -3.5 0 \n\" id=\"m1654107c27\" style=\"stroke:#000000;stroke-width:0.8;\"/>\n      </defs>\n      <g>\n       <use style=\"stroke:#000000;stroke-width:0.8;\" x=\"26.925\" xlink:href=\"#m1654107c27\" y=\"224.64\"/>\n      </g>\n     </g>\n     <g id=\"text_32\">\n      <!-- 0 -->\n      <g transform=\"translate(13.5625 228.439219)scale(0.1 -0.1)\">\n       <use xlink:href=\"#DejaVuSans-30\"/>\n      </g>\n     </g>\n    </g>\n    <g id=\"ytick_2\">\n     <g id=\"line2d_32\">\n      <g>\n       <use style=\"stroke:#000000;stroke-width:0.8;\" x=\"26.925\" xlink:href=\"#m1654107c27\" y=\"199.689914\"/>\n      </g>\n     </g>\n     <g id=\"text_33\">\n      <!-- 10 -->\n      <g transform=\"translate(7.2 203.489133)scale(0.1 -0.1)\">\n       <use xlink:href=\"#DejaVuSans-31\"/>\n       <use x=\"63.623047\" xlink:href=\"#DejaVuSans-30\"/>\n      </g>\n     </g>\n    </g>\n    <g id=\"ytick_3\">\n     <g id=\"line2d_33\">\n      <g>\n       <use style=\"stroke:#000000;stroke-width:0.8;\" x=\"26.925\" xlink:href=\"#m1654107c27\" y=\"174.739828\"/>\n      </g>\n     </g>\n     <g id=\"text_34\">\n      <!-- 20 -->\n      <g transform=\"translate(7.2 178.539047)scale(0.1 -0.1)\">\n       <use xlink:href=\"#DejaVuSans-32\"/>\n       <use x=\"63.623047\" xlink:href=\"#DejaVuSans-30\"/>\n      </g>\n     </g>\n    </g>\n    <g id=\"ytick_4\">\n     <g id=\"line2d_34\">\n      <g>\n       <use style=\"stroke:#000000;stroke-width:0.8;\" x=\"26.925\" xlink:href=\"#m1654107c27\" y=\"149.789742\"/>\n      </g>\n     </g>\n     <g id=\"text_35\">\n      <!-- 30 -->\n      <g transform=\"translate(7.2 153.588961)scale(0.1 -0.1)\">\n       <use xlink:href=\"#DejaVuSans-33\"/>\n       <use x=\"63.623047\" xlink:href=\"#DejaVuSans-30\"/>\n      </g>\n     </g>\n    </g>\n    <g id=\"ytick_5\">\n     <g id=\"line2d_35\">\n      <g>\n       <use style=\"stroke:#000000;stroke-width:0.8;\" x=\"26.925\" xlink:href=\"#m1654107c27\" y=\"124.839656\"/>\n      </g>\n     </g>\n     <g id=\"text_36\">\n      <!-- 40 -->\n      <g transform=\"translate(7.2 128.638875)scale(0.1 -0.1)\">\n       <use xlink:href=\"#DejaVuSans-34\"/>\n       <use x=\"63.623047\" xlink:href=\"#DejaVuSans-30\"/>\n      </g>\n     </g>\n    </g>\n    <g id=\"ytick_6\">\n     <g id=\"line2d_36\">\n      <g>\n       <use style=\"stroke:#000000;stroke-width:0.8;\" x=\"26.925\" xlink:href=\"#m1654107c27\" y=\"99.88957\"/>\n      </g>\n     </g>\n     <g id=\"text_37\">\n      <!-- 50 -->\n      <g transform=\"translate(7.2 103.688788)scale(0.1 -0.1)\">\n       <use xlink:href=\"#DejaVuSans-35\"/>\n       <use x=\"63.623047\" xlink:href=\"#DejaVuSans-30\"/>\n      </g>\n     </g>\n    </g>\n    <g id=\"ytick_7\">\n     <g id=\"line2d_37\">\n      <g>\n       <use style=\"stroke:#000000;stroke-width:0.8;\" x=\"26.925\" xlink:href=\"#m1654107c27\" y=\"74.939484\"/>\n      </g>\n     </g>\n     <g id=\"text_38\">\n      <!-- 60 -->\n      <g transform=\"translate(7.2 78.738702)scale(0.1 -0.1)\">\n       <use xlink:href=\"#DejaVuSans-36\"/>\n       <use x=\"63.623047\" xlink:href=\"#DejaVuSans-30\"/>\n      </g>\n     </g>\n    </g>\n    <g id=\"ytick_8\">\n     <g id=\"line2d_38\">\n      <g>\n       <use style=\"stroke:#000000;stroke-width:0.8;\" x=\"26.925\" xlink:href=\"#m1654107c27\" y=\"49.989398\"/>\n      </g>\n     </g>\n     <g id=\"text_39\">\n      <!-- 70 -->\n      <g transform=\"translate(7.2 53.788616)scale(0.1 -0.1)\">\n       <use xlink:href=\"#DejaVuSans-37\"/>\n       <use x=\"63.623047\" xlink:href=\"#DejaVuSans-30\"/>\n      </g>\n     </g>\n    </g>\n    <g id=\"ytick_9\">\n     <g id=\"line2d_39\">\n      <g>\n       <use style=\"stroke:#000000;stroke-width:0.8;\" x=\"26.925\" xlink:href=\"#m1654107c27\" y=\"25.039312\"/>\n      </g>\n     </g>\n     <g id=\"text_40\">\n      <!-- 80 -->\n      <g transform=\"translate(7.2 28.83853)scale(0.1 -0.1)\">\n       <use xlink:href=\"#DejaVuSans-38\"/>\n       <use x=\"63.623047\" xlink:href=\"#DejaVuSans-30\"/>\n      </g>\n     </g>\n    </g>\n   </g>\n   <g id=\"patch_33\">\n    <path d=\"M 26.925 224.64 \nL 26.925 7.2 \n\" style=\"fill:none;stroke:#000000;stroke-linecap:square;stroke-linejoin:miter;stroke-width:0.8;\"/>\n   </g>\n   <g id=\"patch_34\">\n    <path d=\"M 361.725 224.64 \nL 361.725 7.2 \n\" style=\"fill:none;stroke:#000000;stroke-linecap:square;stroke-linejoin:miter;stroke-width:0.8;\"/>\n   </g>\n   <g id=\"patch_35\">\n    <path d=\"M 26.925 224.64 \nL 361.725 224.64 \n\" style=\"fill:none;stroke:#000000;stroke-linecap:square;stroke-linejoin:miter;stroke-width:0.8;\"/>\n   </g>\n   <g id=\"patch_36\">\n    <path d=\"M 26.925 7.2 \nL 361.725 7.2 \n\" style=\"fill:none;stroke:#000000;stroke-linecap:square;stroke-linejoin:miter;stroke-width:0.8;\"/>\n   </g>\n   <g id=\"legend_1\">\n    <g id=\"patch_37\">\n     <path d=\"M 281.865625 30.15625 \nL 354.725 30.15625 \nQ 356.725 30.15625 356.725 28.15625 \nL 356.725 14.2 \nQ 356.725 12.2 354.725 12.2 \nL 281.865625 12.2 \nQ 279.865625 12.2 279.865625 14.2 \nL 279.865625 28.15625 \nQ 279.865625 30.15625 281.865625 30.15625 \nz\n\" style=\"fill:#ffffff;opacity:0.8;stroke:#cccccc;stroke-linejoin:miter;\"/>\n    </g>\n    <g id=\"patch_38\">\n     <path d=\"M 283.865625 23.798437 \nL 303.865625 23.798437 \nL 303.865625 16.798437 \nL 283.865625 16.798437 \nz\n\" style=\"fill:#1f77b4;\"/>\n    </g>\n    <g id=\"text_41\">\n     <!-- TEXT_ID -->\n     <g transform=\"translate(311.865625 23.798437)scale(0.1 -0.1)\">\n      <defs>\n       <path d=\"M -19 4666 \nL 3928 4666 \nL 3928 4134 \nL 2272 4134 \nL 2272 0 \nL 1638 0 \nL 1638 4134 \nL -19 4134 \nL -19 4666 \nz\n\" id=\"DejaVuSans-54\" transform=\"scale(0.015625)\"/>\n       <path d=\"M 628 4666 \nL 3578 4666 \nL 3578 4134 \nL 1259 4134 \nL 1259 2753 \nL 3481 2753 \nL 3481 2222 \nL 1259 2222 \nL 1259 531 \nL 3634 531 \nL 3634 0 \nL 628 0 \nL 628 4666 \nz\n\" id=\"DejaVuSans-45\" transform=\"scale(0.015625)\"/>\n       <path d=\"M 403 4666 \nL 1081 4666 \nL 2241 2931 \nL 3406 4666 \nL 4084 4666 \nL 2584 2425 \nL 4184 0 \nL 3506 0 \nL 2194 1984 \nL 872 0 \nL 191 0 \nL 1856 2491 \nL 403 4666 \nz\n\" id=\"DejaVuSans-58\" transform=\"scale(0.015625)\"/>\n       <path d=\"M 1259 4147 \nL 1259 519 \nL 2022 519 \nQ 2988 519 3436 956 \nQ 3884 1394 3884 2338 \nQ 3884 3275 3436 3711 \nQ 2988 4147 2022 4147 \nL 1259 4147 \nz\nM 628 4666 \nL 1925 4666 \nQ 3281 4666 3915 4102 \nQ 4550 3538 4550 2338 \nQ 4550 1131 3912 565 \nQ 3275 0 1925 0 \nL 628 0 \nL 628 4666 \nz\n\" id=\"DejaVuSans-44\" transform=\"scale(0.015625)\"/>\n      </defs>\n      <use xlink:href=\"#DejaVuSans-54\"/>\n      <use x=\"61.083984\" xlink:href=\"#DejaVuSans-45\"/>\n      <use x=\"124.267578\" xlink:href=\"#DejaVuSans-58\"/>\n      <use x=\"191.023438\" xlink:href=\"#DejaVuSans-54\"/>\n      <use x=\"252.107422\" xlink:href=\"#DejaVuSans-5f\"/>\n      <use x=\"302.107422\" xlink:href=\"#DejaVuSans-49\"/>\n      <use x=\"331.599609\" xlink:href=\"#DejaVuSans-44\"/>\n     </g>\n    </g>\n   </g>\n  </g>\n </g>\n <defs>\n  <clipPath id=\"pdec8aa8e93\">\n   <rect height=\"217.44\" width=\"334.8\" x=\"26.925\" y=\"7.2\"/>\n  </clipPath>\n </defs>\n</svg>\n",
      "image/png": "[encoded data removed]"
     },
     "metadata": {
      "needs_background": "light"
     }
    }
   ],
   "source": [
    "df_count = df_id_cui.groupby(['FINAL_CUI'])[['TEXT_ID']].count()\n",
    "df_top = df_count.sort_values(['TEXT_ID'],ascending=False).iloc[0:30]\n",
    "df_top.plot.bar()#x='lab', y='val', rot=0)"
   ]
  },
  {
   "cell_type": "code",
   "execution_count": 31,
   "metadata": {},
   "outputs": [
    {
     "output_type": "execute_result",
     "data": {
      "text/plain": [
       "(1588, 16)"
      ]
     },
     "metadata": {},
     "execution_count": 31
    }
   ],
   "source": [
    "df[df['mev_cui_len']!=0].shape "
   ]
  },
  {
   "cell_type": "code",
   "execution_count": 32,
   "metadata": {},
   "outputs": [
    {
     "output_type": "execute_result",
     "data": {
      "text/plain": [
       "(178, 16)"
      ]
     },
     "metadata": {},
     "execution_count": 32
    }
   ],
   "source": [
    "df[(df['google_abbr_cui_len']!=0)& (df['deepl_abbr_cui_len']==0) & (df['mev_cui_len']==0)].shape"
   ]
  },
  {
   "cell_type": "code",
   "execution_count": 33,
   "metadata": {},
   "outputs": [
    {
     "output_type": "execute_result",
     "data": {
      "text/plain": [
       "(153, 16)"
      ]
     },
     "metadata": {},
     "execution_count": 33
    }
   ],
   "source": [
    "df[(df['google_abbr_cui_len']==0)& (df['deepl_abbr_cui_len']!=0) & (df['mev_cui_len']==0)].shape"
   ]
  },
  {
   "cell_type": "code",
   "execution_count": 34,
   "metadata": {},
   "outputs": [
    {
     "output_type": "execute_result",
     "data": {
      "text/plain": [
       "(3532, 16)"
      ]
     },
     "metadata": {},
     "execution_count": 34
    }
   ],
   "source": [
    "df[(df['google_abbr_cui_len']!=0)& (df['deepl_abbr_cui_len']!=0)& (df['mev_cui_len']==0)].shape"
   ]
  },
  {
   "cell_type": "code",
   "execution_count": 35,
   "metadata": {},
   "outputs": [
    {
     "output_type": "execute_result",
     "data": {
      "text/plain": [
       "(2, 16)"
      ]
     },
     "metadata": {},
     "execution_count": 35
    }
   ],
   "source": [
    "df[(df['google_abbr_cui_len']==0)& (df['deepl_abbr_cui_len']==0)& (df['mev_cui_len']==0)].shape"
   ]
  },
  {
   "cell_type": "code",
   "execution_count": 36,
   "metadata": {},
   "outputs": [
    {
     "output_type": "execute_result",
     "data": {
      "text/plain": [
       "(5453, 16)"
      ]
     },
     "metadata": {},
     "execution_count": 36
    }
   ],
   "source": [
    "df.shape"
   ]
  },
  {
   "cell_type": "code",
   "execution_count": 37,
   "metadata": {},
   "outputs": [
    {
     "output_type": "execute_result",
     "data": {
      "text/plain": [
       "2"
      ]
     },
     "metadata": {},
     "execution_count": 37
    }
   ],
   "source": [
    "5453-3532-178-153-1588"
   ]
  },
  {
   "cell_type": "code",
   "execution_count": 38,
   "metadata": {},
   "outputs": [
    {
     "output_type": "execute_result",
     "data": {
      "text/plain": [
       "     Value_ID                value           replacement  \\\n",
       "817    A10814    ProtrusiÛn C3-C4,                   NaN   \n",
       "3383   A13379  CIRUGIA APENDICITIS  Surgery Appendicitis   \n",
       "\n",
       "               google_abbr            deepl_abbr mev_cui google_abbr_cui  \\\n",
       "817      Protrusion C3-C4,     C3-C4 Protrusion,      []              []   \n",
       "3383  APPENDICITIS SURGERY  APPENDICITIS SURGERY      []              []   \n",
       "\n",
       "     deepl_abbr_cui  mev_cui_len  google_abbr_cui_len  deepl_abbr_cui_len  \\\n",
       "817              []            0                    0                   0   \n",
       "3383             []            0                    0                   0   \n",
       "\n",
       "     google_deepl_abbr_cui TEXT_ID                 TEXT FINAL_CUI  \\\n",
       "817                     []  A10814    ProtrusiÛn C3-C4,        []   \n",
       "3383                    []  A13379  CIRUGIA APENDICITIS        []   \n",
       "\n",
       "      FINAL_CUI_len  \n",
       "817               0  \n",
       "3383              0  "
      ],
      "text/html": "<div>\n<style scoped>\n    .dataframe tbody tr th:only-of-type {\n        vertical-align: middle;\n    }\n\n    .dataframe tbody tr th {\n        vertical-align: top;\n    }\n\n    .dataframe thead th {\n        text-align: right;\n    }\n</style>\n<table border=\"1\" class=\"dataframe\">\n  <thead>\n    <tr style=\"text-align: right;\">\n      <th></th>\n      <th>Value_ID</th>\n      <th>value</th>\n      <th>replacement</th>\n      <th>google_abbr</th>\n      <th>deepl_abbr</th>\n      <th>mev_cui</th>\n      <th>google_abbr_cui</th>\n      <th>deepl_abbr_cui</th>\n      <th>mev_cui_len</th>\n      <th>google_abbr_cui_len</th>\n      <th>deepl_abbr_cui_len</th>\n      <th>google_deepl_abbr_cui</th>\n      <th>TEXT_ID</th>\n      <th>TEXT</th>\n      <th>FINAL_CUI</th>\n      <th>FINAL_CUI_len</th>\n    </tr>\n  </thead>\n  <tbody>\n    <tr>\n      <th>817</th>\n      <td>A10814</td>\n      <td>ProtrusiÛn C3-C4,</td>\n      <td>NaN</td>\n      <td>Protrusion C3-C4,</td>\n      <td>C3-C4 Protrusion,</td>\n      <td>[]</td>\n      <td>[]</td>\n      <td>[]</td>\n      <td>0</td>\n      <td>0</td>\n      <td>0</td>\n      <td>[]</td>\n      <td>A10814</td>\n      <td>ProtrusiÛn C3-C4,</td>\n      <td>[]</td>\n      <td>0</td>\n    </tr>\n    <tr>\n      <th>3383</th>\n      <td>A13379</td>\n      <td>CIRUGIA APENDICITIS</td>\n      <td>Surgery Appendicitis</td>\n      <td>APPENDICITIS SURGERY</td>\n      <td>APPENDICITIS SURGERY</td>\n      <td>[]</td>\n      <td>[]</td>\n      <td>[]</td>\n      <td>0</td>\n      <td>0</td>\n      <td>0</td>\n      <td>[]</td>\n      <td>A13379</td>\n      <td>CIRUGIA APENDICITIS</td>\n      <td>[]</td>\n      <td>0</td>\n    </tr>\n  </tbody>\n</table>\n</div>"
     },
     "metadata": {},
     "execution_count": 38
    }
   ],
   "source": [
    "df[df['FINAL_CUI_len']==0][['Value_ID', 'value','replacement']].to_csv(path_output+'nothaving_cui.csv', encoding='utf-8',\\\n",
    "    index=False)\n",
    "df[df['FINAL_CUI_len']==0]"
   ]
  },
  {
   "cell_type": "code",
   "execution_count": 39,
   "metadata": {},
   "outputs": [
    {
     "output_type": "execute_result",
     "data": {
      "text/plain": [
       "  TEXT_ID FINAL_CUI            Canonical_Name\n",
       "0  A10000  C0267146  Chronic antral gastritis"
      ],
      "text/html": "<div>\n<style scoped>\n    .dataframe tbody tr th:only-of-type {\n        vertical-align: middle;\n    }\n\n    .dataframe tbody tr th {\n        vertical-align: top;\n    }\n\n    .dataframe thead th {\n        text-align: right;\n    }\n</style>\n<table border=\"1\" class=\"dataframe\">\n  <thead>\n    <tr style=\"text-align: right;\">\n      <th></th>\n      <th>TEXT_ID</th>\n      <th>FINAL_CUI</th>\n      <th>Canonical_Name</th>\n    </tr>\n  </thead>\n  <tbody>\n    <tr>\n      <th>0</th>\n      <td>A10000</td>\n      <td>C0267146</td>\n      <td>Chronic antral gastritis</td>\n    </tr>\n  </tbody>\n</table>\n</div>"
     },
     "metadata": {},
     "execution_count": 39
    }
   ],
   "source": [
    "df_id_cui_cn.head(1)"
   ]
  },
  {
   "cell_type": "code",
   "execution_count": 40,
   "metadata": {},
   "outputs": [
    {
     "output_type": "execute_result",
     "data": {
      "text/plain": [
       "           TEXT_ID\n",
       "FINAL_CUI         \n",
       "C0520679        83\n",
       "C0037315        81\n",
       "C1332550        79\n",
       "C0459680        79\n",
       "C0238767        79\n",
       "C0038454        78\n",
       "C0457801        68\n",
       "C0556338        64\n",
       "C0556317        64\n",
       "C0886296        62"
      ],
      "text/html": "<div>\n<style scoped>\n    .dataframe tbody tr th:only-of-type {\n        vertical-align: middle;\n    }\n\n    .dataframe tbody tr th {\n        vertical-align: top;\n    }\n\n    .dataframe thead th {\n        text-align: right;\n    }\n</style>\n<table border=\"1\" class=\"dataframe\">\n  <thead>\n    <tr style=\"text-align: right;\">\n      <th></th>\n      <th>TEXT_ID</th>\n    </tr>\n    <tr>\n      <th>FINAL_CUI</th>\n      <th></th>\n    </tr>\n  </thead>\n  <tbody>\n    <tr>\n      <th>C0520679</th>\n      <td>83</td>\n    </tr>\n    <tr>\n      <th>C0037315</th>\n      <td>81</td>\n    </tr>\n    <tr>\n      <th>C1332550</th>\n      <td>79</td>\n    </tr>\n    <tr>\n      <th>C0459680</th>\n      <td>79</td>\n    </tr>\n    <tr>\n      <th>C0238767</th>\n      <td>79</td>\n    </tr>\n    <tr>\n      <th>C0038454</th>\n      <td>78</td>\n    </tr>\n    <tr>\n      <th>C0457801</th>\n      <td>68</td>\n    </tr>\n    <tr>\n      <th>C0556338</th>\n      <td>64</td>\n    </tr>\n    <tr>\n      <th>C0556317</th>\n      <td>64</td>\n    </tr>\n    <tr>\n      <th>C0886296</th>\n      <td>62</td>\n    </tr>\n  </tbody>\n</table>\n</div>"
     },
     "metadata": {},
     "execution_count": 40
    }
   ],
   "source": [
    "df_count_cn = df_id_cui_cn.groupby(['FINAL_CUI'])[['TEXT_ID']].count()\n",
    "df_top_cn = df_count_cn.sort_values(['TEXT_ID'],ascending=False)\n",
    "cui_cn_dict = dict(zip(df_id_cui_cn.FINAL_CUI, df_id_cui_cn.Canonical_Name))\n",
    "df_top_cn.head(10)"
   ]
  },
  {
   "cell_type": "code",
   "execution_count": 41,
   "metadata": {},
   "outputs": [],
   "source": [
    "df_top_cn['CUI'] = df_top_cn.index\n",
    "df_top_cn['Canonical_Name'] = df_top_cn['CUI'].apply(lambda x : cui_cn_dict[x])\n",
    "df_top_cn['TEXT_ID_COUNT'] = df_top_cn['TEXT_ID']"
   ]
  },
  {
   "cell_type": "code",
   "execution_count": 42,
   "metadata": {},
   "outputs": [],
   "source": [
    "df_top_cn_new = df_top_cn[['CUI', 'TEXT_ID_COUNT', 'Canonical_Name']]"
   ]
  },
  {
   "cell_type": "code",
   "execution_count": 16,
   "metadata": {},
   "outputs": [
    {
     "output_type": "execute_result",
     "data": {
      "text/plain": [
       "                CUI  TEXT_ID_COUNT                  Canonical_Name\n",
       "FINAL_CUI                                                         \n",
       "C0520679   C0520679             83        Sleep Apnea, Obstructive\n",
       "C0037315   C0037315             81           Sleep Apnea Syndromes\n",
       "C1332550   C1332550             79                  Bilateral Mass\n",
       "C0459680   C0459680             79        Bilateral lateral rectus\n",
       "C0238767   C0238767             79                       Bilateral\n",
       "C0038454   C0038454             78        Cerebrovascular accident\n",
       "C0457801   C0457801             68  Current non-drinker of alcohol\n",
       "C0556338   C0556338             64                         Drinker\n",
       "C0556317   C0556317             64                    Drinks alone\n",
       "C0886296   C0886296             62           Nursing interventions"
      ],
      "text/html": "<div>\n<style scoped>\n    .dataframe tbody tr th:only-of-type {\n        vertical-align: middle;\n    }\n\n    .dataframe tbody tr th {\n        vertical-align: top;\n    }\n\n    .dataframe thead th {\n        text-align: right;\n    }\n</style>\n<table border=\"1\" class=\"dataframe\">\n  <thead>\n    <tr style=\"text-align: right;\">\n      <th></th>\n      <th>CUI</th>\n      <th>TEXT_ID_COUNT</th>\n      <th>Canonical_Name</th>\n    </tr>\n    <tr>\n      <th>FINAL_CUI</th>\n      <th></th>\n      <th></th>\n      <th></th>\n    </tr>\n  </thead>\n  <tbody>\n    <tr>\n      <th>C0520679</th>\n      <td>C0520679</td>\n      <td>83</td>\n      <td>Sleep Apnea, Obstructive</td>\n    </tr>\n    <tr>\n      <th>C0037315</th>\n      <td>C0037315</td>\n      <td>81</td>\n      <td>Sleep Apnea Syndromes</td>\n    </tr>\n    <tr>\n      <th>C1332550</th>\n      <td>C1332550</td>\n      <td>79</td>\n      <td>Bilateral Mass</td>\n    </tr>\n    <tr>\n      <th>C0459680</th>\n      <td>C0459680</td>\n      <td>79</td>\n      <td>Bilateral lateral rectus</td>\n    </tr>\n    <tr>\n      <th>C0238767</th>\n      <td>C0238767</td>\n      <td>79</td>\n      <td>Bilateral</td>\n    </tr>\n    <tr>\n      <th>C0038454</th>\n      <td>C0038454</td>\n      <td>78</td>\n      <td>Cerebrovascular accident</td>\n    </tr>\n    <tr>\n      <th>C0457801</th>\n      <td>C0457801</td>\n      <td>68</td>\n      <td>Current non-drinker of alcohol</td>\n    </tr>\n    <tr>\n      <th>C0556338</th>\n      <td>C0556338</td>\n      <td>64</td>\n      <td>Drinker</td>\n    </tr>\n    <tr>\n      <th>C0556317</th>\n      <td>C0556317</td>\n      <td>64</td>\n      <td>Drinks alone</td>\n    </tr>\n    <tr>\n      <th>C0886296</th>\n      <td>C0886296</td>\n      <td>62</td>\n      <td>Nursing interventions</td>\n    </tr>\n  </tbody>\n</table>\n</div>"
     },
     "metadata": {},
     "execution_count": 16
    }
   ],
   "source": [
    "df_top_cn_new.head(10)"
   ]
  },
  {
   "cell_type": "code",
   "execution_count": 49,
   "metadata": {},
   "outputs": [
    {
     "output_type": "stream",
     "name": "stderr",
     "text": [
      "ipykernel_launcher:1: SettingWithCopyWarning:\n\n\nA value is trying to be set on a copy of a slice from a DataFrame.\nTry using .loc[row_indexer,col_indexer] = value instead\n\nSee the caveats in the documentation: https://pandas.pydata.org/pandas-docs/stable/user_guide/indexing.html#returning-a-view-versus-a-copy\n\n"
     ]
    },
    {
     "output_type": "execute_result",
     "data": {
      "text/plain": [
       "                                                CUI  TEXT_ID_COUNT  \\\n",
       "FINAL_CUI                                                            \n",
       "C0520679         C0520679\\nSleep Apnea, Obstructive             83   \n",
       "C0037315            C0037315\\nSleep Apnea Syndromes             81   \n",
       "C1332550                   C1332550\\nBilateral Mass             79   \n",
       "C0459680         C0459680\\nBilateral lateral rectus             79   \n",
       "C0238767                        C0238767\\nBilateral             79   \n",
       "C0038454         C0038454\\nCerebrovascular accident             78   \n",
       "C0457801   C0457801\\nCurrent non-drinker of alcohol             68   \n",
       "C0556338                          C0556338\\nDrinker             64   \n",
       "C0556317                     C0556317\\nDrinks alone             64   \n",
       "C0886296            C0886296\\nNursing interventions             62   \n",
       "\n",
       "                           Canonical_Name  \n",
       "FINAL_CUI                                  \n",
       "C0520679         Sleep Apnea, Obstructive  \n",
       "C0037315            Sleep Apnea Syndromes  \n",
       "C1332550                   Bilateral Mass  \n",
       "C0459680         Bilateral lateral rectus  \n",
       "C0238767                        Bilateral  \n",
       "C0038454         Cerebrovascular accident  \n",
       "C0457801   Current non-drinker of alcohol  \n",
       "C0556338                          Drinker  \n",
       "C0556317                     Drinks alone  \n",
       "C0886296            Nursing interventions  "
      ],
      "text/html": "<div>\n<style scoped>\n    .dataframe tbody tr th:only-of-type {\n        vertical-align: middle;\n    }\n\n    .dataframe tbody tr th {\n        vertical-align: top;\n    }\n\n    .dataframe thead th {\n        text-align: right;\n    }\n</style>\n<table border=\"1\" class=\"dataframe\">\n  <thead>\n    <tr style=\"text-align: right;\">\n      <th></th>\n      <th>CUI</th>\n      <th>TEXT_ID_COUNT</th>\n      <th>Canonical_Name</th>\n    </tr>\n    <tr>\n      <th>FINAL_CUI</th>\n      <th></th>\n      <th></th>\n      <th></th>\n    </tr>\n  </thead>\n  <tbody>\n    <tr>\n      <th>C0520679</th>\n      <td>C0520679\\nSleep Apnea, Obstructive</td>\n      <td>83</td>\n      <td>Sleep Apnea, Obstructive</td>\n    </tr>\n    <tr>\n      <th>C0037315</th>\n      <td>C0037315\\nSleep Apnea Syndromes</td>\n      <td>81</td>\n      <td>Sleep Apnea Syndromes</td>\n    </tr>\n    <tr>\n      <th>C1332550</th>\n      <td>C1332550\\nBilateral Mass</td>\n      <td>79</td>\n      <td>Bilateral Mass</td>\n    </tr>\n    <tr>\n      <th>C0459680</th>\n      <td>C0459680\\nBilateral lateral rectus</td>\n      <td>79</td>\n      <td>Bilateral lateral rectus</td>\n    </tr>\n    <tr>\n      <th>C0238767</th>\n      <td>C0238767\\nBilateral</td>\n      <td>79</td>\n      <td>Bilateral</td>\n    </tr>\n    <tr>\n      <th>C0038454</th>\n      <td>C0038454\\nCerebrovascular accident</td>\n      <td>78</td>\n      <td>Cerebrovascular accident</td>\n    </tr>\n    <tr>\n      <th>C0457801</th>\n      <td>C0457801\\nCurrent non-drinker of alcohol</td>\n      <td>68</td>\n      <td>Current non-drinker of alcohol</td>\n    </tr>\n    <tr>\n      <th>C0556338</th>\n      <td>C0556338\\nDrinker</td>\n      <td>64</td>\n      <td>Drinker</td>\n    </tr>\n    <tr>\n      <th>C0556317</th>\n      <td>C0556317\\nDrinks alone</td>\n      <td>64</td>\n      <td>Drinks alone</td>\n    </tr>\n    <tr>\n      <th>C0886296</th>\n      <td>C0886296\\nNursing interventions</td>\n      <td>62</td>\n      <td>Nursing interventions</td>\n    </tr>\n  </tbody>\n</table>\n</div>"
     },
     "metadata": {},
     "execution_count": 49
    }
   ],
   "source": [
    "df_top_cn_new['CUI']=df_top_cn_new['CUI']+'\\n'+ df_top_cn_new['Canonical_Name']\n",
    "df_top_cn_new.head(10)"
   ]
  },
  {
   "cell_type": "code",
   "execution_count": 50,
   "metadata": {},
   "outputs": [
    {
     "output_type": "display_data",
     "data": {
      "application/vnd.plotly.v1+json": {
       "config": {
        "plotlyServerURL": "https://plot.ly"
       },
       "data": [
        {
         "alignmentgroup": "True",
         "customdata": [
          [
           "Sleep Apnea, Obstructive"
          ],
          [
           "Sleep Apnea Syndromes"
          ],
          [
           "Bilateral Mass"
          ],
          [
           "Bilateral lateral rectus"
          ],
          [
           "Bilateral"
          ],
          [
           "Cerebrovascular accident"
          ],
          [
           "Current non-drinker of alcohol"
          ],
          [
           "Drinker"
          ],
          [
           "Drinks alone"
          ],
          [
           "Nursing interventions"
          ]
         ],
         "hovertemplate": "CUI=%{x}<br>TEXT_ID_COUNT=%{text}<br>Canonical_Name=%{customdata[0]}<extra></extra>",
         "legendgroup": "",
         "marker": {
          "color": "#636efa"
         },
         "name": "",
         "offsetgroup": "",
         "orientation": "v",
         "showlegend": false,
         "text": [
          83,
          81,
          79,
          79,
          79,
          78,
          68,
          64,
          64,
          62
         ],
         "textposition": "outside",
         "texttemplate": "%{text:.2s}",
         "type": "bar",
         "x": [
          "C0520679\nSleep Apnea, Obstructive",
          "C0037315\nSleep Apnea Syndromes",
          "C1332550\nBilateral Mass",
          "C0459680\nBilateral lateral rectus",
          "C0238767\nBilateral",
          "C0038454\nCerebrovascular accident",
          "C0457801\nCurrent non-drinker of alcohol",
          "C0556338\nDrinker",
          "C0556317\nDrinks alone",
          "C0886296\nNursing interventions"
         ],
         "xaxis": "x",
         "y": [
          83,
          81,
          79,
          79,
          79,
          78,
          68,
          64,
          64,
          62
         ],
         "yaxis": "y"
        }
       ],
       "layout": {
        "barmode": "relative",
        "height": 500,
        "legend": {
         "tracegroupgap": 0
        },
        "margin": {
         "t": 60
        },
        "template": {
         "data": {
          "bar": [
           {
            "error_x": {
             "color": "#2a3f5f"
            },
            "error_y": {
             "color": "#2a3f5f"
            },
            "marker": {
             "line": {
              "color": "#E5ECF6",
              "width": 0.5
             }
            },
            "type": "bar"
           }
          ],
          "barpolar": [
           {
            "marker": {
             "line": {
              "color": "#E5ECF6",
              "width": 0.5
             }
            },
            "type": "barpolar"
           }
          ],
          "carpet": [
           {
            "aaxis": {
             "endlinecolor": "#2a3f5f",
             "gridcolor": "white",
             "linecolor": "white",
             "minorgridcolor": "white",
             "startlinecolor": "#2a3f5f"
            },
            "baxis": {
             "endlinecolor": "#2a3f5f",
             "gridcolor": "white",
             "linecolor": "white",
             "minorgridcolor": "white",
             "startlinecolor": "#2a3f5f"
            },
            "type": "carpet"
           }
          ],
          "choropleth": [
           {
            "colorbar": {
             "outlinewidth": 0,
             "ticks": ""
            },
            "type": "choropleth"
           }
          ],
          "contour": [
           {
            "colorbar": {
             "outlinewidth": 0,
             "ticks": ""
            },
            "colorscale": [
             [
              0,
              "#0d0887"
             ],
             [
              0.1111111111111111,
              "#46039f"
             ],
             [
              0.2222222222222222,
              "#7201a8"
             ],
             [
              0.3333333333333333,
              "#9c179e"
             ],
             [
              0.4444444444444444,
              "#bd3786"
             ],
             [
              0.5555555555555556,
              "#d8576b"
             ],
             [
              0.6666666666666666,
              "#ed7953"
             ],
             [
              0.7777777777777778,
              "#fb9f3a"
             ],
             [
              0.8888888888888888,
              "#fdca26"
             ],
             [
              1,
              "#f0f921"
             ]
            ],
            "type": "contour"
           }
          ],
          "contourcarpet": [
           {
            "colorbar": {
             "outlinewidth": 0,
             "ticks": ""
            },
            "type": "contourcarpet"
           }
          ],
          "heatmap": [
           {
            "colorbar": {
             "outlinewidth": 0,
             "ticks": ""
            },
            "colorscale": [
             [
              0,
              "#0d0887"
             ],
             [
              0.1111111111111111,
              "#46039f"
             ],
             [
              0.2222222222222222,
              "#7201a8"
             ],
             [
              0.3333333333333333,
              "#9c179e"
             ],
             [
              0.4444444444444444,
              "#bd3786"
             ],
             [
              0.5555555555555556,
              "#d8576b"
             ],
             [
              0.6666666666666666,
              "#ed7953"
             ],
             [
              0.7777777777777778,
              "#fb9f3a"
             ],
             [
              0.8888888888888888,
              "#fdca26"
             ],
             [
              1,
              "#f0f921"
             ]
            ],
            "type": "heatmap"
           }
          ],
          "heatmapgl": [
           {
            "colorbar": {
             "outlinewidth": 0,
             "ticks": ""
            },
            "colorscale": [
             [
              0,
              "#0d0887"
             ],
             [
              0.1111111111111111,
              "#46039f"
             ],
             [
              0.2222222222222222,
              "#7201a8"
             ],
             [
              0.3333333333333333,
              "#9c179e"
             ],
             [
              0.4444444444444444,
              "#bd3786"
             ],
             [
              0.5555555555555556,
              "#d8576b"
             ],
             [
              0.6666666666666666,
              "#ed7953"
             ],
             [
              0.7777777777777778,
              "#fb9f3a"
             ],
             [
              0.8888888888888888,
              "#fdca26"
             ],
             [
              1,
              "#f0f921"
             ]
            ],
            "type": "heatmapgl"
           }
          ],
          "histogram": [
           {
            "marker": {
             "colorbar": {
              "outlinewidth": 0,
              "ticks": ""
             }
            },
            "type": "histogram"
           }
          ],
          "histogram2d": [
           {
            "colorbar": {
             "outlinewidth": 0,
             "ticks": ""
            },
            "colorscale": [
             [
              0,
              "#0d0887"
             ],
             [
              0.1111111111111111,
              "#46039f"
             ],
             [
              0.2222222222222222,
              "#7201a8"
             ],
             [
              0.3333333333333333,
              "#9c179e"
             ],
             [
              0.4444444444444444,
              "#bd3786"
             ],
             [
              0.5555555555555556,
              "#d8576b"
             ],
             [
              0.6666666666666666,
              "#ed7953"
             ],
             [
              0.7777777777777778,
              "#fb9f3a"
             ],
             [
              0.8888888888888888,
              "#fdca26"
             ],
             [
              1,
              "#f0f921"
             ]
            ],
            "type": "histogram2d"
           }
          ],
          "histogram2dcontour": [
           {
            "colorbar": {
             "outlinewidth": 0,
             "ticks": ""
            },
            "colorscale": [
             [
              0,
              "#0d0887"
             ],
             [
              0.1111111111111111,
              "#46039f"
             ],
             [
              0.2222222222222222,
              "#7201a8"
             ],
             [
              0.3333333333333333,
              "#9c179e"
             ],
             [
              0.4444444444444444,
              "#bd3786"
             ],
             [
              0.5555555555555556,
              "#d8576b"
             ],
             [
              0.6666666666666666,
              "#ed7953"
             ],
             [
              0.7777777777777778,
              "#fb9f3a"
             ],
             [
              0.8888888888888888,
              "#fdca26"
             ],
             [
              1,
              "#f0f921"
             ]
            ],
            "type": "histogram2dcontour"
           }
          ],
          "mesh3d": [
           {
            "colorbar": {
             "outlinewidth": 0,
             "ticks": ""
            },
            "type": "mesh3d"
           }
          ],
          "parcoords": [
           {
            "line": {
             "colorbar": {
              "outlinewidth": 0,
              "ticks": ""
             }
            },
            "type": "parcoords"
           }
          ],
          "pie": [
           {
            "automargin": true,
            "type": "pie"
           }
          ],
          "scatter": [
           {
            "marker": {
             "colorbar": {
              "outlinewidth": 0,
              "ticks": ""
             }
            },
            "type": "scatter"
           }
          ],
          "scatter3d": [
           {
            "line": {
             "colorbar": {
              "outlinewidth": 0,
              "ticks": ""
             }
            },
            "marker": {
             "colorbar": {
              "outlinewidth": 0,
              "ticks": ""
             }
            },
            "type": "scatter3d"
           }
          ],
          "scattercarpet": [
           {
            "marker": {
             "colorbar": {
              "outlinewidth": 0,
              "ticks": ""
             }
            },
            "type": "scattercarpet"
           }
          ],
          "scattergeo": [
           {
            "marker": {
             "colorbar": {
              "outlinewidth": 0,
              "ticks": ""
             }
            },
            "type": "scattergeo"
           }
          ],
          "scattergl": [
           {
            "marker": {
             "colorbar": {
              "outlinewidth": 0,
              "ticks": ""
             }
            },
            "type": "scattergl"
           }
          ],
          "scattermapbox": [
           {
            "marker": {
             "colorbar": {
              "outlinewidth": 0,
              "ticks": ""
             }
            },
            "type": "scattermapbox"
           }
          ],
          "scatterpolar": [
           {
            "marker": {
             "colorbar": {
              "outlinewidth": 0,
              "ticks": ""
             }
            },
            "type": "scatterpolar"
           }
          ],
          "scatterpolargl": [
           {
            "marker": {
             "colorbar": {
              "outlinewidth": 0,
              "ticks": ""
             }
            },
            "type": "scatterpolargl"
           }
          ],
          "scatterternary": [
           {
            "marker": {
             "colorbar": {
              "outlinewidth": 0,
              "ticks": ""
             }
            },
            "type": "scatterternary"
           }
          ],
          "surface": [
           {
            "colorbar": {
             "outlinewidth": 0,
             "ticks": ""
            },
            "colorscale": [
             [
              0,
              "#0d0887"
             ],
             [
              0.1111111111111111,
              "#46039f"
             ],
             [
              0.2222222222222222,
              "#7201a8"
             ],
             [
              0.3333333333333333,
              "#9c179e"
             ],
             [
              0.4444444444444444,
              "#bd3786"
             ],
             [
              0.5555555555555556,
              "#d8576b"
             ],
             [
              0.6666666666666666,
              "#ed7953"
             ],
             [
              0.7777777777777778,
              "#fb9f3a"
             ],
             [
              0.8888888888888888,
              "#fdca26"
             ],
             [
              1,
              "#f0f921"
             ]
            ],
            "type": "surface"
           }
          ],
          "table": [
           {
            "cells": {
             "fill": {
              "color": "#EBF0F8"
             },
             "line": {
              "color": "white"
             }
            },
            "header": {
             "fill": {
              "color": "#C8D4E3"
             },
             "line": {
              "color": "white"
             }
            },
            "type": "table"
           }
          ]
         },
         "layout": {
          "annotationdefaults": {
           "arrowcolor": "#2a3f5f",
           "arrowhead": 0,
           "arrowwidth": 1
          },
          "autotypenumbers": "strict",
          "coloraxis": {
           "colorbar": {
            "outlinewidth": 0,
            "ticks": ""
           }
          },
          "colorscale": {
           "diverging": [
            [
             0,
             "#8e0152"
            ],
            [
             0.1,
             "#c51b7d"
            ],
            [
             0.2,
             "#de77ae"
            ],
            [
             0.3,
             "#f1b6da"
            ],
            [
             0.4,
             "#fde0ef"
            ],
            [
             0.5,
             "#f7f7f7"
            ],
            [
             0.6,
             "#e6f5d0"
            ],
            [
             0.7,
             "#b8e186"
            ],
            [
             0.8,
             "#7fbc41"
            ],
            [
             0.9,
             "#4d9221"
            ],
            [
             1,
             "#276419"
            ]
           ],
           "sequential": [
            [
             0,
             "#0d0887"
            ],
            [
             0.1111111111111111,
             "#46039f"
            ],
            [
             0.2222222222222222,
             "#7201a8"
            ],
            [
             0.3333333333333333,
             "#9c179e"
            ],
            [
             0.4444444444444444,
             "#bd3786"
            ],
            [
             0.5555555555555556,
             "#d8576b"
            ],
            [
             0.6666666666666666,
             "#ed7953"
            ],
            [
             0.7777777777777778,
             "#fb9f3a"
            ],
            [
             0.8888888888888888,
             "#fdca26"
            ],
            [
             1,
             "#f0f921"
            ]
           ],
           "sequentialminus": [
            [
             0,
             "#0d0887"
            ],
            [
             0.1111111111111111,
             "#46039f"
            ],
            [
             0.2222222222222222,
             "#7201a8"
            ],
            [
             0.3333333333333333,
             "#9c179e"
            ],
            [
             0.4444444444444444,
             "#bd3786"
            ],
            [
             0.5555555555555556,
             "#d8576b"
            ],
            [
             0.6666666666666666,
             "#ed7953"
            ],
            [
             0.7777777777777778,
             "#fb9f3a"
            ],
            [
             0.8888888888888888,
             "#fdca26"
            ],
            [
             1,
             "#f0f921"
            ]
           ]
          },
          "colorway": [
           "#636efa",
           "#EF553B",
           "#00cc96",
           "#ab63fa",
           "#FFA15A",
           "#19d3f3",
           "#FF6692",
           "#B6E880",
           "#FF97FF",
           "#FECB52"
          ],
          "font": {
           "color": "#2a3f5f"
          },
          "geo": {
           "bgcolor": "white",
           "lakecolor": "white",
           "landcolor": "#E5ECF6",
           "showlakes": true,
           "showland": true,
           "subunitcolor": "white"
          },
          "hoverlabel": {
           "align": "left"
          },
          "hovermode": "closest",
          "mapbox": {
           "style": "light"
          },
          "paper_bgcolor": "white",
          "plot_bgcolor": "#E5ECF6",
          "polar": {
           "angularaxis": {
            "gridcolor": "white",
            "linecolor": "white",
            "ticks": ""
           },
           "bgcolor": "#E5ECF6",
           "radialaxis": {
            "gridcolor": "white",
            "linecolor": "white",
            "ticks": ""
           }
          },
          "scene": {
           "xaxis": {
            "backgroundcolor": "#E5ECF6",
            "gridcolor": "white",
            "gridwidth": 2,
            "linecolor": "white",
            "showbackground": true,
            "ticks": "",
            "zerolinecolor": "white"
           },
           "yaxis": {
            "backgroundcolor": "#E5ECF6",
            "gridcolor": "white",
            "gridwidth": 2,
            "linecolor": "white",
            "showbackground": true,
            "ticks": "",
            "zerolinecolor": "white"
           },
           "zaxis": {
            "backgroundcolor": "#E5ECF6",
            "gridcolor": "white",
            "gridwidth": 2,
            "linecolor": "white",
            "showbackground": true,
            "ticks": "",
            "zerolinecolor": "white"
           }
          },
          "shapedefaults": {
           "line": {
            "color": "#2a3f5f"
           }
          },
          "ternary": {
           "aaxis": {
            "gridcolor": "white",
            "linecolor": "white",
            "ticks": ""
           },
           "baxis": {
            "gridcolor": "white",
            "linecolor": "white",
            "ticks": ""
           },
           "bgcolor": "#E5ECF6",
           "caxis": {
            "gridcolor": "white",
            "linecolor": "white",
            "ticks": ""
           }
          },
          "title": {
           "x": 0.05
          },
          "xaxis": {
           "automargin": true,
           "gridcolor": "white",
           "linecolor": "white",
           "ticks": "",
           "title": {
            "standoff": 15
           },
           "zerolinecolor": "white",
           "zerolinewidth": 2
          },
          "yaxis": {
           "automargin": true,
           "gridcolor": "white",
           "linecolor": "white",
           "ticks": "",
           "title": {
            "standoff": 15
           },
           "zerolinecolor": "white",
           "zerolinewidth": 2
          }
         }
        },
        "uniformtext": {
         "minsize": 8,
         "mode": "hide"
        },
        "width": 1000,
        "xaxis": {
         "anchor": "y",
         "domain": [
          0,
          1
         ],
         "tickangle": -45,
         "title": {
          "text": "CUI"
         }
        },
        "yaxis": {
         "anchor": "x",
         "domain": [
          0,
          1
         ],
         "title": {
          "text": "TEXT_ID_COUNT"
         }
        }
       }
      },
      "text/html": "<div>                            <div id=\"030c38bf-a658-437f-bb69-429f803862ae\" class=\"plotly-graph-div\" style=\"height:500px; width:1000px;\"></div>            <script type=\"text/javascript\">                require([\"plotly\"], function(Plotly) {                    window.PLOTLYENV=window.PLOTLYENV || {};                                    if (document.getElementById(\"030c38bf-a658-437f-bb69-429f803862ae\")) {                    Plotly.newPlot(                        \"030c38bf-a658-437f-bb69-429f803862ae\",                        [{\"alignmentgroup\": \"True\", \"customdata\": [[\"Sleep Apnea, Obstructive\"], [\"Sleep Apnea Syndromes\"], [\"Bilateral Mass\"], [\"Bilateral lateral rectus\"], [\"Bilateral\"], [\"Cerebrovascular accident\"], [\"Current non-drinker of alcohol\"], [\"Drinker\"], [\"Drinks alone\"], [\"Nursing interventions\"]], \"hovertemplate\": \"CUI=%{x}<br>TEXT_ID_COUNT=%{text}<br>Canonical_Name=%{customdata[0]}<extra></extra>\", \"legendgroup\": \"\", \"marker\": {\"color\": \"#636efa\"}, \"name\": \"\", \"offsetgroup\": \"\", \"orientation\": \"v\", \"showlegend\": false, \"text\": [83.0, 81.0, 79.0, 79.0, 79.0, 78.0, 68.0, 64.0, 64.0, 62.0], \"textposition\": \"outside\", \"texttemplate\": \"%{text:.2s}\", \"type\": \"bar\", \"x\": [\"C0520679\\nSleep Apnea, Obstructive\", \"C0037315\\nSleep Apnea Syndromes\", \"C1332550\\nBilateral Mass\", \"C0459680\\nBilateral lateral rectus\", \"C0238767\\nBilateral\", \"C0038454\\nCerebrovascular accident\", \"C0457801\\nCurrent non-drinker of alcohol\", \"C0556338\\nDrinker\", \"C0556317\\nDrinks alone\", \"C0886296\\nNursing interventions\"], \"xaxis\": \"x\", \"y\": [83, 81, 79, 79, 79, 78, 68, 64, 64, 62], \"yaxis\": \"y\"}],                        {\"barmode\": \"relative\", \"height\": 500, \"legend\": {\"tracegroupgap\": 0}, \"margin\": {\"t\": 60}, \"template\": {\"data\": {\"bar\": [{\"error_x\": {\"color\": \"#2a3f5f\"}, \"error_y\": {\"color\": \"#2a3f5f\"}, \"marker\": {\"line\": {\"color\": \"#E5ECF6\", \"width\": 0.5}}, \"type\": \"bar\"}], \"barpolar\": [{\"marker\": {\"line\": {\"color\": \"#E5ECF6\", \"width\": 0.5}}, \"type\": \"barpolar\"}], \"carpet\": [{\"aaxis\": {\"endlinecolor\": \"#2a3f5f\", \"gridcolor\": \"white\", \"linecolor\": \"white\", \"minorgridcolor\": \"white\", \"startlinecolor\": \"#2a3f5f\"}, \"baxis\": {\"endlinecolor\": \"#2a3f5f\", \"gridcolor\": \"white\", \"linecolor\": \"white\", \"minorgridcolor\": \"white\", \"startlinecolor\": \"#2a3f5f\"}, \"type\": \"carpet\"}], \"choropleth\": [{\"colorbar\": {\"outlinewidth\": 0, \"ticks\": \"\"}, \"type\": \"choropleth\"}], \"contour\": [{\"colorbar\": {\"outlinewidth\": 0, \"ticks\": \"\"}, \"colorscale\": [[0.0, \"#0d0887\"], [0.1111111111111111, \"#46039f\"], [0.2222222222222222, \"#7201a8\"], [0.3333333333333333, \"#9c179e\"], [0.4444444444444444, \"#bd3786\"], [0.5555555555555556, \"#d8576b\"], [0.6666666666666666, \"#ed7953\"], [0.7777777777777778, \"#fb9f3a\"], [0.8888888888888888, \"#fdca26\"], [1.0, \"#f0f921\"]], \"type\": \"contour\"}], \"contourcarpet\": [{\"colorbar\": {\"outlinewidth\": 0, \"ticks\": \"\"}, \"type\": \"contourcarpet\"}], \"heatmap\": [{\"colorbar\": {\"outlinewidth\": 0, \"ticks\": \"\"}, \"colorscale\": [[0.0, \"#0d0887\"], [0.1111111111111111, \"#46039f\"], [0.2222222222222222, \"#7201a8\"], [0.3333333333333333, \"#9c179e\"], [0.4444444444444444, \"#bd3786\"], [0.5555555555555556, \"#d8576b\"], [0.6666666666666666, \"#ed7953\"], [0.7777777777777778, \"#fb9f3a\"], [0.8888888888888888, \"#fdca26\"], [1.0, \"#f0f921\"]], \"type\": \"heatmap\"}], \"heatmapgl\": [{\"colorbar\": {\"outlinewidth\": 0, \"ticks\": \"\"}, \"colorscale\": [[0.0, \"#0d0887\"], [0.1111111111111111, \"#46039f\"], [0.2222222222222222, \"#7201a8\"], [0.3333333333333333, \"#9c179e\"], [0.4444444444444444, \"#bd3786\"], [0.5555555555555556, \"#d8576b\"], [0.6666666666666666, \"#ed7953\"], [0.7777777777777778, \"#fb9f3a\"], [0.8888888888888888, \"#fdca26\"], [1.0, \"#f0f921\"]], \"type\": \"heatmapgl\"}], \"histogram\": [{\"marker\": {\"colorbar\": {\"outlinewidth\": 0, \"ticks\": \"\"}}, \"type\": \"histogram\"}], \"histogram2d\": [{\"colorbar\": {\"outlinewidth\": 0, \"ticks\": \"\"}, \"colorscale\": [[0.0, \"#0d0887\"], [0.1111111111111111, \"#46039f\"], [0.2222222222222222, \"#7201a8\"], [0.3333333333333333, \"#9c179e\"], [0.4444444444444444, \"#bd3786\"], [0.5555555555555556, \"#d8576b\"], [0.6666666666666666, \"#ed7953\"], [0.7777777777777778, \"#fb9f3a\"], [0.8888888888888888, \"#fdca26\"], [1.0, \"#f0f921\"]], \"type\": \"histogram2d\"}], \"histogram2dcontour\": [{\"colorbar\": {\"outlinewidth\": 0, \"ticks\": \"\"}, \"colorscale\": [[0.0, \"#0d0887\"], [0.1111111111111111, \"#46039f\"], [0.2222222222222222, \"#7201a8\"], [0.3333333333333333, \"#9c179e\"], [0.4444444444444444, \"#bd3786\"], [0.5555555555555556, \"#d8576b\"], [0.6666666666666666, \"#ed7953\"], [0.7777777777777778, \"#fb9f3a\"], [0.8888888888888888, \"#fdca26\"], [1.0, \"#f0f921\"]], \"type\": \"histogram2dcontour\"}], \"mesh3d\": [{\"colorbar\": {\"outlinewidth\": 0, \"ticks\": \"\"}, \"type\": \"mesh3d\"}], \"parcoords\": [{\"line\": {\"colorbar\": {\"outlinewidth\": 0, \"ticks\": \"\"}}, \"type\": \"parcoords\"}], \"pie\": [{\"automargin\": true, \"type\": \"pie\"}], \"scatter\": [{\"marker\": {\"colorbar\": {\"outlinewidth\": 0, \"ticks\": \"\"}}, \"type\": \"scatter\"}], \"scatter3d\": [{\"line\": {\"colorbar\": {\"outlinewidth\": 0, \"ticks\": \"\"}}, \"marker\": {\"colorbar\": {\"outlinewidth\": 0, \"ticks\": \"\"}}, \"type\": \"scatter3d\"}], \"scattercarpet\": [{\"marker\": {\"colorbar\": {\"outlinewidth\": 0, \"ticks\": \"\"}}, \"type\": \"scattercarpet\"}], \"scattergeo\": [{\"marker\": {\"colorbar\": {\"outlinewidth\": 0, \"ticks\": \"\"}}, \"type\": \"scattergeo\"}], \"scattergl\": [{\"marker\": {\"colorbar\": {\"outlinewidth\": 0, \"ticks\": \"\"}}, \"type\": \"scattergl\"}], \"scattermapbox\": [{\"marker\": {\"colorbar\": {\"outlinewidth\": 0, \"ticks\": \"\"}}, \"type\": \"scattermapbox\"}], \"scatterpolar\": [{\"marker\": {\"colorbar\": {\"outlinewidth\": 0, \"ticks\": \"\"}}, \"type\": \"scatterpolar\"}], \"scatterpolargl\": [{\"marker\": {\"colorbar\": {\"outlinewidth\": 0, \"ticks\": \"\"}}, \"type\": \"scatterpolargl\"}], \"scatterternary\": [{\"marker\": {\"colorbar\": {\"outlinewidth\": 0, \"ticks\": \"\"}}, \"type\": \"scatterternary\"}], \"surface\": [{\"colorbar\": {\"outlinewidth\": 0, \"ticks\": \"\"}, \"colorscale\": [[0.0, \"#0d0887\"], [0.1111111111111111, \"#46039f\"], [0.2222222222222222, \"#7201a8\"], [0.3333333333333333, \"#9c179e\"], [0.4444444444444444, \"#bd3786\"], [0.5555555555555556, \"#d8576b\"], [0.6666666666666666, \"#ed7953\"], [0.7777777777777778, \"#fb9f3a\"], [0.8888888888888888, \"#fdca26\"], [1.0, \"#f0f921\"]], \"type\": \"surface\"}], \"table\": [{\"cells\": {\"fill\": {\"color\": \"#EBF0F8\"}, \"line\": {\"color\": \"white\"}}, \"header\": {\"fill\": {\"color\": \"#C8D4E3\"}, \"line\": {\"color\": \"white\"}}, \"type\": \"table\"}]}, \"layout\": {\"annotationdefaults\": {\"arrowcolor\": \"#2a3f5f\", \"arrowhead\": 0, \"arrowwidth\": 1}, \"autotypenumbers\": \"strict\", \"coloraxis\": {\"colorbar\": {\"outlinewidth\": 0, \"ticks\": \"\"}}, \"colorscale\": {\"diverging\": [[0, \"#8e0152\"], [0.1, \"#c51b7d\"], [0.2, \"#de77ae\"], [0.3, \"#f1b6da\"], [0.4, \"#fde0ef\"], [0.5, \"#f7f7f7\"], [0.6, \"#e6f5d0\"], [0.7, \"#b8e186\"], [0.8, \"#7fbc41\"], [0.9, \"#4d9221\"], [1, \"#276419\"]], \"sequential\": [[0.0, \"#0d0887\"], [0.1111111111111111, \"#46039f\"], [0.2222222222222222, \"#7201a8\"], [0.3333333333333333, \"#9c179e\"], [0.4444444444444444, \"#bd3786\"], [0.5555555555555556, \"#d8576b\"], [0.6666666666666666, \"#ed7953\"], [0.7777777777777778, \"#fb9f3a\"], [0.8888888888888888, \"#fdca26\"], [1.0, \"#f0f921\"]], \"sequentialminus\": [[0.0, \"#0d0887\"], [0.1111111111111111, \"#46039f\"], [0.2222222222222222, \"#7201a8\"], [0.3333333333333333, \"#9c179e\"], [0.4444444444444444, \"#bd3786\"], [0.5555555555555556, \"#d8576b\"], [0.6666666666666666, \"#ed7953\"], [0.7777777777777778, \"#fb9f3a\"], [0.8888888888888888, \"#fdca26\"], [1.0, \"#f0f921\"]]}, \"colorway\": [\"#636efa\", \"#EF553B\", \"#00cc96\", \"#ab63fa\", \"#FFA15A\", \"#19d3f3\", \"#FF6692\", \"#B6E880\", \"#FF97FF\", \"#FECB52\"], \"font\": {\"color\": \"#2a3f5f\"}, \"geo\": {\"bgcolor\": \"white\", \"lakecolor\": \"white\", \"landcolor\": \"#E5ECF6\", \"showlakes\": true, \"showland\": true, \"subunitcolor\": \"white\"}, \"hoverlabel\": {\"align\": \"left\"}, \"hovermode\": \"closest\", \"mapbox\": {\"style\": \"light\"}, \"paper_bgcolor\": \"white\", \"plot_bgcolor\": \"#E5ECF6\", \"polar\": {\"angularaxis\": {\"gridcolor\": \"white\", \"linecolor\": \"white\", \"ticks\": \"\"}, \"bgcolor\": \"#E5ECF6\", \"radialaxis\": {\"gridcolor\": \"white\", \"linecolor\": \"white\", \"ticks\": \"\"}}, \"scene\": {\"xaxis\": {\"backgroundcolor\": \"#E5ECF6\", \"gridcolor\": \"white\", \"gridwidth\": 2, \"linecolor\": \"white\", \"showbackground\": true, \"ticks\": \"\", \"zerolinecolor\": \"white\"}, \"yaxis\": {\"backgroundcolor\": \"#E5ECF6\", \"gridcolor\": \"white\", \"gridwidth\": 2, \"linecolor\": \"white\", \"showbackground\": true, \"ticks\": \"\", \"zerolinecolor\": \"white\"}, \"zaxis\": {\"backgroundcolor\": \"#E5ECF6\", \"gridcolor\": \"white\", \"gridwidth\": 2, \"linecolor\": \"white\", \"showbackground\": true, \"ticks\": \"\", \"zerolinecolor\": \"white\"}}, \"shapedefaults\": {\"line\": {\"color\": \"#2a3f5f\"}}, \"ternary\": {\"aaxis\": {\"gridcolor\": \"white\", \"linecolor\": \"white\", \"ticks\": \"\"}, \"baxis\": {\"gridcolor\": \"white\", \"linecolor\": \"white\", \"ticks\": \"\"}, \"bgcolor\": \"#E5ECF6\", \"caxis\": {\"gridcolor\": \"white\", \"linecolor\": \"white\", \"ticks\": \"\"}}, \"title\": {\"x\": 0.05}, \"xaxis\": {\"automargin\": true, \"gridcolor\": \"white\", \"linecolor\": \"white\", \"ticks\": \"\", \"title\": {\"standoff\": 15}, \"zerolinecolor\": \"white\", \"zerolinewidth\": 2}, \"yaxis\": {\"automargin\": true, \"gridcolor\": \"white\", \"linecolor\": \"white\", \"ticks\": \"\", \"title\": {\"standoff\": 15}, \"zerolinecolor\": \"white\", \"zerolinewidth\": 2}}}, \"uniformtext\": {\"minsize\": 8, \"mode\": \"hide\"}, \"width\": 1000, \"xaxis\": {\"anchor\": \"y\", \"domain\": [0.0, 1.0], \"tickangle\": -45, \"title\": {\"text\": \"CUI\"}}, \"yaxis\": {\"anchor\": \"x\", \"domain\": [0.0, 1.0], \"title\": {\"text\": \"TEXT_ID_COUNT\"}}},                        {\"responsive\": true}                    ).then(function(){\n                            \nvar gd = document.getElementById('030c38bf-a658-437f-bb69-429f803862ae');\nvar x = new MutationObserver(function (mutations, observer) {{\n        var display = window.getComputedStyle(gd).display;\n        if (!display || display === 'none') {{\n            console.log([gd, 'removed!']);\n            Plotly.purge(gd);\n            observer.disconnect();\n        }}\n}});\n\n// Listen for the removal of the full notebook cells\nvar notebookContainer = gd.closest('#notebook-container');\nif (notebookContainer) {{\n    x.observe(notebookContainer, {childList: true});\n}}\n\n// Listen for the clearing of the current output cell\nvar outputEl = gd.closest('.output');\nif (outputEl) {{\n    x.observe(outputEl, {childList: true});\n}}\n\n                        })                };                });            </script>        </div>"
     },
     "metadata": {}
    }
   ],
   "source": [
    "import plotly.express as px\n",
    "fig = px.bar(df_top_cn_new.iloc[0:10], y='TEXT_ID_COUNT', x='CUI', text='TEXT_ID_COUNT', hover_data=['Canonical_Name'], width=1000, height=500, labels='Canonical_Name')\n",
    "fig.update_traces(texttemplate='%{text:.2s}', textposition='outside')\n",
    "fig.update_layout(uniformtext_minsize=8, uniformtext_mode='hide',xaxis_tickangle=-45)\n",
    "fig.show()\n",
    "fig.write_html(path_output+\"plot1.html\")"
   ]
  },
  {
   "cell_type": "code",
   "execution_count": 18,
   "metadata": {},
   "outputs": [],
   "source": [
    "df[df['value'].str.contains(\" EN \")][['Value_ID','value','replacement','google_abbr','deepl_abbr']].to_csv(path_output+'EN_wrong_replaced.csv', encoding='utf-8', index=False)"
   ]
  },
  {
   "cell_type": "code",
   "execution_count": null,
   "metadata": {},
   "outputs": [],
   "source": []
  }
 ]
}