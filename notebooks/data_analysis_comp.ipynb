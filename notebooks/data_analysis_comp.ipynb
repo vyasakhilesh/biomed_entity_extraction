{
 "metadata": {
  "language_info": {
   "codemirror_mode": {
    "name": "ipython",
    "version": 3
   },
   "file_extension": ".py",
   "mimetype": "text/x-python",
   "name": "python",
   "nbconvert_exporter": "python",
   "pygments_lexer": "ipython3",
   "version": "3.6.13"
  },
  "orig_nbformat": 2,
  "kernelspec": {
   "name": "python3",
   "display_name": "Python 3.6.13 64-bit ('scispacy_0.4': conda)"
  },
  "interpreter": {
   "hash": "a70084e415d3a7a6e045d5423124f4f63f520ff68c2c2d3722b0024c2c4b1684"
  }
 },
 "nbformat": 4,
 "nbformat_minor": 2,
 "cells": [
  {
   "cell_type": "code",
   "execution_count": 2,
   "metadata": {},
   "outputs": [],
   "source": [
    "import pandas as pd\n",
    "import numpy as np\n",
    "import pickle\n",
    "\n",
    "pd.set_option('display.max_rows', 6000)\n",
    "pd.set_option('display.max_columns', 500)\n",
    "pd.set_option('display.max_colwidth', 1000)"
   ]
  },
  {
   "cell_type": "code",
   "execution_count": 3,
   "metadata": {},
   "outputs": [],
   "source": [
    "path = '/nfs/home/vyasa/projects/proj_off/data_off/clarify/spanish_comorbidity/new/'\n",
    "path_output = '/nfs/home/vyasa/projects/proj_off/data_off/clarify/spanish_comorbidity/new/output/'"
   ]
  },
  {
   "cell_type": "code",
   "execution_count": null,
   "metadata": {},
   "outputs": [],
   "source": [
    "df = pd.read_csv(path_output+'id_text_cuiLst.csv', encoding='utf-8')\n",
    "df_id_text = pd.read_csv(path_output+'id_text_kg.csv', encoding='utf-8')\n",
    "df_id_cui = pd.read_csv(path_output+'id_cuis_kg.csv', encoding='utf-8')\n",
    "df_id_cui_cn = pd.read_csv(path_output+'id_cuis_cn.csv', encoding='utf-8')"
   ]
  },
  {
   "cell_type": "code",
   "execution_count": null,
   "metadata": {},
   "outputs": [],
   "source": [
    "df.head(5)"
   ]
  },
  {
   "cell_type": "code",
   "execution_count": null,
   "metadata": {},
   "outputs": [],
   "source": [
    "df[['value']].to_csv(path_output+'text.csv', encoding='utf-8', index=False)"
   ]
  },
  {
   "cell_type": "code",
   "execution_count": null,
   "metadata": {},
   "outputs": [],
   "source": [
    "df_id_text.shape, df_id_cui.shape,"
   ]
  },
  {
   "cell_type": "code",
   "execution_count": null,
   "metadata": {},
   "outputs": [],
   "source": [
    "df_count = df_id_cui.groupby(['FINAL_CUI'])[['TEXT_ID']].count()\n",
    "df_top = df_count.sort_values(['TEXT_ID'],ascending=False).iloc[0:30]\n",
    "df_top.plot.bar()#x='lab', y='val', rot=0)"
   ]
  },
  {
   "cell_type": "code",
   "execution_count": null,
   "metadata": {},
   "outputs": [],
   "source": [
    "df[df['mev_cui_len']!=0].shape "
   ]
  },
  {
   "cell_type": "code",
   "execution_count": null,
   "metadata": {},
   "outputs": [],
   "source": [
    "df[(df['google_abbr_cui_len']!=0)& (df['deepl_abbr_cui_len']==0) & (df['mev_cui_len']==0)].shape"
   ]
  },
  {
   "cell_type": "code",
   "execution_count": null,
   "metadata": {},
   "outputs": [],
   "source": [
    "df[(df['google_abbr_cui_len']==0)& (df['deepl_abbr_cui_len']!=0) & (df['mev_cui_len']==0)].shape"
   ]
  },
  {
   "cell_type": "code",
   "execution_count": null,
   "metadata": {},
   "outputs": [],
   "source": [
    "df[(df['google_abbr_cui_len']!=0)& (df['deepl_abbr_cui_len']!=0)& (df['mev_cui_len']==0)].shape"
   ]
  },
  {
   "cell_type": "code",
   "execution_count": null,
   "metadata": {},
   "outputs": [],
   "source": [
    "df[(df['google_abbr_cui_len']==0)& (df['deepl_abbr_cui_len']==0)& (df['mev_cui_len']==0)].shape"
   ]
  },
  {
   "cell_type": "code",
   "execution_count": null,
   "metadata": {},
   "outputs": [],
   "source": [
    "df.shape"
   ]
  },
  {
   "cell_type": "code",
   "execution_count": null,
   "metadata": {},
   "outputs": [],
   "source": [
    "df[df['FINAL_CUI_len']==0][['Value_ID', 'value','replacement']].to_csv(path_output+'nothaving_cui.csv', encoding='utf-8',\\\n",
    "    index=False)\n",
    "df[df['FINAL_CUI_len']==0]"
   ]
  },
  {
   "cell_type": "code",
   "execution_count": null,
   "metadata": {},
   "outputs": [],
   "source": [
    "df_id_cui_cn.head(1)"
   ]
  },
  {
   "cell_type": "code",
   "execution_count": null,
   "metadata": {},
   "outputs": [],
   "source": [
    "df_count_cn = df_id_cui_cn.groupby(['FINAL_CUI'])[['TEXT_ID']].count()\n",
    "df_top_cn = df_count_cn.sort_values(['TEXT_ID'],ascending=False)\n",
    "cui_cn_dict = dict(zip(df_id_cui_cn.FINAL_CUI, df_id_cui_cn.Canonical_Name))\n",
    "df_top_cn.head(10)"
   ]
  },
  {
   "cell_type": "code",
   "execution_count": null,
   "metadata": {},
   "outputs": [],
   "source": [
    "df_top_cn['CUI'] = df_top_cn.index\n",
    "df_top_cn['Canonical_Name'] = df_top_cn['CUI'].apply(lambda x : cui_cn_dict[x])\n",
    "df_top_cn['TEXT_ID_COUNT'] = df_top_cn['TEXT_ID']"
   ]
  },
  {
   "cell_type": "code",
   "execution_count": null,
   "metadata": {},
   "outputs": [],
   "source": [
    "df_top_cn_new = df_top_cn[['CUI', 'TEXT_ID_COUNT', 'Canonical_Name']]"
   ]
  },
  {
   "cell_type": "code",
   "execution_count": null,
   "metadata": {},
   "outputs": [],
   "source": [
    "df_top_cn_new.head(10)"
   ]
  },
  {
   "cell_type": "code",
   "execution_count": null,
   "metadata": {},
   "outputs": [],
   "source": [
    "import numpy as np\n",
    "import pandas as pd\n",
    "import matplotlib.pyplot as plt\n",
    "\n",
    "df_top_cn_new_num = df_top_cn_new.iloc[0:10]\n",
    "freq_series = df_top_cn_new_num.TEXT_ID_COUNT\n",
    "\n",
    "x_labels = df_top_cn_new_num.Canonical_Name\n",
    "\n",
    "# Plot the figure.\n",
    "plt.figure(figsize=(10, 6))\n",
    "ax = freq_series.plot(kind='bar')\n",
    "ax.set_title('CUI Text Count')\n",
    "ax.set_xlabel('Canonical Name')\n",
    "ax.set_ylabel('Text Count')\n",
    "ax.set_xticklabels(x_labels)\n",
    "plt.xticks(rotation=45, ha='right')\n",
    "rects = ax.patches\n",
    "\n",
    "# Make some labels.\n",
    "labels = df_top_cn_new_num.CUI\n",
    "\n",
    "for rect, label in zip(rects, labels):\n",
    "    height = rect.get_height()\n",
    "    ax.text(rect.get_x() + rect.get_width() / 2, height + 1, label,\n",
    "            ha='center', va='bottom')"
   ]
  },
  {
   "cell_type": "code",
   "execution_count": null,
   "metadata": {},
   "outputs": [],
   "source": [
    "import plotly.express as px\n",
    "fig = px.bar(df_top_cn_new.iloc[0:10], y='TEXT_ID_COUNT', x='CUI', text='TEXT_ID_COUNT', hover_data=['Canonical_Name'], width=1000, height=500, labels='Canonical_Name')\n",
    "fig.update_traces(texttemplate='%{text:.2s}', textposition='outside')\n",
    "fig.update_layout(uniformtext_minsize=8, uniformtext_mode='hide',xaxis_tickangle=-45)\n",
    "fig.show()\n",
    "fig.write_html(path_output+\"plot1.html\")"
   ]
  },
  {
   "cell_type": "code",
   "execution_count": null,
   "metadata": {},
   "outputs": [],
   "source": [
    "df[df['value'].str.contains(\" EN \")][['Value_ID','value','replacement','google_abbr','deepl_abbr']].to_csv(path_output+'EN_wrong_replaced.csv', encoding='utf-8', index=False)"
   ]
  },
  {
   "cell_type": "code",
   "execution_count": null,
   "metadata": {},
   "outputs": [],
   "source": [
    "# load cui embeddings\n",
    "with open(path+'embeddings_cui.pkl', 'rb') as f:\n",
    "    embeddings_cui = pickle.load(f)\n",
    "\n",
    "print(len(embeddings_cui))\n",
    "\n",
    "df_top_cn_CS = pd.read_csv(path_output+'df_top_cn_CS.csv', encoding='utf-8')\n",
    "df_top_cn_CS.head(10)"
   ]
  },
  {
   "cell_type": "code",
   "execution_count": 41,
   "metadata": {},
   "outputs": [
    {
     "output_type": "stream",
     "name": "stdout",
     "text": [
      "(8877, 8)\n(3356, 8)\n"
     ]
    },
    {
     "output_type": "execute_result",
     "data": {
      "text/plain": [
       "      TEXT_ID_COUNT       CUI                          Canonical_Name  \\\n",
       "7666              1  C0555957                             Scaly scalp   \n",
       "6898              1  C0036002                    S-adenosylmethionine   \n",
       "3784              1  C1262289                   dysmetabolic syndrome   \n",
       "2340              2  C0337677                        Moderate drinker   \n",
       "1898              3  C1997395  History of operative procedure on knee   \n",
       "\n",
       "                                                                                        semantic_type  \\\n",
       "7666                                                                              ['Sign or Symptom']   \n",
       "6898  ['Amino Acid, Peptide, or Protein', 'Pharmacologic Substance', 'Biologically Active Substance']   \n",
       "3784                                                                          ['Disease or Syndrome']   \n",
       "2340                                                                                      ['Finding']   \n",
       "1898                                                                                      ['Finding']   \n",
       "\n",
       "     CUI_NN_all               CUI_NN_CN_all  \\\n",
       "7666   C0231591             resisted motion   \n",
       "6898   C1330258                    estrogel   \n",
       "3784   C0860207  drug-induced liver disease   \n",
       "2340   C1709098          muscle stimulation   \n",
       "1898   C0455205                skin finding   \n",
       "\n",
       "                                                  CUI_NN_SEM_all  \\\n",
       "7666                                         ['Sign or Symptom']   \n",
       "6898  ['Organic Chemical', 'Pharmacologic Substance', 'Hormone']   \n",
       "3784                                     ['Disease or Syndrome']   \n",
       "2340                                                 ['Finding']   \n",
       "1898                                                 ['Finding']   \n",
       "\n",
       "      CUI_NN_CS_all  \n",
       "7666            1.0  \n",
       "6898            1.0  \n",
       "3784            1.0  \n",
       "2340            1.0  \n",
       "1898            1.0  "
      ],
      "text/html": "<div>\n<style scoped>\n    .dataframe tbody tr th:only-of-type {\n        vertical-align: middle;\n    }\n\n    .dataframe tbody tr th {\n        vertical-align: top;\n    }\n\n    .dataframe thead th {\n        text-align: right;\n    }\n</style>\n<table border=\"1\" class=\"dataframe\">\n  <thead>\n    <tr style=\"text-align: right;\">\n      <th></th>\n      <th>TEXT_ID_COUNT</th>\n      <th>CUI</th>\n      <th>Canonical_Name</th>\n      <th>semantic_type</th>\n      <th>CUI_NN_all</th>\n      <th>CUI_NN_CN_all</th>\n      <th>CUI_NN_SEM_all</th>\n      <th>CUI_NN_CS_all</th>\n    </tr>\n  </thead>\n  <tbody>\n    <tr>\n      <th>7666</th>\n      <td>1</td>\n      <td>C0555957</td>\n      <td>Scaly scalp</td>\n      <td>['Sign or Symptom']</td>\n      <td>C0231591</td>\n      <td>resisted motion</td>\n      <td>['Sign or Symptom']</td>\n      <td>1.0</td>\n    </tr>\n    <tr>\n      <th>6898</th>\n      <td>1</td>\n      <td>C0036002</td>\n      <td>S-adenosylmethionine</td>\n      <td>['Amino Acid, Peptide, or Protein', 'Pharmacologic Substance', 'Biologically Active Substance']</td>\n      <td>C1330258</td>\n      <td>estrogel</td>\n      <td>['Organic Chemical', 'Pharmacologic Substance', 'Hormone']</td>\n      <td>1.0</td>\n    </tr>\n    <tr>\n      <th>3784</th>\n      <td>1</td>\n      <td>C1262289</td>\n      <td>dysmetabolic syndrome</td>\n      <td>['Disease or Syndrome']</td>\n      <td>C0860207</td>\n      <td>drug-induced liver disease</td>\n      <td>['Disease or Syndrome']</td>\n      <td>1.0</td>\n    </tr>\n    <tr>\n      <th>2340</th>\n      <td>2</td>\n      <td>C0337677</td>\n      <td>Moderate drinker</td>\n      <td>['Finding']</td>\n      <td>C1709098</td>\n      <td>muscle stimulation</td>\n      <td>['Finding']</td>\n      <td>1.0</td>\n    </tr>\n    <tr>\n      <th>1898</th>\n      <td>3</td>\n      <td>C1997395</td>\n      <td>History of operative procedure on knee</td>\n      <td>['Finding']</td>\n      <td>C0455205</td>\n      <td>skin finding</td>\n      <td>['Finding']</td>\n      <td>1.0</td>\n    </tr>\n  </tbody>\n</table>\n</div>"
     },
     "metadata": {},
     "execution_count": 41
    }
   ],
   "source": [
    "df_top_cn_CS_sem = pd.read_csv(path_output+'df_top_cn_CS_sem_all.csv', encoding='utf-8') #df_top_cn_CS_sem_all\n",
    "print(df_top_cn_CS_sem.shape)\n",
    "df_top_cn_CS_sem.dropna(inplace=True)\n",
    "print(df_top_cn_CS_sem.shape)\n",
    "df_top_cn_CS_sem.sort_values(by=['CUI_NN_CS_all'], ascending=False, inplace=True)\n",
    "df_top_cn_CS_sem.head(5)"
   ]
  },
  {
   "cell_type": "code",
   "execution_count": 4,
   "metadata": {},
   "outputs": [
    {
     "output_type": "execute_result",
     "data": {
      "text/plain": [
       "   TEXT_ID_COUNT       CUI            Canonical_Name  \\\n",
       "0             83  C0520679  Sleep Apnea, Obstructive   \n",
       "1             81  C0037315     Sleep Apnea Syndromes   \n",
       "2             79  C1332550            Bilateral Mass   \n",
       "3             79  C0459680  Bilateral lateral rectus   \n",
       "4             79  C0238767                 Bilateral   \n",
       "\n",
       "                              semantic_type CUI_NN_all  \\\n",
       "0                   ['Disease or Syndrome']   C0520679   \n",
       "1                   ['Disease or Syndrome']   C0520679   \n",
       "2                               ['Finding']        NaN   \n",
       "3  ['Body Part, Organ, or Organ Component']        NaN   \n",
       "4                                       NaN        NaN   \n",
       "\n",
       "              CUI_NN_CN_all           CUI_NN_SEM_all  CUI_NN_CS_all  \n",
       "0  sleep apnea, obstructive  ['Disease or Syndrome']        1.00000  \n",
       "1  sleep apnea, obstructive  ['Disease or Syndrome']        0.87107  \n",
       "2                       NaN                      NaN            NaN  \n",
       "3                       NaN                      NaN            NaN  \n",
       "4                       NaN                      NaN            NaN  "
      ],
      "text/html": "<div>\n<style scoped>\n    .dataframe tbody tr th:only-of-type {\n        vertical-align: middle;\n    }\n\n    .dataframe tbody tr th {\n        vertical-align: top;\n    }\n\n    .dataframe thead th {\n        text-align: right;\n    }\n</style>\n<table border=\"1\" class=\"dataframe\">\n  <thead>\n    <tr style=\"text-align: right;\">\n      <th></th>\n      <th>TEXT_ID_COUNT</th>\n      <th>CUI</th>\n      <th>Canonical_Name</th>\n      <th>semantic_type</th>\n      <th>CUI_NN_all</th>\n      <th>CUI_NN_CN_all</th>\n      <th>CUI_NN_SEM_all</th>\n      <th>CUI_NN_CS_all</th>\n    </tr>\n  </thead>\n  <tbody>\n    <tr>\n      <th>0</th>\n      <td>83</td>\n      <td>C0520679</td>\n      <td>Sleep Apnea, Obstructive</td>\n      <td>['Disease or Syndrome']</td>\n      <td>C0520679</td>\n      <td>sleep apnea, obstructive</td>\n      <td>['Disease or Syndrome']</td>\n      <td>1.00000</td>\n    </tr>\n    <tr>\n      <th>1</th>\n      <td>81</td>\n      <td>C0037315</td>\n      <td>Sleep Apnea Syndromes</td>\n      <td>['Disease or Syndrome']</td>\n      <td>C0520679</td>\n      <td>sleep apnea, obstructive</td>\n      <td>['Disease or Syndrome']</td>\n      <td>0.87107</td>\n    </tr>\n    <tr>\n      <th>2</th>\n      <td>79</td>\n      <td>C1332550</td>\n      <td>Bilateral Mass</td>\n      <td>['Finding']</td>\n      <td>NaN</td>\n      <td>NaN</td>\n      <td>NaN</td>\n      <td>NaN</td>\n    </tr>\n    <tr>\n      <th>3</th>\n      <td>79</td>\n      <td>C0459680</td>\n      <td>Bilateral lateral rectus</td>\n      <td>['Body Part, Organ, or Organ Component']</td>\n      <td>NaN</td>\n      <td>NaN</td>\n      <td>NaN</td>\n      <td>NaN</td>\n    </tr>\n    <tr>\n      <th>4</th>\n      <td>79</td>\n      <td>C0238767</td>\n      <td>Bilateral</td>\n      <td>NaN</td>\n      <td>NaN</td>\n      <td>NaN</td>\n      <td>NaN</td>\n      <td>NaN</td>\n    </tr>\n  </tbody>\n</table>\n</div>"
     },
     "metadata": {},
     "execution_count": 4
    }
   ],
   "source": [
    "df_top_cn_CS_sem = pd.read_csv(path_output+'df_top_cn_CS_sem_all.csv', encoding='utf-8')\n",
    "df_top_cn_CS_sem.head(5)"
   ]
  },
  {
   "cell_type": "code",
   "execution_count": 6,
   "metadata": {},
   "outputs": [
    {
     "output_type": "execute_result",
     "data": {
      "text/plain": [
       "     TEXT_ID_COUNT       CUI Canonical_Name semantic_type CUI_NN_all  \\\n",
       "831              6  C0332173          Daily           NaN        NaN   \n",
       "\n",
       "    CUI_NN_CN_all CUI_NN_SEM_all  CUI_NN_CS_all  \n",
       "831           NaN            NaN            NaN  "
      ],
      "text/html": "<div>\n<style scoped>\n    .dataframe tbody tr th:only-of-type {\n        vertical-align: middle;\n    }\n\n    .dataframe tbody tr th {\n        vertical-align: top;\n    }\n\n    .dataframe thead th {\n        text-align: right;\n    }\n</style>\n<table border=\"1\" class=\"dataframe\">\n  <thead>\n    <tr style=\"text-align: right;\">\n      <th></th>\n      <th>TEXT_ID_COUNT</th>\n      <th>CUI</th>\n      <th>Canonical_Name</th>\n      <th>semantic_type</th>\n      <th>CUI_NN_all</th>\n      <th>CUI_NN_CN_all</th>\n      <th>CUI_NN_SEM_all</th>\n      <th>CUI_NN_CS_all</th>\n    </tr>\n  </thead>\n  <tbody>\n    <tr>\n      <th>831</th>\n      <td>6</td>\n      <td>C0332173</td>\n      <td>Daily</td>\n      <td>NaN</td>\n      <td>NaN</td>\n      <td>NaN</td>\n      <td>NaN</td>\n      <td>NaN</td>\n    </tr>\n  </tbody>\n</table>\n</div>"
     },
     "metadata": {},
     "execution_count": 6
    }
   ],
   "source": [
    "\n",
    "df_top_cn_CS_sem[df_top_cn_CS_sem['Canonical_Name']=='Daily']"
   ]
  },
  {
   "cell_type": "code",
   "execution_count": null,
   "metadata": {},
   "outputs": [],
   "source": []
  }
 ]
}