{
 "metadata": {
  "language_info": {
   "codemirror_mode": {
    "name": "ipython",
    "version": 3
   },
   "file_extension": ".py",
   "mimetype": "text/x-python",
   "name": "python",
   "nbconvert_exporter": "python",
   "pygments_lexer": "ipython3",
   "version": "3.6.13"
  },
  "orig_nbformat": 2,
  "kernelspec": {
   "name": "python3",
   "display_name": "Python 3.6.13 64-bit ('scispacy_0.4': conda)"
  },
  "interpreter": {
   "hash": "a70084e415d3a7a6e045d5423124f4f63f520ff68c2c2d3722b0024c2c4b1684"
  }
 },
 "nbformat": 4,
 "nbformat_minor": 2,
 "cells": [
  {
   "cell_type": "code",
   "execution_count": 19,
   "metadata": {},
   "outputs": [],
   "source": [
    "import pandas as pd\n",
    "import numpy as np\n",
    "import pickle\n",
    "\n",
    "pd.set_option('display.max_rows', 6000)\n",
    "pd.set_option('display.max_columns', 500)\n",
    "pd.set_option('display.max_colwidth', 1000)"
   ]
  },
  {
   "cell_type": "code",
   "execution_count": 20,
   "metadata": {},
   "outputs": [],
   "source": [
    "path = '/nfs/home/vyasa/projects/proj_off/data_off/clarify/spanish_comorbidity/new/'\n",
    "path_output = '/nfs/home/vyasa/projects/proj_off/data_off/clarify/spanish_comorbidity/new/output/'"
   ]
  },
  {
   "cell_type": "code",
   "execution_count": null,
   "metadata": {},
   "outputs": [],
   "source": [
    "df = pd.read_csv(path_output+'id_text_cuiLst.csv', encoding='utf-8')\n",
    "df_id_text = pd.read_csv(path_output+'id_text_kg.csv', encoding='utf-8')\n",
    "df_id_cui = pd.read_csv(path_output+'id_cuis_kg.csv', encoding='utf-8')\n",
    "df_id_cui_cn = pd.read_csv(path_output+'id_cuis_cn.csv', encoding='utf-8')"
   ]
  },
  {
   "cell_type": "code",
   "execution_count": null,
   "metadata": {},
   "outputs": [],
   "source": [
    "df.head(5)"
   ]
  },
  {
   "cell_type": "code",
   "execution_count": null,
   "metadata": {},
   "outputs": [],
   "source": [
    "df[['value']].to_csv(path_output+'text.csv', encoding='utf-8', index=False)"
   ]
  },
  {
   "cell_type": "code",
   "execution_count": null,
   "metadata": {},
   "outputs": [],
   "source": [
    "df_id_text.shape, df_id_cui.shape,"
   ]
  },
  {
   "cell_type": "code",
   "execution_count": null,
   "metadata": {},
   "outputs": [],
   "source": [
    "df_count = df_id_cui.groupby(['FINAL_CUI'])[['TEXT_ID']].count()\n",
    "df_top = df_count.sort_values(['TEXT_ID'],ascending=False).iloc[0:30]\n",
    "df_top.plot.bar()#x='lab', y='val', rot=0)"
   ]
  },
  {
   "cell_type": "code",
   "execution_count": null,
   "metadata": {},
   "outputs": [],
   "source": [
    "df[df['mev_cui_len']!=0].shape "
   ]
  },
  {
   "cell_type": "code",
   "execution_count": null,
   "metadata": {},
   "outputs": [],
   "source": [
    "df[(df['google_abbr_cui_len']!=0)& (df['deepl_abbr_cui_len']==0) & (df['mev_cui_len']==0)].shape"
   ]
  },
  {
   "cell_type": "code",
   "execution_count": null,
   "metadata": {},
   "outputs": [],
   "source": [
    "df[(df['google_abbr_cui_len']==0)& (df['deepl_abbr_cui_len']!=0) & (df['mev_cui_len']==0)].shape"
   ]
  },
  {
   "cell_type": "code",
   "execution_count": null,
   "metadata": {},
   "outputs": [],
   "source": [
    "df[(df['google_abbr_cui_len']!=0)& (df['deepl_abbr_cui_len']!=0)& (df['mev_cui_len']==0)].shape"
   ]
  },
  {
   "cell_type": "code",
   "execution_count": null,
   "metadata": {},
   "outputs": [],
   "source": [
    "df[(df['google_abbr_cui_len']==0)& (df['deepl_abbr_cui_len']==0)& (df['mev_cui_len']==0)].shape"
   ]
  },
  {
   "cell_type": "code",
   "execution_count": null,
   "metadata": {},
   "outputs": [],
   "source": [
    "df.shape"
   ]
  },
  {
   "cell_type": "code",
   "execution_count": null,
   "metadata": {},
   "outputs": [],
   "source": [
    "df[df['FINAL_CUI_len']==0][['Value_ID', 'value','replacement']].to_csv(path_output+'nothaving_cui.csv', encoding='utf-8',\\\n",
    "    index=False)\n",
    "df[df['FINAL_CUI_len']==0]"
   ]
  },
  {
   "cell_type": "code",
   "execution_count": null,
   "metadata": {},
   "outputs": [],
   "source": [
    "df_id_cui_cn.head(1)"
   ]
  },
  {
   "cell_type": "code",
   "execution_count": null,
   "metadata": {},
   "outputs": [],
   "source": [
    "df_count_cn = df_id_cui_cn.groupby(['FINAL_CUI'])[['TEXT_ID']].count()\n",
    "df_top_cn = df_count_cn.sort_values(['TEXT_ID'],ascending=False)\n",
    "cui_cn_dict = dict(zip(df_id_cui_cn.FINAL_CUI, df_id_cui_cn.Canonical_Name))\n",
    "df_top_cn.head(10)"
   ]
  },
  {
   "cell_type": "code",
   "execution_count": null,
   "metadata": {},
   "outputs": [],
   "source": [
    "df_top_cn['CUI'] = df_top_cn.index\n",
    "df_top_cn['Canonical_Name'] = df_top_cn['CUI'].apply(lambda x : cui_cn_dict[x])\n",
    "df_top_cn['TEXT_ID_COUNT'] = df_top_cn['TEXT_ID']"
   ]
  },
  {
   "cell_type": "code",
   "execution_count": null,
   "metadata": {},
   "outputs": [],
   "source": [
    "df_top_cn_new = df_top_cn[['CUI', 'TEXT_ID_COUNT', 'Canonical_Name']]"
   ]
  },
  {
   "cell_type": "code",
   "execution_count": null,
   "metadata": {},
   "outputs": [],
   "source": [
    "df_top_cn_new.head(10)"
   ]
  },
  {
   "cell_type": "code",
   "execution_count": null,
   "metadata": {},
   "outputs": [],
   "source": [
    "import numpy as np\n",
    "import pandas as pd\n",
    "import matplotlib.pyplot as plt\n",
    "\n",
    "df_top_cn_new_num = df_top_cn_new.iloc[0:10]\n",
    "freq_series = df_top_cn_new_num.TEXT_ID_COUNT\n",
    "\n",
    "x_labels = df_top_cn_new_num.Canonical_Name\n",
    "\n",
    "# Plot the figure.\n",
    "plt.figure(figsize=(10, 6))\n",
    "ax = freq_series.plot(kind='bar')\n",
    "ax.set_title('CUI Text Count')\n",
    "ax.set_xlabel('Canonical Name')\n",
    "ax.set_ylabel('Text Count')\n",
    "ax.set_xticklabels(x_labels)\n",
    "plt.xticks(rotation=45, ha='right')\n",
    "rects = ax.patches\n",
    "\n",
    "# Make some labels.\n",
    "labels = df_top_cn_new_num.CUI\n",
    "\n",
    "for rect, label in zip(rects, labels):\n",
    "    height = rect.get_height()\n",
    "    ax.text(rect.get_x() + rect.get_width() / 2, height + 1, label,\n",
    "            ha='center', va='bottom')"
   ]
  },
  {
   "cell_type": "code",
   "execution_count": null,
   "metadata": {},
   "outputs": [],
   "source": [
    "import plotly.express as px\n",
    "fig = px.bar(df_top_cn_new.iloc[0:10], y='TEXT_ID_COUNT', x='CUI', text='TEXT_ID_COUNT', hover_data=['Canonical_Name'], width=1000, height=500, labels='Canonical_Name')\n",
    "fig.update_traces(texttemplate='%{text:.2s}', textposition='outside')\n",
    "fig.update_layout(uniformtext_minsize=8, uniformtext_mode='hide',xaxis_tickangle=-45)\n",
    "fig.show()\n",
    "fig.write_html(path_output+\"plot1.html\")"
   ]
  },
  {
   "cell_type": "code",
   "execution_count": null,
   "metadata": {},
   "outputs": [],
   "source": [
    "df[df['value'].str.contains(\" EN \")][['Value_ID','value','replacement','google_abbr','deepl_abbr']].to_csv(path_output+'EN_wrong_replaced.csv', encoding='utf-8', index=False)"
   ]
  },
  {
   "cell_type": "code",
   "execution_count": 21,
   "metadata": {},
   "outputs": [
    {
     "output_type": "stream",
     "name": "stdout",
     "text": [
      "109053\n"
     ]
    },
    {
     "output_type": "execute_result",
     "data": {
      "text/plain": [
       "   TEXT_ID       CUI                           Canonical_Name  TEXT_ID_COUNT  \\\n",
       "0        1  C0555957                              Scaly scalp              1   \n",
       "1        1  C0269202                           Cyst of cervix              1   \n",
       "2        1  C0578682                     Madarosis of eyebrow              1   \n",
       "3        2  C1838421                        No kidney disease              2   \n",
       "4        1  C1513735                      Multilocular Lesion              1   \n",
       "5        1  C1262289                    dysmetabolic syndrome              1   \n",
       "6        1  C0264315                         Edema of glottis              1   \n",
       "7        3  C1557397       Adverse Event Associated with Pain              3   \n",
       "8        3  C1556682  Adverse Event Associated with Infection              3   \n",
       "9        1  C0221365                            Double ureter              1   \n",
       "\n",
       "  CUI_NN_imp                                              CUI_NN_CN_imp  \\\n",
       "0   C0024117                         Chronic Obstructive Airway Disease   \n",
       "1   C0024117                         Chronic Obstructive Airway Disease   \n",
       "2   C0024117                         Chronic Obstructive Airway Disease   \n",
       "3   C1559265  Adverse Event Associated with the Gastrointestinal System   \n",
       "4   C0024117                         Chronic Obstructive Airway Disease   \n",
       "5   C1559265  Adverse Event Associated with the Gastrointestinal System   \n",
       "6   C1559265  Adverse Event Associated with the Gastrointestinal System   \n",
       "7   C1559265  Adverse Event Associated with the Gastrointestinal System   \n",
       "8   C0024117                         Chronic Obstructive Airway Disease   \n",
       "9   C0024117                         Chronic Obstructive Airway Disease   \n",
       "\n",
       "   CUI_NN_CS_imp CUI_NN_all                             CUI_NN_CN_all  \\\n",
       "0       0.068847   C0420607  Examination categorized by action status   \n",
       "1       0.068845   C0075504                            sulfabenzamide   \n",
       "2       0.068850   C2343567                                 Pedia-Lax   \n",
       "3       0.999999   C0560505                               Able to hit   \n",
       "4       0.068841   C0455205                              Skin finding   \n",
       "5       0.999999   C0050285                                     A 145   \n",
       "6       0.999999   C0432923                 Superficial incised wound   \n",
       "7       1.000000   C1299585                                  Does not   \n",
       "8       0.068762   C0162800                         Dietary Potassium   \n",
       "9       0.068852   C1865016                                       NaN   \n",
       "\n",
       "   CUI_NN_CS_all  \n",
       "0            1.0  \n",
       "1            1.0  \n",
       "2            1.0  \n",
       "3            1.0  \n",
       "4            1.0  \n",
       "5            1.0  \n",
       "6            1.0  \n",
       "7            1.0  \n",
       "8            1.0  \n",
       "9            1.0  "
      ],
      "text/html": "<div>\n<style scoped>\n    .dataframe tbody tr th:only-of-type {\n        vertical-align: middle;\n    }\n\n    .dataframe tbody tr th {\n        vertical-align: top;\n    }\n\n    .dataframe thead th {\n        text-align: right;\n    }\n</style>\n<table border=\"1\" class=\"dataframe\">\n  <thead>\n    <tr style=\"text-align: right;\">\n      <th></th>\n      <th>TEXT_ID</th>\n      <th>CUI</th>\n      <th>Canonical_Name</th>\n      <th>TEXT_ID_COUNT</th>\n      <th>CUI_NN_imp</th>\n      <th>CUI_NN_CN_imp</th>\n      <th>CUI_NN_CS_imp</th>\n      <th>CUI_NN_all</th>\n      <th>CUI_NN_CN_all</th>\n      <th>CUI_NN_CS_all</th>\n    </tr>\n  </thead>\n  <tbody>\n    <tr>\n      <th>0</th>\n      <td>1</td>\n      <td>C0555957</td>\n      <td>Scaly scalp</td>\n      <td>1</td>\n      <td>C0024117</td>\n      <td>Chronic Obstructive Airway Disease</td>\n      <td>0.068847</td>\n      <td>C0420607</td>\n      <td>Examination categorized by action status</td>\n      <td>1.0</td>\n    </tr>\n    <tr>\n      <th>1</th>\n      <td>1</td>\n      <td>C0269202</td>\n      <td>Cyst of cervix</td>\n      <td>1</td>\n      <td>C0024117</td>\n      <td>Chronic Obstructive Airway Disease</td>\n      <td>0.068845</td>\n      <td>C0075504</td>\n      <td>sulfabenzamide</td>\n      <td>1.0</td>\n    </tr>\n    <tr>\n      <th>2</th>\n      <td>1</td>\n      <td>C0578682</td>\n      <td>Madarosis of eyebrow</td>\n      <td>1</td>\n      <td>C0024117</td>\n      <td>Chronic Obstructive Airway Disease</td>\n      <td>0.068850</td>\n      <td>C2343567</td>\n      <td>Pedia-Lax</td>\n      <td>1.0</td>\n    </tr>\n    <tr>\n      <th>3</th>\n      <td>2</td>\n      <td>C1838421</td>\n      <td>No kidney disease</td>\n      <td>2</td>\n      <td>C1559265</td>\n      <td>Adverse Event Associated with the Gastrointestinal System</td>\n      <td>0.999999</td>\n      <td>C0560505</td>\n      <td>Able to hit</td>\n      <td>1.0</td>\n    </tr>\n    <tr>\n      <th>4</th>\n      <td>1</td>\n      <td>C1513735</td>\n      <td>Multilocular Lesion</td>\n      <td>1</td>\n      <td>C0024117</td>\n      <td>Chronic Obstructive Airway Disease</td>\n      <td>0.068841</td>\n      <td>C0455205</td>\n      <td>Skin finding</td>\n      <td>1.0</td>\n    </tr>\n    <tr>\n      <th>5</th>\n      <td>1</td>\n      <td>C1262289</td>\n      <td>dysmetabolic syndrome</td>\n      <td>1</td>\n      <td>C1559265</td>\n      <td>Adverse Event Associated with the Gastrointestinal System</td>\n      <td>0.999999</td>\n      <td>C0050285</td>\n      <td>A 145</td>\n      <td>1.0</td>\n    </tr>\n    <tr>\n      <th>6</th>\n      <td>1</td>\n      <td>C0264315</td>\n      <td>Edema of glottis</td>\n      <td>1</td>\n      <td>C1559265</td>\n      <td>Adverse Event Associated with the Gastrointestinal System</td>\n      <td>0.999999</td>\n      <td>C0432923</td>\n      <td>Superficial incised wound</td>\n      <td>1.0</td>\n    </tr>\n    <tr>\n      <th>7</th>\n      <td>3</td>\n      <td>C1557397</td>\n      <td>Adverse Event Associated with Pain</td>\n      <td>3</td>\n      <td>C1559265</td>\n      <td>Adverse Event Associated with the Gastrointestinal System</td>\n      <td>1.000000</td>\n      <td>C1299585</td>\n      <td>Does not</td>\n      <td>1.0</td>\n    </tr>\n    <tr>\n      <th>8</th>\n      <td>3</td>\n      <td>C1556682</td>\n      <td>Adverse Event Associated with Infection</td>\n      <td>3</td>\n      <td>C0024117</td>\n      <td>Chronic Obstructive Airway Disease</td>\n      <td>0.068762</td>\n      <td>C0162800</td>\n      <td>Dietary Potassium</td>\n      <td>1.0</td>\n    </tr>\n    <tr>\n      <th>9</th>\n      <td>1</td>\n      <td>C0221365</td>\n      <td>Double ureter</td>\n      <td>1</td>\n      <td>C0024117</td>\n      <td>Chronic Obstructive Airway Disease</td>\n      <td>0.068852</td>\n      <td>C1865016</td>\n      <td>NaN</td>\n      <td>1.0</td>\n    </tr>\n  </tbody>\n</table>\n</div>"
     },
     "metadata": {},
     "execution_count": 21
    }
   ],
   "source": [
    "# load cui embeddings\n",
    "with open(path+'embeddings_cui.pkl', 'rb') as f:\n",
    "    embeddings_cui = pickle.load(f)\n",
    "\n",
    "print(len(embeddings_cui))\n",
    "\n",
    "df_top_cn_CS = pd.read_csv(path_output+'df_top_cn_CS.csv', encoding='utf-8')\n",
    "df_top_cn_CS.head(10)"
   ]
  },
  {
   "cell_type": "code",
   "execution_count": 22,
   "metadata": {},
   "outputs": [],
   "source": [
    "df_sem_type_com = pd.read_csv(path+'semantic_type_comb.csv', encoding='ISO-8859-1')\n",
    "cui_comb = df_sem_type_com['CUI'].tolist()"
   ]
  },
  {
   "cell_type": "code",
   "execution_count": null,
   "metadata": {},
   "outputs": [],
   "source": [
    "df_top_cn_CS[(df_top_cn_CS['CUI'].isin(cui_comb)) & \n",
    "             (df_top_cn_CS['CUI'].isin(cui_comb))&  \n",
    "             (df_top_cn_CS['CUI'].isin(cui_comb))]"
   ]
  }
 ]
}