{
 "cells": [
  {
   "cell_type": "code",
   "execution_count": 1,
   "metadata": {},
   "outputs": [],
   "source": [
    "import pandas as pd\n",
    "pd.options.display.width = 0\n",
    "\n",
    "pd.set_option('display.max_rows', 6000)\n",
    "pd.set_option('display.max_columns', 500)\n",
    "pd.set_option('display.max_colwidth', 1000)\n",
    "#pd.describe_option('display')"
   ]
  },
  {
   "cell_type": "code",
   "execution_count": 2,
   "metadata": {},
   "outputs": [
    {
     "output_type": "execute_result",
     "data": {
      "text/plain": [
       "(5453, 4)"
      ]
     },
     "metadata": {},
     "execution_count": 2
    }
   ],
   "source": [
    "df = pd.read_csv('../../../../data_off/clarify/spanish_comorbidity/comorbidities_modified.csv', sep=',', error_bad_lines=True, encoding='utf-8')\n",
    "df.shape"
   ]
  },
  {
   "cell_type": "code",
   "execution_count": 3,
   "metadata": {},
   "outputs": [],
   "source": [
    "df['replacement'] = df['replacement'].str.replace(';', '')"
   ]
  },
  {
   "cell_type": "code",
   "execution_count": 4,
   "metadata": {},
   "outputs": [
    {
     "output_type": "stream",
     "name": "stdout",
     "text": [
      "Index(['table_name', 'column_name', 'value', 'replacement', ' CORRECTED'], dtype='object')\n"
     ]
    },
    {
     "output_type": "execute_result",
     "data": {
      "text/plain": [
       "{'Benign birads2 breast nodule': 'Bening breast nodule (BI-RADS)',\n",
       " 'Ht+ da cavit': 'Hormone therapy',\n",
       " 'Bilateral hydrosadenitis': 'Hidradenitis suppurativa',\n",
       " 'Scasest': 'Acute coronary syndrome',\n",
       " 'Iam': 'Acute Myocardial Infarction',\n",
       " 'Alcholic': 'Alcoholic',\n",
       " 'Hypoacucia': 'Hearing loss',\n",
       " 'Sd iavd': 'Right ventricle Acute myocardial infarction',\n",
       " 'Saphenous ischemia': 'Saphenous vein Ischemia'}"
      ]
     },
     "metadata": {},
     "execution_count": 4
    }
   ],
   "source": [
    "correction_dict = {'Benign BIRADS2 breast nodule': 'Bening breast nodule (BI-RADS)',\n",
    " 'HT+ DA cavit': 'Hormone therapy',\n",
    " 'Bilateral hydrosadenitis': 'Hidradenitis suppurativa',\n",
    " 'SCASEST': 'Acute coronary syndrome',\n",
    " 'IAM': 'Acute Myocardial Infarction',\n",
    " 'Alcholic': 'Alcoholic',\n",
    " 'Hypoacucia': 'Hearing loss',\n",
    " 'Sd IAVD': 'Right ventricle Acute myocardial infarction',\n",
    " 'Saphenous ischemia': 'Saphenous vein Ischemia'}"
   ]
  },
  {
   "cell_type": "code",
   "execution_count": 5,
   "metadata": {},
   "outputs": [],
   "source": [
    "df.replace({'replacement':correction_dict}, inplace=True)"
   ]
  },
  {
   "cell_type": "code",
   "execution_count": 6,
   "metadata": {},
   "outputs": [],
   "source": [
    "# Find Spanish Abbreviations"
   ]
  },
  {
   "cell_type": "code",
   "execution_count": 7,
   "metadata": {},
   "outputs": [
    {
     "output_type": "stream",
     "name": "stdout",
     "text": [
      "(5453, 1)\n(5453, 1)\n"
     ]
    }
   ],
   "source": [
    "df_sp_google = pd.read_csv('../../../../data_off/clarify/spanish_comorbidity/comorbidities_spanish_english_google.csv', sep=',', error_bad_lines=True, encoding='utf-8')\n",
    "print (df_sp_google.shape)\n",
    "\n",
    "df_sp_deep = pd.read_csv('../../../../data_off/clarify/spanish_comorbidity/spanish_english_deepl.csv', sep=',', error_bad_lines=True, encoding='utf-8')\n",
    "print (df_sp_deep.shape)"
   ]
  },
  {
   "cell_type": "code",
   "execution_count": 8,
   "metadata": {},
   "outputs": [],
   "source": [
    "df['replacement_google'] = df_sp_google['value']\n",
    "df['replacement_deepl'] = df_sp_deep['value']"
   ]
  },
  {
   "cell_type": "code",
   "execution_count": 9,
   "metadata": {},
   "outputs": [],
   "source": [
    "df['replacement'] = df['replacement'].str.strip()\n",
    "df['replacement_google'] = df['replacement_google'].str.strip()\n",
    "df['replacement_deepl'] = df['replacement_deepl'].str.strip()"
   ]
  },
  {
   "cell_type": "code",
   "execution_count": 10,
   "metadata": {},
   "outputs": [],
   "source": [
    "def capitalize_(text):\n",
    "    if type(text)==str:\n",
    "        if len(text)>0:\n",
    "            return text[0:1].capitalize()+text[1:]\n",
    "    else:\n",
    "        return text\n",
    "\n",
    "df['replacement'] = df['replacement'].apply(capitalize_)\n",
    "df['replacement_google'] = df['replacement_google'].apply(capitalize_)\n",
    "df['replacement_deepl'] = df['replacement_deepl'].apply(capitalize_)"
   ]
  },
  {
   "cell_type": "code",
   "execution_count": 11,
   "metadata": {},
   "outputs": [],
   "source": [
    "df.to_csv('../../../../data_off/clarify/spanish_comorbidity/spanish_google_deep_last.csv', index=False, encoding='utf-8')"
   ]
  },
  {
   "cell_type": "code",
   "execution_count": 12,
   "metadata": {},
   "outputs": [
    {
     "output_type": "execute_result",
     "data": {
      "text/plain": [
       "                   table_name        column_name  \\\n",
       "0                 comorbidity  positive_negative   \n",
       "1                 comorbidity  positive_negative   \n",
       "2  comorbidity_treatment_line        comorbidity   \n",
       "3  comorbidity_treatment_line        comorbidity   \n",
       "4  comorbidity_treatment_line        comorbidity   \n",
       "\n",
       "                                value                           replacement  \\\n",
       "0                                   0                                   NaN   \n",
       "1                                   1                                   NaN   \n",
       "2                   Gastritis crÛnica                     Chronic gastritis   \n",
       "3  Sarcoma PleomÛrfico Pectoral Mayor  Pectoralis major pleomorphic sarcoma   \n",
       "4                       hiperuricemia                         Hyperuricemia   \n",
       "\n",
       "                     replacement_google  \\\n",
       "0                                     0   \n",
       "1                                     1   \n",
       "2                     Chronic gastritis   \n",
       "3  Pectoralis Major Pleomorphic Sarcoma   \n",
       "4                         Hyperuricemia   \n",
       "\n",
       "                                 replacement_deepl  \n",
       "0                                                0  \n",
       "1                                                1  \n",
       "2                                Chronic gastritis  \n",
       "3  Pectoralis major pectoralis pleomÛrphic sarcoma  \n",
       "4                                    Hyperuricemia  "
      ],
      "text/html": "<div>\n<style scoped>\n    .dataframe tbody tr th:only-of-type {\n        vertical-align: middle;\n    }\n\n    .dataframe tbody tr th {\n        vertical-align: top;\n    }\n\n    .dataframe thead th {\n        text-align: right;\n    }\n</style>\n<table border=\"1\" class=\"dataframe\">\n  <thead>\n    <tr style=\"text-align: right;\">\n      <th></th>\n      <th>table_name</th>\n      <th>column_name</th>\n      <th>value</th>\n      <th>replacement</th>\n      <th>replacement_google</th>\n      <th>replacement_deepl</th>\n    </tr>\n  </thead>\n  <tbody>\n    <tr>\n      <th>0</th>\n      <td>comorbidity</td>\n      <td>positive_negative</td>\n      <td>0</td>\n      <td>NaN</td>\n      <td>0</td>\n      <td>0</td>\n    </tr>\n    <tr>\n      <th>1</th>\n      <td>comorbidity</td>\n      <td>positive_negative</td>\n      <td>1</td>\n      <td>NaN</td>\n      <td>1</td>\n      <td>1</td>\n    </tr>\n    <tr>\n      <th>2</th>\n      <td>comorbidity_treatment_line</td>\n      <td>comorbidity</td>\n      <td>Gastritis crÛnica</td>\n      <td>Chronic gastritis</td>\n      <td>Chronic gastritis</td>\n      <td>Chronic gastritis</td>\n    </tr>\n    <tr>\n      <th>3</th>\n      <td>comorbidity_treatment_line</td>\n      <td>comorbidity</td>\n      <td>Sarcoma PleomÛrfico Pectoral Mayor</td>\n      <td>Pectoralis major pleomorphic sarcoma</td>\n      <td>Pectoralis Major Pleomorphic Sarcoma</td>\n      <td>Pectoralis major pectoralis pleomÛrphic sarcoma</td>\n    </tr>\n    <tr>\n      <th>4</th>\n      <td>comorbidity_treatment_line</td>\n      <td>comorbidity</td>\n      <td>hiperuricemia</td>\n      <td>Hyperuricemia</td>\n      <td>Hyperuricemia</td>\n      <td>Hyperuricemia</td>\n    </tr>\n  </tbody>\n</table>\n</div>"
     },
     "metadata": {},
     "execution_count": 12
    }
   ],
   "source": [
    "df.head(5)"
   ]
  },
  {
   "cell_type": "code",
   "execution_count": 13,
   "metadata": {},
   "outputs": [
    {
     "output_type": "execute_result",
     "data": {
      "text/plain": [
       "                      table_name  column_name  \\\n",
       "5448  comorbidity_treatment_line  comorbidity   \n",
       "5449  comorbidity_treatment_line  comorbidity   \n",
       "5450  comorbidity_treatment_line  comorbidity   \n",
       "5451  comorbidity_treatment_line  comorbidity   \n",
       "5452  comorbidity_treatment_line  comorbidity   \n",
       "\n",
       "                                                                                                     value  \\\n",
       "5448                                                                                           AIT en 2017   \n",
       "5449                                                                                  pericarditis en 2013   \n",
       "5450                                                        hepatopatia crÛnica con fibrosis e HTP por VHB   \n",
       "5451                                                                                   enfermedad de crhon   \n",
       "5452  intervenido en 3 ocasiones por oclusiÛn intestinal ultima complicada y es portador de fistula entero   \n",
       "\n",
       "     replacement  \\\n",
       "5448        None   \n",
       "5449        None   \n",
       "5450        None   \n",
       "5451        None   \n",
       "5452        None   \n",
       "\n",
       "                                                                                           replacement_google  \\\n",
       "5448                                                                                              AIT in 2017   \n",
       "5449                                                                                     Pericarditis in 2013   \n",
       "5450                                                          Chronic liver disease with fibrosis and HBV PHT   \n",
       "5451                                                                                            Crhon disease   \n",
       "5452  Operated on 3 occasions for complicated last intestinal occlusion and is a carrier of an entire fistula   \n",
       "\n",
       "                                                                                      replacement_deepl  \n",
       "5448                                                                                        AIT in 2017  \n",
       "5449                                                                               Pericarditis in 2013  \n",
       "5450                                              Chronic hepatopathy with fibrosis and HBV-related PHT  \n",
       "5451                                                                                    Crhon's disease  \n",
       "5452  Operated 3 times for last complicated intestinal occlusion and is a carrier of an entire fistula.  "
      ],
      "text/html": "<div>\n<style scoped>\n    .dataframe tbody tr th:only-of-type {\n        vertical-align: middle;\n    }\n\n    .dataframe tbody tr th {\n        vertical-align: top;\n    }\n\n    .dataframe thead th {\n        text-align: right;\n    }\n</style>\n<table border=\"1\" class=\"dataframe\">\n  <thead>\n    <tr style=\"text-align: right;\">\n      <th></th>\n      <th>table_name</th>\n      <th>column_name</th>\n      <th>value</th>\n      <th>replacement</th>\n      <th>replacement_google</th>\n      <th>replacement_deepl</th>\n    </tr>\n  </thead>\n  <tbody>\n    <tr>\n      <th>5448</th>\n      <td>comorbidity_treatment_line</td>\n      <td>comorbidity</td>\n      <td>AIT en 2017</td>\n      <td>None</td>\n      <td>AIT in 2017</td>\n      <td>AIT in 2017</td>\n    </tr>\n    <tr>\n      <th>5449</th>\n      <td>comorbidity_treatment_line</td>\n      <td>comorbidity</td>\n      <td>pericarditis en 2013</td>\n      <td>None</td>\n      <td>Pericarditis in 2013</td>\n      <td>Pericarditis in 2013</td>\n    </tr>\n    <tr>\n      <th>5450</th>\n      <td>comorbidity_treatment_line</td>\n      <td>comorbidity</td>\n      <td>hepatopatia crÛnica con fibrosis e HTP por VHB</td>\n      <td>None</td>\n      <td>Chronic liver disease with fibrosis and HBV PHT</td>\n      <td>Chronic hepatopathy with fibrosis and HBV-related PHT</td>\n    </tr>\n    <tr>\n      <th>5451</th>\n      <td>comorbidity_treatment_line</td>\n      <td>comorbidity</td>\n      <td>enfermedad de crhon</td>\n      <td>None</td>\n      <td>Crhon disease</td>\n      <td>Crhon's disease</td>\n    </tr>\n    <tr>\n      <th>5452</th>\n      <td>comorbidity_treatment_line</td>\n      <td>comorbidity</td>\n      <td>intervenido en 3 ocasiones por oclusiÛn intestinal ultima complicada y es portador de fistula entero</td>\n      <td>None</td>\n      <td>Operated on 3 occasions for complicated last intestinal occlusion and is a carrier of an entire fistula</td>\n      <td>Operated 3 times for last complicated intestinal occlusion and is a carrier of an entire fistula.</td>\n    </tr>\n  </tbody>\n</table>\n</div>"
     },
     "metadata": {},
     "execution_count": 13
    }
   ],
   "source": [
    "df.tail(5)"
   ]
  },
  {
   "cell_type": "code",
   "execution_count": 14,
   "metadata": {},
   "outputs": [],
   "source": [
    "# Train_data\n",
    "df_MEV = df.dropna(subset=['replacement'])\n",
    "df_MEV.to_csv('../../../../data_off/clarify/spanish_comorbidity/train_MEV.csv', index=False, encoding='utf-8')"
   ]
  },
  {
   "cell_type": "code",
   "execution_count": 22,
   "metadata": {},
   "outputs": [
    {
     "output_type": "execute_result",
     "data": {
      "text/plain": [
       "['Benign BIRADS2 breast nodule',\n",
       " 'HT+ DA cavit',\n",
       " 'Hidradenitis suppurativa',\n",
       " 'SCASEST',\n",
       " 'IAM',\n",
       " 'Alcoholic',\n",
       " 'Hearing loss',\n",
       " 'Sd IAVD',\n",
       " 'Saphenous vein Ischemia']"
      ]
     },
     "metadata": {},
     "execution_count": 22
    }
   ],
   "source": [
    "df_MEV.reset_index().iloc[[60,67,132,160,163,444,446,478,507,]]['replacement'].tolist()"
   ]
  },
  {
   "cell_type": "code",
   "execution_count": null,
   "metadata": {},
   "outputs": [],
   "source": []
  }
 ],
 "metadata": {
  "kernelspec": {
   "name": "python376jvsc74a57bd03bf450dac8e30c2682a14291ee05461f24f9d33a85f8d7bd07a761e0031767ab",
   "display_name": "Python 3.7.6 64-bit ('base': conda)"
  },
  "language_info": {
   "codemirror_mode": {
    "name": "ipython",
    "version": 3
   },
   "file_extension": ".py",
   "mimetype": "text/x-python",
   "name": "python",
   "nbconvert_exporter": "python",
   "pygments_lexer": "ipython3",
   "version": "3.7.6"
  }
 },
 "nbformat": 4,
 "nbformat_minor": 4
}