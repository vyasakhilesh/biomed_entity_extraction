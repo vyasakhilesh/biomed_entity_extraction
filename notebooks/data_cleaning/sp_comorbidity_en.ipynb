{
 "cells": [
  {
   "cell_type": "code",
   "execution_count": 5,
   "metadata": {},
   "outputs": [],
   "source": [
    "import pandas as pd\n",
    "import re\n",
    "# from nltk.corpus import words\n",
    "from nltk.tokenize import word_tokenize\n",
    "import nltk\n",
    "#nltk.download('punkt')\n",
    "from textblob import Word\n",
    "pd.options.display.width = 0\n",
    "\n",
    "import spacy\n",
    "nlp = spacy.load('en_core_web_sm')\n",
    "all_stopwords = nlp.Defaults.stop_words\n",
    "\n",
    "pd.set_option('display.max_rows', 6000)\n",
    "pd.set_option('display.max_columns', 500)\n",
    "pd.set_option('display.max_colwidth', 1000)\n",
    "#pd.describe_option('display')\n",
    "# import enchant"
   ]
  },
  {
   "cell_type": "code",
   "execution_count": 6,
   "metadata": {},
   "outputs": [
    {
     "output_type": "execute_result",
     "data": {
      "text/plain": [
       "(5453, 4)"
      ]
     },
     "metadata": {},
     "execution_count": 6
    }
   ],
   "source": [
    "df = pd.read_csv('../../../../data_off/clarify/spanish_comorbidity/comorbidities_modified.csv', sep=',', error_bad_lines=True, encoding='utf-8')\n",
    "df.shape"
   ]
  },
  {
   "cell_type": "code",
   "execution_count": 7,
   "metadata": {},
   "outputs": [],
   "source": [
    "df['replacement'] = df['replacement'].str.replace(';', '')\n",
    "df['replacement'] = df['replacement'].str.strip()"
   ]
  },
  {
   "cell_type": "code",
   "execution_count": 8,
   "metadata": {},
   "outputs": [
    {
     "output_type": "execute_result",
     "data": {
      "text/plain": [
       "Index(['table_name', 'column_name', 'value', 'replacement'], dtype='object')"
      ]
     },
     "metadata": {},
     "execution_count": 8
    }
   ],
   "source": [
    "df.columns"
   ]
  },
  {
   "cell_type": "code",
   "execution_count": null,
   "metadata": {},
   "outputs": [],
   "source": [
    "correction_dict = {'Benign BIRADS2 breast nodule': 'Bening breast nodule (BI-RADS)',\n",
    " 'HT+ DA cavit': 'Hormone therapy',\n",
    " 'Bilateral hydrosadenitis': 'Hidradenitis suppurativa',\n",
    " 'SCASEST': 'Acute coronary syndrome',\n",
    " 'IAM': 'Acute Myocardial Infarction',\n",
    " 'Alcholic': 'Alcoholic',\n",
    " 'Hypoacucia': 'Hearing loss',\n",
    " 'Sd IAVD': 'Right ventricle Acute myocardial infarction',\n",
    " 'Saphenous ischemia': 'Saphenous vein Ischemia'}"
   ]
  },
  {
   "cell_type": "code",
   "execution_count": null,
   "metadata": {},
   "outputs": [],
   "source": [
    "df.replace({'replacement':correction_dict}, inplace=True)"
   ]
  },
  {
   "cell_type": "code",
   "execution_count": null,
   "metadata": {},
   "outputs": [],
   "source": [
    "# Find Spanish Abbreviations"
   ]
  },
  {
   "cell_type": "code",
   "execution_count": null,
   "metadata": {},
   "outputs": [],
   "source": [
    "df_sp_google = pd.read_csv('../../../../data_off/clarify/spanish_comorbidity/comorbidities_spanish_english_google.csv', sep=',', error_bad_lines=True, encoding='utf-8')\n",
    "print (df_sp_google.shape)\n",
    "\n",
    "df_sp_deep = pd.read_csv('../../../../data_off/clarify/spanish_comorbidity/spanish_english_deepl.csv', sep=',', error_bad_lines=True, encoding='utf-8')\n",
    "print (df_sp_deep.shape)"
   ]
  },
  {
   "cell_type": "code",
   "execution_count": null,
   "metadata": {},
   "outputs": [],
   "source": [
    "df['replacement_google'] = df_sp_google['value']\n",
    "df['replacement_deepl'] = df_sp_deep['value']"
   ]
  },
  {
   "cell_type": "code",
   "execution_count": null,
   "metadata": {},
   "outputs": [],
   "source": [
    "df['replacement_google'] = df['replacement_google'].str.strip()\n",
    "df['replacement_deepl'] = df['replacement_deepl'].str.strip()"
   ]
  },
  {
   "cell_type": "code",
   "execution_count": null,
   "metadata": {},
   "outputs": [],
   "source": [
    "def capitalize_(text):\n",
    "    if type(text)==str:\n",
    "        if len(text)>0:\n",
    "            return text[0:1].capitalize()+text[1:].lower()\n",
    "    else:\n",
    "        return text\n",
    "\n",
    "df['replacement'] = df['replacement'].apply(capitalize_)\n",
    "df['replacement_google'] = df['replacement_google'].apply(capitalize_)\n",
    "df['replacement_deepl'] = df['replacement_deepl'].apply(capitalize_)"
   ]
  },
  {
   "cell_type": "code",
   "execution_count": null,
   "metadata": {},
   "outputs": [],
   "source": [
    "# Remove stop words and years\n",
    "def remove_stopwords_numbers(text):\n",
    "    return ' '.join([word for word in word_tokenize(str(text)) if word not in all_stopwords and not word.isdigit()])\n",
    "\n",
    "df['replacement_google_withst_num'] = df['replacement_google'].apply(remove_stopwords_numbers)\n",
    "df['replacement_deepl_withst_num'] = df['replacement_deepl'].apply(remove_stopwords_numbers)"
   ]
  },
  {
   "cell_type": "code",
   "execution_count": null,
   "metadata": {
    "tags": []
   },
   "outputs": [],
   "source": [
    "# Calculate Abbreviations\n",
    "def find_in_english_dict(text):\n",
    "    for w in word_tokenize(text):\n",
    "        if Word(w.strip().lower()).spellcheck()[0][1]!=1.0 and len(re.findall(r\"[A-Z]{2,}\", w))>0 \\\n",
    "            and Word(w.strip().lower()).spellcheck()[0][0]!=w.strip().lower():\n",
    "            print (\"True\",w)\n",
    "          # print(w)\n",
    "            return True\n",
    "    return False\n",
    "\n",
    "df['haveAbbr'] = (df['value'].apply(lambda x : len(re.findall(r\"[A-Z]{2,}\", x))>0)) & \\\n",
    "    (df['replacement_google'].apply(find_in_english_dict))"
   ]
  },
  {
   "cell_type": "code",
   "execution_count": null,
   "metadata": {
    "tags": []
   },
   "outputs": [],
   "source": [
    "# Calculate no of stop words\n",
    "def stop_words_length(text):\n",
    "    # print (word_tokenize(str(text)))\n",
    "    return len([word for word in word_tokenize(str(text)) if word in all_stopwords])\n",
    "\n",
    "df['stop_words_google_len'] = df['replacement_google'].apply(stop_words_length)\n",
    "df['stop_words_deepl_len'] = df['replacement_deepl'].apply(stop_words_length)"
   ]
  },
  {
   "cell_type": "code",
   "execution_count": null,
   "metadata": {},
   "outputs": [],
   "source": [
    "df.to_csv('../../../../data_off/clarify/spanish_comorbidity/spanish_google_deep_last.csv', index=False, encoding='utf-8')"
   ]
  },
  {
   "cell_type": "code",
   "execution_count": null,
   "metadata": {},
   "outputs": [],
   "source": [
    "df[df['haveAbbr']==True].to_csv('../../../../data_off/clarify/spanish_comorbidity/spanish_google_deep_last_index.csv', index=True, encoding='utf-8')"
   ]
  },
  {
   "cell_type": "code",
   "execution_count": null,
   "metadata": {},
   "outputs": [],
   "source": [
    "df.head(5)"
   ]
  },
  {
   "cell_type": "code",
   "execution_count": null,
   "metadata": {},
   "outputs": [],
   "source": [
    "df.tail(5)"
   ]
  },
  {
   "cell_type": "code",
   "execution_count": null,
   "metadata": {},
   "outputs": [],
   "source": [
    "# Train_data\n",
    "df_MEV = df.dropna(subset=['replacement'])\n",
    "df_MEV.to_csv('../../../../data_off/clarify/spanish_comorbidity/train_MEV.csv', index=False, encoding='utf-8')"
   ]
  },
  {
   "cell_type": "code",
   "execution_count": null,
   "metadata": {},
   "outputs": [],
   "source": [
    "# df_MEV.reset_index().iloc[[60,67,132,160,163,444,446,462,467,478,507,511,573,675,677,721,834]]['replacement'].tolist()"
   ]
  },
  {
   "cell_type": "code",
   "execution_count": null,
   "metadata": {},
   "outputs": [],
   "source": [
    "df_MEV"
   ]
  },
  {
   "cell_type": "code",
   "execution_count": null,
   "metadata": {},
   "outputs": [],
   "source": [
    "print (all_stopwords)"
   ]
  },
  {
   "cell_type": "code",
   "execution_count": null,
   "metadata": {},
   "outputs": [],
   "source": []
  }
 ],
 "metadata": {
  "kernelspec": {
   "name": "python3710jvsc74a57bd0399d1cc73644b9c8e7484462cd4f9b3b32f61f571975f1cd01f67b06c060b9c6",
   "display_name": "Python 3.7.10 64-bit ('scispacy': conda)"
  },
  "language_info": {
   "codemirror_mode": {
    "name": "ipython",
    "version": 3
   },
   "file_extension": ".py",
   "mimetype": "text/x-python",
   "name": "python",
   "nbconvert_exporter": "python",
   "pygments_lexer": "ipython3",
   "version": "3.7.10"
  }
 },
 "nbformat": 4,
 "nbformat_minor": 4
}