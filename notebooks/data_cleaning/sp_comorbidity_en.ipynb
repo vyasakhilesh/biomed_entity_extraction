{
 "cells": [
  {
   "cell_type": "code",
   "execution_count": 1,
   "metadata": {},
   "outputs": [],
   "source": [
    "import pandas as pd\n",
    "import re\n",
    "import time\n",
    "# from nltk.corpus import words\n",
    "from nltk.tokenize import word_tokenize\n",
    "import nltk\n",
    "#nltk.download('punkt')\n",
    "from textblob import Word\n",
    "pd.options.display.width = 0\n",
    "\n",
    "import spacy\n",
    "nlp = spacy.load('en_core_web_sm')\n",
    "all_stopwords = nlp.Defaults.stop_words\n",
    "\n",
    "pd.set_option('display.max_rows', 6000)\n",
    "pd.set_option('display.max_columns', 500)\n",
    "pd.set_option('display.max_colwidth', 1000)\n",
    "#pd.describe_option('display')\n",
    "# import enchant"
   ]
  },
  {
   "cell_type": "code",
   "execution_count": null,
   "metadata": {},
   "outputs": [],
   "source": [
    "past_time = time.time()"
   ]
  },
  {
   "cell_type": "code",
   "execution_count": 2,
   "metadata": {},
   "outputs": [],
   "source": [
    "path='/nfs/home/vyasa/projects/proj_off/data_off/clarify/spanish_comorbidity/new/'"
   ]
  },
  {
   "cell_type": "code",
   "execution_count": 3,
   "metadata": {},
   "outputs": [
    {
     "output_type": "execute_result",
     "data": {
      "text/plain": [
       "(5453, 3)"
      ]
     },
     "metadata": {},
     "execution_count": 3
    }
   ],
   "source": [
    "df = pd.read_csv(path+'comorbidities_modified_witht_abbr.csv', sep=',', error_bad_lines=True, encoding='utf-8')\n",
    "df.shape"
   ]
  },
  {
   "cell_type": "code",
   "execution_count": 4,
   "metadata": {},
   "outputs": [
    {
     "output_type": "execute_result",
     "data": {
      "text/plain": [
       "                                value                    value_witht_abbr  \\\n",
       "0                                   0                                   0   \n",
       "1                                   1                                   1   \n",
       "2                   Gastritis crÛnica                   Gastritis crÛnica   \n",
       "3  Sarcoma PleomÛrfico Pectoral Mayor  Sarcoma PleomÛrfico Pectoral Mayor   \n",
       "4                       hiperuricemia                       hiperuricemia   \n",
       "\n",
       "                             replacement  \n",
       "0                                    NaN  \n",
       "1                                    NaN  \n",
       "2                     Chronic gastritis;  \n",
       "3  Pectoralis major pleomorphic sarcoma;  \n",
       "4                         Hyperuricemia;  "
      ],
      "text/html": "<div>\n<style scoped>\n    .dataframe tbody tr th:only-of-type {\n        vertical-align: middle;\n    }\n\n    .dataframe tbody tr th {\n        vertical-align: top;\n    }\n\n    .dataframe thead th {\n        text-align: right;\n    }\n</style>\n<table border=\"1\" class=\"dataframe\">\n  <thead>\n    <tr style=\"text-align: right;\">\n      <th></th>\n      <th>value</th>\n      <th>value_witht_abbr</th>\n      <th>replacement</th>\n    </tr>\n  </thead>\n  <tbody>\n    <tr>\n      <th>0</th>\n      <td>0</td>\n      <td>0</td>\n      <td>NaN</td>\n    </tr>\n    <tr>\n      <th>1</th>\n      <td>1</td>\n      <td>1</td>\n      <td>NaN</td>\n    </tr>\n    <tr>\n      <th>2</th>\n      <td>Gastritis crÛnica</td>\n      <td>Gastritis crÛnica</td>\n      <td>Chronic gastritis;</td>\n    </tr>\n    <tr>\n      <th>3</th>\n      <td>Sarcoma PleomÛrfico Pectoral Mayor</td>\n      <td>Sarcoma PleomÛrfico Pectoral Mayor</td>\n      <td>Pectoralis major pleomorphic sarcoma;</td>\n    </tr>\n    <tr>\n      <th>4</th>\n      <td>hiperuricemia</td>\n      <td>hiperuricemia</td>\n      <td>Hyperuricemia;</td>\n    </tr>\n  </tbody>\n</table>\n</div>"
     },
     "metadata": {},
     "execution_count": 4
    }
   ],
   "source": [
    "df.head(5)"
   ]
  },
  {
   "cell_type": "code",
   "execution_count": 5,
   "metadata": {},
   "outputs": [],
   "source": [
    "df['replacement'] = df['replacement'].str.replace(';', '')\n",
    "df['replacement'] = df['replacement'].str.strip()"
   ]
  },
  {
   "cell_type": "code",
   "execution_count": 6,
   "metadata": {},
   "outputs": [
    {
     "output_type": "execute_result",
     "data": {
      "text/plain": [
       "Index(['value', 'value_witht_abbr', 'replacement'], dtype='object')"
      ]
     },
     "metadata": {},
     "execution_count": 6
    }
   ],
   "source": [
    "df.columns"
   ]
  },
  {
   "cell_type": "code",
   "execution_count": 7,
   "metadata": {},
   "outputs": [],
   "source": [
    "correction_dict = {'Benign BIRADS2 breast nodule': 'Bening breast nodule (BI-RADS)',\n",
    " 'HT+ DA cavit': 'Hormone therapy',\n",
    " 'Bilateral hydrosadenitis': 'Hidradenitis suppurativa',\n",
    " 'SCASEST': 'Acute coronary syndrome',\n",
    " 'IAM': 'Acute Myocardial Infarction',\n",
    " 'Alcholic': 'Alcoholic',\n",
    " 'Hypoacucia': 'Hearing loss',\n",
    " 'Sd IAVD': 'Right ventricle Acute myocardial infarction',\n",
    " 'Saphenous ischemia': 'Saphenous vein Ischemia'}"
   ]
  },
  {
   "cell_type": "code",
   "execution_count": 8,
   "metadata": {},
   "outputs": [],
   "source": [
    "df.replace({'replacement':correction_dict}, inplace=True)"
   ]
  },
  {
   "cell_type": "code",
   "execution_count": 9,
   "metadata": {},
   "outputs": [],
   "source": [
    "# Find Spanish Abbreviations"
   ]
  },
  {
   "cell_type": "code",
   "execution_count": 10,
   "metadata": {},
   "outputs": [
    {
     "output_type": "stream",
     "name": "stdout",
     "text": [
      "(5453, 1)\n(5453, 1)\n"
     ]
    }
   ],
   "source": [
    "df_sp_google = pd.read_csv(path+'comorbidities_spanish_english_google.csv', sep=',', error_bad_lines=True, encoding='utf-8')\n",
    "print (df_sp_google.shape)\n",
    "\n",
    "df_sp_google_abbr = pd.read_csv(path+'comorbidities_value_abbr_google.csv', sep=',', error_bad_lines=True, encoding='utf-8')\n",
    "print (df_sp_google.shape)\n",
    "\n"
   ]
  },
  {
   "cell_type": "code",
   "execution_count": 11,
   "metadata": {},
   "outputs": [
    {
     "output_type": "stream",
     "name": "stdout",
     "text": [
      "(5453, 1)\n(5453, 1)\n"
     ]
    }
   ],
   "source": [
    "df_sp_deep = pd.read_csv(path+'comorbidities_spanish_english_deepl.csv', sep=',', error_bad_lines=True, encoding='utf-8')\n",
    "print (df_sp_deep.shape)\n",
    "\n",
    "df_sp_deep_abbr = pd.read_csv(path+'comorbidities_value_abbr_deepl.csv', sep=',', error_bad_lines=True, encoding='utf-8')\n",
    "print (df_sp_deep.shape)"
   ]
  },
  {
   "cell_type": "code",
   "execution_count": 12,
   "metadata": {},
   "outputs": [],
   "source": [
    "df['google'] = df_sp_google['value']\n",
    "df['deepl'] = df_sp_deep['value']\n",
    "df['google_abbr'] = df_sp_google_abbr['value_witht_abbr_google']\n",
    "df['deepl_abbr'] = df_sp_deep_abbr['value_witht_abbr_deepl']"
   ]
  },
  {
   "cell_type": "code",
   "execution_count": 13,
   "metadata": {},
   "outputs": [],
   "source": [
    "df['google'] = df['google'].str.strip()\n",
    "df['deepl'] = df['deepl'].str.strip()\n",
    "df['google_abbr'] = df['google_abbr'].str.strip()\n",
    "df['deepl_abbr'] = df['deepl_abbr'].str.strip()"
   ]
  },
  {
   "cell_type": "code",
   "execution_count": 14,
   "metadata": {},
   "outputs": [],
   "source": [
    "def capitalize_(text):\n",
    "    if type(text)==str:\n",
    "        if len(text)>0:\n",
    "            return text[0:1].capitalize()+text[1:].lower()\n",
    "    else:\n",
    "        return text\n",
    "\n",
    "df['replacement'] = df['replacement'].apply(capitalize_)\n",
    "df['google'] = df['google'].apply(capitalize_)\n",
    "df['deepl'] = df['deepl'].apply(capitalize_)\n",
    "df['google_abbr'] = df['google_abbr'].apply(capitalize_)\n",
    "df['deepl_abbr'] = df['deepl_abbr'].apply(capitalize_)"
   ]
  },
  {
   "cell_type": "code",
   "execution_count": 15,
   "metadata": {},
   "outputs": [],
   "source": [
    "# Remove stop words and years\n",
    "def remove_stopwords_numbers(text):\n",
    "    return ' '.join([word for word in word_tokenize(str(text)) if word not in all_stopwords and not word.isdigit()])\n",
    "\n",
    "df['google_withst_num'] = df['google'].apply(remove_stopwords_numbers)\n",
    "df['deepl_withst_num'] = df['deepl'].apply(remove_stopwords_numbers)\n",
    "df['google_abbr_withst_num'] = df['google_abbr'].apply(remove_stopwords_numbers)\n",
    "df['deepl_abbr_withst_num'] = df['deepl_abbr'].apply(remove_stopwords_numbers)"
   ]
  },
  {
   "cell_type": "code",
   "execution_count": null,
   "metadata": {
    "tags": []
   },
   "outputs": [],
   "source": [
    "# Calculate Abbreviations\n",
    "def find_in_english_dict(text):\n",
    "    for w in word_tokenize(text):\n",
    "        if Word(w.strip().lower()).spellcheck()[0][1]!=1.0 and len(re.findall(r\"[A-Z]{2,}\", w))>0 \\\n",
    "            and Word(w.strip().lower()).spellcheck()[0][0]!=w.strip().lower():\n",
    "            print (\"True\",w)\n",
    "          # print(w)\n",
    "            return True\n",
    "    return False\n",
    "\n",
    "df['haveAbbr'] = (df['value_witht_abbr'].apply(lambda x : len(re.findall(r\"[A-Z]{2,}\", x))>0)) & \\\n",
    "    (df['google'].apply(find_in_english_dict))"
   ]
  },
  {
   "cell_type": "code",
   "execution_count": null,
   "metadata": {
    "tags": []
   },
   "outputs": [],
   "source": [
    "# Calculate no of stop words\n",
    "def stop_words_length(text):\n",
    "    # print (word_tokenize(str(text)))\n",
    "    return len([word for word in word_tokenize(str(text)) if word in all_stopwords])\n",
    "\n",
    "df['stop_words_google_len'] = df['google'].apply(stop_words_length)\n",
    "df['stop_words_deepl_len'] = df['deepl'].apply(stop_words_length)\n",
    "df['stop_words_google_abbr_len'] = df['google_abbr'].apply(stop_words_length)\n",
    "df['stop_words_deepl_abbr_len'] = df['deepl_abbr'].apply(stop_words_length)"
   ]
  },
  {
   "cell_type": "code",
   "execution_count": null,
   "metadata": {},
   "outputs": [],
   "source": [
    "df.to_csv(path+'spanish_google_deep_last.csv', index=False, encoding='utf-8')"
   ]
  },
  {
   "cell_type": "code",
   "execution_count": null,
   "metadata": {},
   "outputs": [],
   "source": [
    "df[df['haveAbbr']==True].to_csv(path+'spanish_google_deep_last_index.csv', index=True, encoding='utf-8')"
   ]
  },
  {
   "cell_type": "code",
   "execution_count": null,
   "metadata": {},
   "outputs": [],
   "source": [
    "df.head(5)"
   ]
  },
  {
   "cell_type": "code",
   "execution_count": null,
   "metadata": {},
   "outputs": [],
   "source": [
    "df.tail(5)"
   ]
  },
  {
   "cell_type": "code",
   "execution_count": null,
   "metadata": {},
   "outputs": [],
   "source": [
    "# Train_data\n",
    "df_MEV = df.dropna(subset=['replacement'])\n",
    "df_MEV.to_csv(path+'train_MEV.csv', index=False, encoding='utf-8')"
   ]
  },
  {
   "cell_type": "code",
   "execution_count": null,
   "metadata": {},
   "outputs": [],
   "source": [
    "# df_MEV.reset_index().iloc[[60,67,132,160,163,444,446,462,467,478,507,511,573,675,677,721,834]]['replacement'].tolist()"
   ]
  },
  {
   "cell_type": "code",
   "execution_count": null,
   "metadata": {},
   "outputs": [],
   "source": [
    "df_MEV"
   ]
  },
  {
   "cell_type": "code",
   "execution_count": null,
   "metadata": {},
   "outputs": [],
   "source": [
    "print (all_stopwords)"
   ]
  },
  {
   "cell_type": "code",
   "execution_count": null,
   "metadata": {},
   "outputs": [],
   "source": [
    "print (\"Total_Time ({}(in Hrs) : {}(in Mins)\".format((time.time()-past_time)/3600.0, (time.time()-past_time)/60.0))"
   ]
  }
 ],
 "metadata": {
  "kernelspec": {
   "name": "python3710jvsc74a57bd0399d1cc73644b9c8e7484462cd4f9b3b32f61f571975f1cd01f67b06c060b9c6",
   "display_name": "Python 3.7.10 64-bit ('scispacy': conda)"
  },
  "language_info": {
   "codemirror_mode": {
    "name": "ipython",
    "version": 3
   },
   "file_extension": ".py",
   "mimetype": "text/x-python",
   "name": "python",
   "nbconvert_exporter": "python",
   "pygments_lexer": "ipython3",
   "version": "3.7.10"
  }
 },
 "nbformat": 4,
 "nbformat_minor": 4
}