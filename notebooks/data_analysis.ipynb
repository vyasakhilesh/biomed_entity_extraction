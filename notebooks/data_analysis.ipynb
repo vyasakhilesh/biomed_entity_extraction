{
 "metadata": {
  "language_info": {
   "codemirror_mode": {
    "name": "ipython",
    "version": 3
   },
   "file_extension": ".py",
   "mimetype": "text/x-python",
   "name": "python",
   "nbconvert_exporter": "python",
   "pygments_lexer": "ipython3",
   "version": "3.7.10"
  },
  "orig_nbformat": 2,
  "kernelspec": {
   "name": "python3710jvsc74a57bd0399d1cc73644b9c8e7484462cd4f9b3b32f61f571975f1cd01f67b06c060b9c6",
   "display_name": "Python 3.7.10 64-bit ('scispacy': conda)"
  }
 },
 "nbformat": 4,
 "nbformat_minor": 2,
 "cells": [
  {
   "cell_type": "code",
   "execution_count": 1,
   "metadata": {},
   "outputs": [],
   "source": [
    "import pandas as pd\n",
    "\n",
    "pd.set_option('display.max_rows', 6000)\n",
    "pd.set_option('display.max_columns', 500)\n",
    "pd.set_option('display.max_colwidth', 1000)"
   ]
  },
  {
   "cell_type": "code",
   "execution_count": 2,
   "metadata": {},
   "outputs": [],
   "source": [
    "path_output = '/nfs/home/vyasa/projects/proj_off/data_off/clarify/spanish_comorbidity/new/output/'\n",
    "\n",
    "df = pd.read_csv(path_output+'train_MEV_ents_jaccard.csv', encoding='utf-8')"
   ]
  },
  {
   "cell_type": "code",
   "execution_count": 3,
   "metadata": {},
   "outputs": [
    {
     "output_type": "execute_result",
     "data": {
      "text/plain": [
       "                                value                    value_witht_abbr  \\\n",
       "0                   Gastritis crÛnica                   Gastritis crÛnica   \n",
       "1  Sarcoma PleomÛrfico Pectoral Mayor  Sarcoma PleomÛrfico Pectoral Mayor   \n",
       "2                       hiperuricemia                       hiperuricemia   \n",
       "3            intervenido pÛlipo colon            intervenido pÛlipo colon   \n",
       "4         intervenido estenosis aorta         intervenido estenosis aorta   \n",
       "\n",
       "                            replacement                                google  \\\n",
       "0                     Chronic gastritis                     Chronic gastritis   \n",
       "1  Pectoralis major pleomorphic sarcoma  Pectoralis major pleomorphic sarcoma   \n",
       "2                         Hyperuricemia                         Hyperuricemia   \n",
       "3                  Colon polyp operated                Colon plipo intervened   \n",
       "4              Aortic stenosis operated              Operated aortic stenosis   \n",
       "\n",
       "                                             deepl  \\\n",
       "0                                Chronic gastritis   \n",
       "1  Pectoralis major pectoralis pleomûrphic sarcoma   \n",
       "2                                    Hyperuricemia   \n",
       "3                          Intervened pûlipo colon   \n",
       "4                       Intervened aortic stenosis   \n",
       "\n",
       "                            google_abbr                           deepl_abbr  \\\n",
       "0                     Chronic gastritis                    Chronic gastritis   \n",
       "1  Pectoralis major pleomorphic sarcoma  Pectoralis major pleomûrfic sarcoma   \n",
       "2                         Hyperuricemia                        Hyperuricemia   \n",
       "3                Colon plipo intervened              Intervened pûlipo colon   \n",
       "4              Operated aortic stenosis           Intervened aortic stenosis   \n",
       "\n",
       "                      google_withst_num  \\\n",
       "0                     Chronic gastritis   \n",
       "1  Pectoralis major pleomorphic sarcoma   \n",
       "2                         Hyperuricemia   \n",
       "3                Colon plipo intervened   \n",
       "4              Operated aortic stenosis   \n",
       "\n",
       "                                  deepl_withst_num  \\\n",
       "0                                Chronic gastritis   \n",
       "1  Pectoralis major pectoralis pleomûrphic sarcoma   \n",
       "2                                    Hyperuricemia   \n",
       "3                          Intervened pûlipo colon   \n",
       "4                       Intervened aortic stenosis   \n",
       "\n",
       "                 google_abbr_withst_num                deepl_abbr_withst_num  \\\n",
       "0                     Chronic gastritis                    Chronic gastritis   \n",
       "1  Pectoralis major pleomorphic sarcoma  Pectoralis major pleomûrfic sarcoma   \n",
       "2                         Hyperuricemia                        Hyperuricemia   \n",
       "3                Colon plipo intervened              Intervened pûlipo colon   \n",
       "4              Operated aortic stenosis           Intervened aortic stenosis   \n",
       "\n",
       "   haveAbbr  stop_words_google_len  stop_words_deepl_len  \\\n",
       "0     False                      0                     0   \n",
       "1     False                      0                     0   \n",
       "2     False                      0                     0   \n",
       "3     False                      0                     0   \n",
       "4     False                      0                     0   \n",
       "\n",
       "   stop_words_google_abbr_len  stop_words_deepl_abbr_len  \\\n",
       "0                           0                          0   \n",
       "1                           0                          0   \n",
       "2                           0                          0   \n",
       "3                           0                          0   \n",
       "4                           0                          0   \n",
       "\n",
       "                                ents                        google_ents  \\\n",
       "0               (Chronic gastritis,)               (Chronic gastritis,)   \n",
       "1  (Pectoralis, pleomorphic sarcoma)  (Pectoralis, pleomorphic sarcoma)   \n",
       "2                   (Hyperuricemia,)                   (Hyperuricemia,)   \n",
       "3                     (Colon polyp,)                     (Colon, plipo)   \n",
       "4                 (Aortic stenosis,)        (Operated aortic stenosis,)   \n",
       "\n",
       "                                     deepl_ents  \\\n",
       "0                          (Chronic gastritis,)   \n",
       "1  (Pectoralis, pectoralis pleomûrphic sarcoma)   \n",
       "2                              (Hyperuricemia,)   \n",
       "3                    (Intervened pûlipo colon,)   \n",
       "4                 (Intervened aortic stenosis,)   \n",
       "\n",
       "                    google_abbr_ents                   deepl_abbr_ents  \\\n",
       "0               (Chronic gastritis,)              (Chronic gastritis,)   \n",
       "1  (Pectoralis, pleomorphic sarcoma)  (Pectoralis, pleomûrfic sarcoma)   \n",
       "2                   (Hyperuricemia,)                  (Hyperuricemia,)   \n",
       "3                     (Colon, plipo)        (Intervened pûlipo colon,)   \n",
       "4        (Operated aortic stenosis,)     (Intervened aortic stenosis,)   \n",
       "\n",
       "   ents_len  google_ents_len  deepl_ents_len  google_abbr_ents_len  \\\n",
       "0         1                1               1                     1   \n",
       "1         2                2               2                     2   \n",
       "2         1                1               1                     1   \n",
       "3         1                2               1                     2   \n",
       "4         1                1               1                     1   \n",
       "\n",
       "   deepl_abbr_ents_len  \\\n",
       "0                    1   \n",
       "1                    2   \n",
       "2                    1   \n",
       "3                    1   \n",
       "4                    1   \n",
       "\n",
       "                                                                                                                                                                                                                                                                                                                               mev_cui_score  \\\n",
       "0                                                                                                                                                               [[('C0085695', 0.9999999403953552), ('C0267146', 0.8952037692070007), ('C0341194', 0.8572458028793335), ('C1275591', 0.8363184332847595), ('C0017154', 0.8076196908950806)]]   \n",
       "1  [[('C0030747', 1.0), ('C3674152', 0.9002574682235718), ('C3675353', 0.8634646534919739), ('C3678382', 0.8554095029830933), ('C1521735', 0.8199975490570068)], [('C1261358', 0.9260651469230652), ('C0205825', 0.8506943583488464), ('C0598607', 0.8253174424171448), ('C1514164', 0.7949097156524658), ('C0334463', 0.7733286619186401)]]   \n",
       "2                                                                                                                                                               [[('C0740394', 0.9999999403953552), ('C4553069', 0.9999999403953552), ('C1856288', 0.9496486783027649), ('C4685211', 0.8526141047477722), ('C4686280', 0.8423790335655212)]]   \n",
       "3                                                                                                                                                                              [[('C0009376', 1.0), ('C0032584', 0.8226818442344666), ('C1333090', 0.8206176161766052), ('C0742605', 0.7988194823265076), ('C0742556', 0.7651610374450684)]]   \n",
       "4                                                                                                                                                                              [[('C0003507', 1.0), ('C0685726', 0.8471635580062866), ('C0340335', 0.8208053112030029), ('C0340373', 0.8129273653030396), ('C0349516', 0.8079754114151001)]]   \n",
       "\n",
       "                                                                                                                                                                                                                                                                                                                            google_cui_score  \\\n",
       "0                                                                                                                                                               [[('C0085695', 0.9999999403953552), ('C0267146', 0.8952037692070007), ('C0341194', 0.8572458028793335), ('C1275591', 0.8363184332847595), ('C0017154', 0.8076196908950806)]]   \n",
       "1  [[('C0030747', 1.0), ('C3674152', 0.9002574682235718), ('C3675353', 0.8634646534919739), ('C3678382', 0.8554095029830933), ('C1521735', 0.8199975490570068)], [('C1261358', 0.9260651469230652), ('C0205825', 0.8506943583488464), ('C0598607', 0.8253174424171448), ('C1514164', 0.7949097156524658), ('C0334463', 0.7733286619186401)]]   \n",
       "2                                                                                                                                                               [[('C0740394', 0.9999999403953552), ('C4553069', 0.9999999403953552), ('C1856288', 0.9496486783027649), ('C4685211', 0.8526141047477722), ('C4686280', 0.8423790335655212)]]   \n",
       "3                                                                  [[('C0009368', 1.0), ('C2684091', 1.0), ('C3888384', 1.0), ('C0391907', 0.9528627991676331), ('C0007102', 0.8239243030548096)], [('C0122111', 0.7958453297615051), ('C1333906', 0.7958453297615051), ('C1705263', 0.7958453297615051), ('C3489413', 0.7958453297615051)]]   \n",
       "4                                                                                                                                                                                                                                   [[('C0003507', 0.8394865989685059), ('C0349516', 0.7845231294631958), ('C0685726', 0.7111824750900269)]]   \n",
       "\n",
       "                                                                                                                                                                                     deepl_cui_score  \\\n",
       "0                       [[('C0085695', 0.9999999403953552), ('C0267146', 0.8952037692070007), ('C0341194', 0.8572458028793335), ('C1275591', 0.8363184332847595), ('C0017154', 0.8076196908950806)]]   \n",
       "1  [[('C0030747', 1.0), ('C3674152', 0.9002574682235718), ('C3675353', 0.8634646534919739), ('C3678382', 0.8554095029830933), ('C1521735', 0.8199975490570068)], [('C1261358', 0.7086301445960999)]]   \n",
       "2                       [[('C0740394', 0.9999999403953552), ('C4553069', 0.9999999403953552), ('C1856288', 0.9496486783027649), ('C4685211', 0.8526141047477722), ('C4686280', 0.8423790335655212)]]   \n",
       "3                                                                                                                                                                                               [[]]   \n",
       "4                                                                                                                                                               [[('C0003507', 0.7803903818130493)]]   \n",
       "\n",
       "                                                                                                                                                                                                                                                                                                                       google_abbr_cui_score  \\\n",
       "0                                                                                                                                                               [[('C0085695', 0.9999999403953552), ('C0267146', 0.8952037692070007), ('C0341194', 0.8572458028793335), ('C1275591', 0.8363184332847595), ('C0017154', 0.8076196908950806)]]   \n",
       "1  [[('C0030747', 1.0), ('C3674152', 0.9002574682235718), ('C3675353', 0.8634646534919739), ('C3678382', 0.8554095029830933), ('C1521735', 0.8199975490570068)], [('C1261358', 0.9260651469230652), ('C0205825', 0.8506943583488464), ('C0598607', 0.8253174424171448), ('C1514164', 0.7949097156524658), ('C0334463', 0.7733286619186401)]]   \n",
       "2                                                                                                                                                               [[('C0740394', 0.9999999403953552), ('C4553069', 0.9999999403953552), ('C1856288', 0.9496486783027649), ('C4685211', 0.8526141047477722), ('C4686280', 0.8423790335655212)]]   \n",
       "3                                                                  [[('C0009368', 1.0), ('C2684091', 1.0), ('C3888384', 1.0), ('C0391907', 0.9528627991676331), ('C0007102', 0.8239243030548096)], [('C0122111', 0.7958453297615051), ('C1333906', 0.7958453297615051), ('C1705263', 0.7958453297615051), ('C3489413', 0.7958453297615051)]]   \n",
       "4                                                                                                                                                                                                                                   [[('C0003507', 0.8394865989685059), ('C0349516', 0.7845231294631958), ('C0685726', 0.7111824750900269)]]   \n",
       "\n",
       "                                                                                                                                                           deepl_abbr_cui_score  \\\n",
       "0  [[('C0085695', 0.9999999403953552), ('C0267146', 0.8952037692070007), ('C0341194', 0.8572458028793335), ('C1275591', 0.8363184332847595), ('C0017154', 0.8076196908950806)]]   \n",
       "1             [[('C0030747', 1.0), ('C3674152', 0.9002574682235718), ('C3675353', 0.8634646534919739), ('C3678382', 0.8554095029830933), ('C1521735', 0.8199975490570068)], []]   \n",
       "2  [[('C0740394', 0.9999999403953552), ('C4553069', 0.9999999403953552), ('C1856288', 0.9496486783027649), ('C4685211', 0.8526141047477722), ('C4686280', 0.8423790335655212)]]   \n",
       "3                                                                                                                                                                          [[]]   \n",
       "4                                                                                                                                          [[('C0003507', 0.7803903818130493)]]   \n",
       "\n",
       "   mev_cui_len  google_cui_len  deepl_cui_len  google_abbr_cui_len  \\\n",
       "0            5               5              5                    5   \n",
       "1           10              10              6                   10   \n",
       "2            5               5              5                    5   \n",
       "3            5               9              0                    9   \n",
       "4            5               3              1                    3   \n",
       "\n",
       "   deepl_abbr_cui_len  cui_jacD_mev_google  cui_jacD_mev_deepl  \\\n",
       "0                   5                  1.0                 1.0   \n",
       "1                   5                  1.0                 0.6   \n",
       "2                   5                  1.0                 1.0   \n",
       "3                   0                  0.0                 0.0   \n",
       "4                   1                  0.6                 0.2   \n",
       "\n",
       "   cui_jacD_mev_google_withst_num  cui_jacD_mev_deepl_withst_num  \\\n",
       "0                             1.0                            1.0   \n",
       "1                             1.0                            0.6   \n",
       "2                             1.0                            1.0   \n",
       "3                             0.0                            0.0   \n",
       "4                             0.6                            0.2   \n",
       "\n",
       "   cui_jacD_mev_google_A  cui_jacD_mev_deepl_A  \\\n",
       "0                    1.0                   1.0   \n",
       "1                    1.0                   0.6   \n",
       "2                    1.0                   1.0   \n",
       "3                    0.0                   0.0   \n",
       "4                    0.6                   0.2   \n",
       "\n",
       "   cui_jacD_mev_google_withst_num_A  cui_jacD_mev_deepl_withst_num_A  \\\n",
       "0                               1.0                              1.0   \n",
       "1                               1.0                              0.6   \n",
       "2                               1.0                              1.0   \n",
       "3                               0.0                              0.0   \n",
       "4                               0.6                              0.2   \n",
       "\n",
       "   cui_jacD_mev_google_abbr  cui_jacD_mev_deepl_abbr  \\\n",
       "0                       1.0                      1.0   \n",
       "1                       1.0                      0.5   \n",
       "2                       1.0                      1.0   \n",
       "3                       0.0                      0.0   \n",
       "4                       0.6                      0.2   \n",
       "\n",
       "   cui_jacD_mev_google_abbr_withst_num  cui_jacD_mev_deepl_abbr_withst_num  \\\n",
       "0                                  1.0                                 1.0   \n",
       "1                                  1.0                                 0.5   \n",
       "2                                  1.0                                 1.0   \n",
       "3                                  0.0                                 0.0   \n",
       "4                                  0.6                                 0.2   \n",
       "\n",
       "   cui_jacD_mev_google_abbr_A  cui_jacD_mev_deepl_abbr_A  \\\n",
       "0                         1.0                        1.0   \n",
       "1                         1.0                        0.5   \n",
       "2                         1.0                        1.0   \n",
       "3                         0.0                        0.0   \n",
       "4                         0.6                        0.2   \n",
       "\n",
       "   cui_jacD_mev_google_abbr_withst_num_A  cui_jacD_mev_deepl_abbr_withst_num_A  \n",
       "0                                    1.0                                   1.0  \n",
       "1                                    1.0                                   0.5  \n",
       "2                                    1.0                                   1.0  \n",
       "3                                    0.0                                   0.0  \n",
       "4                                    0.6                                   0.2  "
      ],
      "text/html": "<div>\n<style scoped>\n    .dataframe tbody tr th:only-of-type {\n        vertical-align: middle;\n    }\n\n    .dataframe tbody tr th {\n        vertical-align: top;\n    }\n\n    .dataframe thead th {\n        text-align: right;\n    }\n</style>\n<table border=\"1\" class=\"dataframe\">\n  <thead>\n    <tr style=\"text-align: right;\">\n      <th></th>\n      <th>value</th>\n      <th>value_witht_abbr</th>\n      <th>replacement</th>\n      <th>google</th>\n      <th>deepl</th>\n      <th>google_abbr</th>\n      <th>deepl_abbr</th>\n      <th>google_withst_num</th>\n      <th>deepl_withst_num</th>\n      <th>google_abbr_withst_num</th>\n      <th>deepl_abbr_withst_num</th>\n      <th>haveAbbr</th>\n      <th>stop_words_google_len</th>\n      <th>stop_words_deepl_len</th>\n      <th>stop_words_google_abbr_len</th>\n      <th>stop_words_deepl_abbr_len</th>\n      <th>ents</th>\n      <th>google_ents</th>\n      <th>deepl_ents</th>\n      <th>google_abbr_ents</th>\n      <th>deepl_abbr_ents</th>\n      <th>ents_len</th>\n      <th>google_ents_len</th>\n      <th>deepl_ents_len</th>\n      <th>google_abbr_ents_len</th>\n      <th>deepl_abbr_ents_len</th>\n      <th>mev_cui_score</th>\n      <th>google_cui_score</th>\n      <th>deepl_cui_score</th>\n      <th>google_abbr_cui_score</th>\n      <th>deepl_abbr_cui_score</th>\n      <th>mev_cui_len</th>\n      <th>google_cui_len</th>\n      <th>deepl_cui_len</th>\n      <th>google_abbr_cui_len</th>\n      <th>deepl_abbr_cui_len</th>\n      <th>cui_jacD_mev_google</th>\n      <th>cui_jacD_mev_deepl</th>\n      <th>cui_jacD_mev_google_withst_num</th>\n      <th>cui_jacD_mev_deepl_withst_num</th>\n      <th>cui_jacD_mev_google_A</th>\n      <th>cui_jacD_mev_deepl_A</th>\n      <th>cui_jacD_mev_google_withst_num_A</th>\n      <th>cui_jacD_mev_deepl_withst_num_A</th>\n      <th>cui_jacD_mev_google_abbr</th>\n      <th>cui_jacD_mev_deepl_abbr</th>\n      <th>cui_jacD_mev_google_abbr_withst_num</th>\n      <th>cui_jacD_mev_deepl_abbr_withst_num</th>\n      <th>cui_jacD_mev_google_abbr_A</th>\n      <th>cui_jacD_mev_deepl_abbr_A</th>\n      <th>cui_jacD_mev_google_abbr_withst_num_A</th>\n      <th>cui_jacD_mev_deepl_abbr_withst_num_A</th>\n    </tr>\n  </thead>\n  <tbody>\n    <tr>\n      <th>0</th>\n      <td>Gastritis crÛnica</td>\n      <td>Gastritis crÛnica</td>\n      <td>Chronic gastritis</td>\n      <td>Chronic gastritis</td>\n      <td>Chronic gastritis</td>\n      <td>Chronic gastritis</td>\n      <td>Chronic gastritis</td>\n      <td>Chronic gastritis</td>\n      <td>Chronic gastritis</td>\n      <td>Chronic gastritis</td>\n      <td>Chronic gastritis</td>\n      <td>False</td>\n      <td>0</td>\n      <td>0</td>\n      <td>0</td>\n      <td>0</td>\n      <td>(Chronic gastritis,)</td>\n      <td>(Chronic gastritis,)</td>\n      <td>(Chronic gastritis,)</td>\n      <td>(Chronic gastritis,)</td>\n      <td>(Chronic gastritis,)</td>\n      <td>1</td>\n      <td>1</td>\n      <td>1</td>\n      <td>1</td>\n      <td>1</td>\n      <td>[[('C0085695', 0.9999999403953552), ('C0267146', 0.8952037692070007), ('C0341194', 0.8572458028793335), ('C1275591', 0.8363184332847595), ('C0017154', 0.8076196908950806)]]</td>\n      <td>[[('C0085695', 0.9999999403953552), ('C0267146', 0.8952037692070007), ('C0341194', 0.8572458028793335), ('C1275591', 0.8363184332847595), ('C0017154', 0.8076196908950806)]]</td>\n      <td>[[('C0085695', 0.9999999403953552), ('C0267146', 0.8952037692070007), ('C0341194', 0.8572458028793335), ('C1275591', 0.8363184332847595), ('C0017154', 0.8076196908950806)]]</td>\n      <td>[[('C0085695', 0.9999999403953552), ('C0267146', 0.8952037692070007), ('C0341194', 0.8572458028793335), ('C1275591', 0.8363184332847595), ('C0017154', 0.8076196908950806)]]</td>\n      <td>[[('C0085695', 0.9999999403953552), ('C0267146', 0.8952037692070007), ('C0341194', 0.8572458028793335), ('C1275591', 0.8363184332847595), ('C0017154', 0.8076196908950806)]]</td>\n      <td>5</td>\n      <td>5</td>\n      <td>5</td>\n      <td>5</td>\n      <td>5</td>\n      <td>1.0</td>\n      <td>1.0</td>\n      <td>1.0</td>\n      <td>1.0</td>\n      <td>1.0</td>\n      <td>1.0</td>\n      <td>1.0</td>\n      <td>1.0</td>\n      <td>1.0</td>\n      <td>1.0</td>\n      <td>1.0</td>\n      <td>1.0</td>\n      <td>1.0</td>\n      <td>1.0</td>\n      <td>1.0</td>\n      <td>1.0</td>\n    </tr>\n    <tr>\n      <th>1</th>\n      <td>Sarcoma PleomÛrfico Pectoral Mayor</td>\n      <td>Sarcoma PleomÛrfico Pectoral Mayor</td>\n      <td>Pectoralis major pleomorphic sarcoma</td>\n      <td>Pectoralis major pleomorphic sarcoma</td>\n      <td>Pectoralis major pectoralis pleomûrphic sarcoma</td>\n      <td>Pectoralis major pleomorphic sarcoma</td>\n      <td>Pectoralis major pleomûrfic sarcoma</td>\n      <td>Pectoralis major pleomorphic sarcoma</td>\n      <td>Pectoralis major pectoralis pleomûrphic sarcoma</td>\n      <td>Pectoralis major pleomorphic sarcoma</td>\n      <td>Pectoralis major pleomûrfic sarcoma</td>\n      <td>False</td>\n      <td>0</td>\n      <td>0</td>\n      <td>0</td>\n      <td>0</td>\n      <td>(Pectoralis, pleomorphic sarcoma)</td>\n      <td>(Pectoralis, pleomorphic sarcoma)</td>\n      <td>(Pectoralis, pectoralis pleomûrphic sarcoma)</td>\n      <td>(Pectoralis, pleomorphic sarcoma)</td>\n      <td>(Pectoralis, pleomûrfic sarcoma)</td>\n      <td>2</td>\n      <td>2</td>\n      <td>2</td>\n      <td>2</td>\n      <td>2</td>\n      <td>[[('C0030747', 1.0), ('C3674152', 0.9002574682235718), ('C3675353', 0.8634646534919739), ('C3678382', 0.8554095029830933), ('C1521735', 0.8199975490570068)], [('C1261358', 0.9260651469230652), ('C0205825', 0.8506943583488464), ('C0598607', 0.8253174424171448), ('C1514164', 0.7949097156524658), ('C0334463', 0.7733286619186401)]]</td>\n      <td>[[('C0030747', 1.0), ('C3674152', 0.9002574682235718), ('C3675353', 0.8634646534919739), ('C3678382', 0.8554095029830933), ('C1521735', 0.8199975490570068)], [('C1261358', 0.9260651469230652), ('C0205825', 0.8506943583488464), ('C0598607', 0.8253174424171448), ('C1514164', 0.7949097156524658), ('C0334463', 0.7733286619186401)]]</td>\n      <td>[[('C0030747', 1.0), ('C3674152', 0.9002574682235718), ('C3675353', 0.8634646534919739), ('C3678382', 0.8554095029830933), ('C1521735', 0.8199975490570068)], [('C1261358', 0.7086301445960999)]]</td>\n      <td>[[('C0030747', 1.0), ('C3674152', 0.9002574682235718), ('C3675353', 0.8634646534919739), ('C3678382', 0.8554095029830933), ('C1521735', 0.8199975490570068)], [('C1261358', 0.9260651469230652), ('C0205825', 0.8506943583488464), ('C0598607', 0.8253174424171448), ('C1514164', 0.7949097156524658), ('C0334463', 0.7733286619186401)]]</td>\n      <td>[[('C0030747', 1.0), ('C3674152', 0.9002574682235718), ('C3675353', 0.8634646534919739), ('C3678382', 0.8554095029830933), ('C1521735', 0.8199975490570068)], []]</td>\n      <td>10</td>\n      <td>10</td>\n      <td>6</td>\n      <td>10</td>\n      <td>5</td>\n      <td>1.0</td>\n      <td>0.6</td>\n      <td>1.0</td>\n      <td>0.6</td>\n      <td>1.0</td>\n      <td>0.6</td>\n      <td>1.0</td>\n      <td>0.6</td>\n      <td>1.0</td>\n      <td>0.5</td>\n      <td>1.0</td>\n      <td>0.5</td>\n      <td>1.0</td>\n      <td>0.5</td>\n      <td>1.0</td>\n      <td>0.5</td>\n    </tr>\n    <tr>\n      <th>2</th>\n      <td>hiperuricemia</td>\n      <td>hiperuricemia</td>\n      <td>Hyperuricemia</td>\n      <td>Hyperuricemia</td>\n      <td>Hyperuricemia</td>\n      <td>Hyperuricemia</td>\n      <td>Hyperuricemia</td>\n      <td>Hyperuricemia</td>\n      <td>Hyperuricemia</td>\n      <td>Hyperuricemia</td>\n      <td>Hyperuricemia</td>\n      <td>False</td>\n      <td>0</td>\n      <td>0</td>\n      <td>0</td>\n      <td>0</td>\n      <td>(Hyperuricemia,)</td>\n      <td>(Hyperuricemia,)</td>\n      <td>(Hyperuricemia,)</td>\n      <td>(Hyperuricemia,)</td>\n      <td>(Hyperuricemia,)</td>\n      <td>1</td>\n      <td>1</td>\n      <td>1</td>\n      <td>1</td>\n      <td>1</td>\n      <td>[[('C0740394', 0.9999999403953552), ('C4553069', 0.9999999403953552), ('C1856288', 0.9496486783027649), ('C4685211', 0.8526141047477722), ('C4686280', 0.8423790335655212)]]</td>\n      <td>[[('C0740394', 0.9999999403953552), ('C4553069', 0.9999999403953552), ('C1856288', 0.9496486783027649), ('C4685211', 0.8526141047477722), ('C4686280', 0.8423790335655212)]]</td>\n      <td>[[('C0740394', 0.9999999403953552), ('C4553069', 0.9999999403953552), ('C1856288', 0.9496486783027649), ('C4685211', 0.8526141047477722), ('C4686280', 0.8423790335655212)]]</td>\n      <td>[[('C0740394', 0.9999999403953552), ('C4553069', 0.9999999403953552), ('C1856288', 0.9496486783027649), ('C4685211', 0.8526141047477722), ('C4686280', 0.8423790335655212)]]</td>\n      <td>[[('C0740394', 0.9999999403953552), ('C4553069', 0.9999999403953552), ('C1856288', 0.9496486783027649), ('C4685211', 0.8526141047477722), ('C4686280', 0.8423790335655212)]]</td>\n      <td>5</td>\n      <td>5</td>\n      <td>5</td>\n      <td>5</td>\n      <td>5</td>\n      <td>1.0</td>\n      <td>1.0</td>\n      <td>1.0</td>\n      <td>1.0</td>\n      <td>1.0</td>\n      <td>1.0</td>\n      <td>1.0</td>\n      <td>1.0</td>\n      <td>1.0</td>\n      <td>1.0</td>\n      <td>1.0</td>\n      <td>1.0</td>\n      <td>1.0</td>\n      <td>1.0</td>\n      <td>1.0</td>\n      <td>1.0</td>\n    </tr>\n    <tr>\n      <th>3</th>\n      <td>intervenido pÛlipo colon</td>\n      <td>intervenido pÛlipo colon</td>\n      <td>Colon polyp operated</td>\n      <td>Colon plipo intervened</td>\n      <td>Intervened pûlipo colon</td>\n      <td>Colon plipo intervened</td>\n      <td>Intervened pûlipo colon</td>\n      <td>Colon plipo intervened</td>\n      <td>Intervened pûlipo colon</td>\n      <td>Colon plipo intervened</td>\n      <td>Intervened pûlipo colon</td>\n      <td>False</td>\n      <td>0</td>\n      <td>0</td>\n      <td>0</td>\n      <td>0</td>\n      <td>(Colon polyp,)</td>\n      <td>(Colon, plipo)</td>\n      <td>(Intervened pûlipo colon,)</td>\n      <td>(Colon, plipo)</td>\n      <td>(Intervened pûlipo colon,)</td>\n      <td>1</td>\n      <td>2</td>\n      <td>1</td>\n      <td>2</td>\n      <td>1</td>\n      <td>[[('C0009376', 1.0), ('C0032584', 0.8226818442344666), ('C1333090', 0.8206176161766052), ('C0742605', 0.7988194823265076), ('C0742556', 0.7651610374450684)]]</td>\n      <td>[[('C0009368', 1.0), ('C2684091', 1.0), ('C3888384', 1.0), ('C0391907', 0.9528627991676331), ('C0007102', 0.8239243030548096)], [('C0122111', 0.7958453297615051), ('C1333906', 0.7958453297615051), ('C1705263', 0.7958453297615051), ('C3489413', 0.7958453297615051)]]</td>\n      <td>[[]]</td>\n      <td>[[('C0009368', 1.0), ('C2684091', 1.0), ('C3888384', 1.0), ('C0391907', 0.9528627991676331), ('C0007102', 0.8239243030548096)], [('C0122111', 0.7958453297615051), ('C1333906', 0.7958453297615051), ('C1705263', 0.7958453297615051), ('C3489413', 0.7958453297615051)]]</td>\n      <td>[[]]</td>\n      <td>5</td>\n      <td>9</td>\n      <td>0</td>\n      <td>9</td>\n      <td>0</td>\n      <td>0.0</td>\n      <td>0.0</td>\n      <td>0.0</td>\n      <td>0.0</td>\n      <td>0.0</td>\n      <td>0.0</td>\n      <td>0.0</td>\n      <td>0.0</td>\n      <td>0.0</td>\n      <td>0.0</td>\n      <td>0.0</td>\n      <td>0.0</td>\n      <td>0.0</td>\n      <td>0.0</td>\n      <td>0.0</td>\n      <td>0.0</td>\n    </tr>\n    <tr>\n      <th>4</th>\n      <td>intervenido estenosis aorta</td>\n      <td>intervenido estenosis aorta</td>\n      <td>Aortic stenosis operated</td>\n      <td>Operated aortic stenosis</td>\n      <td>Intervened aortic stenosis</td>\n      <td>Operated aortic stenosis</td>\n      <td>Intervened aortic stenosis</td>\n      <td>Operated aortic stenosis</td>\n      <td>Intervened aortic stenosis</td>\n      <td>Operated aortic stenosis</td>\n      <td>Intervened aortic stenosis</td>\n      <td>False</td>\n      <td>0</td>\n      <td>0</td>\n      <td>0</td>\n      <td>0</td>\n      <td>(Aortic stenosis,)</td>\n      <td>(Operated aortic stenosis,)</td>\n      <td>(Intervened aortic stenosis,)</td>\n      <td>(Operated aortic stenosis,)</td>\n      <td>(Intervened aortic stenosis,)</td>\n      <td>1</td>\n      <td>1</td>\n      <td>1</td>\n      <td>1</td>\n      <td>1</td>\n      <td>[[('C0003507', 1.0), ('C0685726', 0.8471635580062866), ('C0340335', 0.8208053112030029), ('C0340373', 0.8129273653030396), ('C0349516', 0.8079754114151001)]]</td>\n      <td>[[('C0003507', 0.8394865989685059), ('C0349516', 0.7845231294631958), ('C0685726', 0.7111824750900269)]]</td>\n      <td>[[('C0003507', 0.7803903818130493)]]</td>\n      <td>[[('C0003507', 0.8394865989685059), ('C0349516', 0.7845231294631958), ('C0685726', 0.7111824750900269)]]</td>\n      <td>[[('C0003507', 0.7803903818130493)]]</td>\n      <td>5</td>\n      <td>3</td>\n      <td>1</td>\n      <td>3</td>\n      <td>1</td>\n      <td>0.6</td>\n      <td>0.2</td>\n      <td>0.6</td>\n      <td>0.2</td>\n      <td>0.6</td>\n      <td>0.2</td>\n      <td>0.6</td>\n      <td>0.2</td>\n      <td>0.6</td>\n      <td>0.2</td>\n      <td>0.6</td>\n      <td>0.2</td>\n      <td>0.6</td>\n      <td>0.2</td>\n      <td>0.6</td>\n      <td>0.2</td>\n    </tr>\n  </tbody>\n</table>\n</div>"
     },
     "metadata": {},
     "execution_count": 3
    }
   ],
   "source": [
    "df.head(5)"
   ]
  },
  {
   "cell_type": "code",
   "execution_count": 4,
   "metadata": {},
   "outputs": [
    {
     "output_type": "execute_result",
     "data": {
      "text/plain": [
       "Index(['value', 'value_witht_abbr', 'replacement', 'google', 'deepl',\n",
       "       'google_abbr', 'deepl_abbr', 'google_withst_num', 'deepl_withst_num',\n",
       "       'google_abbr_withst_num', 'deepl_abbr_withst_num', 'haveAbbr',\n",
       "       'stop_words_google_len', 'stop_words_deepl_len',\n",
       "       'stop_words_google_abbr_len', 'stop_words_deepl_abbr_len', 'ents',\n",
       "       'google_ents', 'deepl_ents', 'google_abbr_ents', 'deepl_abbr_ents',\n",
       "       'ents_len', 'google_ents_len', 'deepl_ents_len', 'google_abbr_ents_len',\n",
       "       'deepl_abbr_ents_len', 'mev_cui_score', 'google_cui_score',\n",
       "       'deepl_cui_score', 'google_abbr_cui_score', 'deepl_abbr_cui_score',\n",
       "       'mev_cui_len', 'google_cui_len', 'deepl_cui_len', 'google_abbr_cui_len',\n",
       "       'deepl_abbr_cui_len', 'cui_jacD_mev_google', 'cui_jacD_mev_deepl',\n",
       "       'cui_jacD_mev_google_withst_num', 'cui_jacD_mev_deepl_withst_num',\n",
       "       'cui_jacD_mev_google_A', 'cui_jacD_mev_deepl_A',\n",
       "       'cui_jacD_mev_google_withst_num_A', 'cui_jacD_mev_deepl_withst_num_A',\n",
       "       'cui_jacD_mev_google_abbr', 'cui_jacD_mev_deepl_abbr',\n",
       "       'cui_jacD_mev_google_abbr_withst_num',\n",
       "       'cui_jacD_mev_deepl_abbr_withst_num', 'cui_jacD_mev_google_abbr_A',\n",
       "       'cui_jacD_mev_deepl_abbr_A', 'cui_jacD_mev_google_abbr_withst_num_A',\n",
       "       'cui_jacD_mev_deepl_abbr_withst_num_A'],\n",
       "      dtype='object')"
      ]
     },
     "metadata": {},
     "execution_count": 4
    }
   ],
   "source": [
    "df.columns"
   ]
  },
  {
   "cell_type": "code",
   "execution_count": null,
   "metadata": {},
   "outputs": [],
   "source": [
    "df[['ents_len', 'replacement_google_ents_len', 'replacement_deepl_ents_len']].hist(figsize=(15,3), layout=(1,3))"
   ]
  },
  {
   "cell_type": "code",
   "execution_count": null,
   "metadata": {},
   "outputs": [],
   "source": [
    "df[['stop_words_google_len', 'stop_words_deepl_len']].hist(figsize=(15,3), layout=(1,3))"
   ]
  },
  {
   "cell_type": "code",
   "execution_count": null,
   "metadata": {},
   "outputs": [],
   "source": [
    "df[['mev_cui_len','google_cui_len', 'deepl_cui_len']].hist(figsize=(15,3), layout=(1,3))"
   ]
  },
  {
   "cell_type": "code",
   "execution_count": null,
   "metadata": {},
   "outputs": [],
   "source": [
    "df[['cui_jacD_mev_google', 'cui_jacD_mev_deepl']].hist(figsize=(15,3), layout=(1,3))"
   ]
  },
  {
   "cell_type": "code",
   "execution_count": null,
   "metadata": {},
   "outputs": [],
   "source": [
    "df[['cui_jacD_mev_google_A', 'cui_jacD_mev_deepl_A']].hist(figsize=(15,3), layout=(1,3))"
   ]
  },
  {
   "cell_type": "code",
   "execution_count": null,
   "metadata": {},
   "outputs": [],
   "source": [
    "df[['cui_jacD_mev_google_withst_num', 'cui_jacD_mev_deepl_withst_num']].hist(figsize=(15,3), layout=(1,3))"
   ]
  },
  {
   "cell_type": "code",
   "execution_count": null,
   "metadata": {},
   "outputs": [],
   "source": [
    "df[['cui_jacD_mev_google_withst_num_A', 'cui_jacD_mev_deepl_withst_num_A']].hist(figsize=(15,3), layout=(1,3))"
   ]
  },
  {
   "cell_type": "code",
   "execution_count": null,
   "metadata": {},
   "outputs": [],
   "source": [
    "df[['replacement_ents_len', 'replacement_google_ents_len', 'replacement_deepl_ents_len', 'google_cui_len', 'deepl_cui_len','mev_cui_len', 'cui_jacD_mev_google', 'cui_jacD_mev_deepl','cui_jacD_mev_google_withst_num', 'cui_jacD_mev_deepl_withst_num']].describe()"
   ]
  },
  {
   "cell_type": "code",
   "execution_count": null,
   "metadata": {},
   "outputs": [],
   "source": [
    "df[['cui_jacD_mev_google_withst_num_A', 'cui_jacD_mev_deepl_withst_num_A', 'cui_jacD_mev_google_A', 'cui_jacD_mev_deepl_A']].describe()"
   ]
  },
  {
   "cell_type": "code",
   "execution_count": null,
   "metadata": {},
   "outputs": [],
   "source": [
    "# df[df['mev_cui_len']==0][['table_name', 'column_name', 'value', 'replacement']].to_csv('../../../data_off/clarify/spanish_comorbidity/train_MEV_left.csv', encoding='utf-8')"
   ]
  },
  {
   "cell_type": "code",
   "execution_count": null,
   "metadata": {},
   "outputs": [],
   "source": [
    "df[df['mev_cui_len']==0]"
   ]
  },
  {
   "cell_type": "code",
   "execution_count": null,
   "metadata": {},
   "outputs": [],
   "source": [
    "# Stop words\n",
    "df.groupby(['stop_words_google_len'])['replacement_ents_len','replacement_google_ents_len','google_cui_len', 'cui_jacD_mev_google', 'cui_jacD_mev_google_A'].describe()"
   ]
  },
  {
   "cell_type": "code",
   "execution_count": null,
   "metadata": {},
   "outputs": [],
   "source": [
    "df.groupby(['stop_words_deepl_len'])['replacement_deepl_ents_len','deepl_cui_len', 'cui_jacD_mev_deepl','cui_jacD_mev_deepl_A'].describe()"
   ]
  },
  {
   "cell_type": "code",
   "execution_count": null,
   "metadata": {},
   "outputs": [],
   "source": [
    "df.groupby(['haveAbbr'])['replacement_google_ents_len','replacement_deepl_ents_len','google_cui_len','deepl_cui_len'].describe()"
   ]
  },
  {
   "cell_type": "code",
   "execution_count": null,
   "metadata": {},
   "outputs": [],
   "source": [
    "df.groupby(['haveAbbr'])['cui_jacD_mev_google','cui_jacD_mev_deepl','cui_jacD_mev_google_A', 'cui_jacD_mev_deepl_A'].describe()"
   ]
  },
  {
   "cell_type": "code",
   "execution_count": null,
   "metadata": {},
   "outputs": [],
   "source": []
  }
 ]
}