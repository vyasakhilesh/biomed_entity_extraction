{
 "metadata": {
  "language_info": {
   "codemirror_mode": {
    "name": "ipython",
    "version": 3
   },
   "file_extension": ".py",
   "mimetype": "text/x-python",
   "name": "python",
   "nbconvert_exporter": "python",
   "pygments_lexer": "ipython3",
   "version": "3.7.10"
  },
  "orig_nbformat": 2,
  "kernelspec": {
   "name": "python3710jvsc74a57bd0399d1cc73644b9c8e7484462cd4f9b3b32f61f571975f1cd01f67b06c060b9c6",
   "display_name": "Python 3.7.10 64-bit ('scispacy': conda)"
  }
 },
 "nbformat": 4,
 "nbformat_minor": 2,
 "cells": [
  {
   "cell_type": "code",
   "execution_count": null,
   "metadata": {},
   "outputs": [],
   "source": [
    "import spacy\n",
    "from scispacy.abbreviation import AbbreviationDetector\n",
    "import pandas as pd"
   ]
  },
  {
   "cell_type": "code",
   "execution_count": null,
   "metadata": {},
   "outputs": [],
   "source": [
    "path='/nfs/home/vyasa/projects/proj_off/data_off/clarify/spanish_comorbidity/new/'\n",
    "path_output = '/nfs/home/vyasa/projects/proj_off/data_off/clarify/spanish_comorbidity/new/output/'\n",
    "    "
   ]
  },
  {
   "cell_type": "code",
   "execution_count": null,
   "metadata": {},
   "outputs": [],
   "source": [
    "df = pd.read_csv(path+'comorbidities_modified_witht_abbr_new.csv', sep=',', error_bad_lines=True, encoding='utf-8')\n",
    "df.shape"
   ]
  },
  {
   "cell_type": "code",
   "execution_count": 4,
   "metadata": {},
   "outputs": [
    {
     "output_type": "stream",
     "name": "stdout",
     "text": [
      "\t\t Abbreviation  (start, end) \t Definition\n",
      "Text: SÌndrome de apnea obstructiva del sueÒo (SAOS)\n",
      "\t\tSAOS \t (7, 8) SÌndrome de apnea obstructiva del sueÒo\n",
      "Text: Tromboembolismo pulmonar (TEP)\n",
      "\t\tTEP \t (3, 4) Tromboembolismo pulmonar\n",
      "Text: esclerosis lateral amiotrÛfica (ELA)\n",
      "\t\tELA \t (4, 5) esclerosis lateral amiotrÛfica\n",
      "Text: SAOS (SÌndrome Apnea Obstructiva del SueÒo)\n",
      "\t\tSAOS \t (0, 1) SÌndrome Apnea Obstructiva del SueÒo\n",
      "Text: Ex ADVP (ex adicto a drogas por vÌa parenteral)\n",
      "\t\tADVP \t (1, 2) a drogas por vÌa parenteral\n"
     ]
    }
   ],
   "source": [
    "nlp = spacy.load(\"es_dep_news_trf\") # spanish\n",
    "\n",
    "# Add the abbreviation pipe to the spacy pipeline.\n",
    "nlp.add_pipe(\"abbreviation_detector\")\n",
    "\n",
    "doc = nlp(\"\")\n",
    "print(\"\\t\\t Abbreviation  (start, end)\", \"\\t\", \"Definition\")\n",
    "for value in df['value']:\n",
    "    doc = nlp(value)\n",
    "    if len(doc._.abbreviations) > 0:\n",
    "        print (\"Text:\", value)\n",
    "        for abrv in doc._.abbreviations:\n",
    "            print(f\"\\t\\t{abrv} \\t ({abrv.start}, {abrv.end}) {abrv._.long_form}\")"
   ]
  }
 ]
}