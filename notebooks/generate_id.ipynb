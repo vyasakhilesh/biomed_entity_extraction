{
 "metadata": {
  "language_info": {
   "codemirror_mode": {
    "name": "ipython",
    "version": 3
   },
   "file_extension": ".py",
   "mimetype": "text/x-python",
   "name": "python",
   "nbconvert_exporter": "python",
   "pygments_lexer": "ipython3",
   "version": "3.7.10"
  },
  "orig_nbformat": 2,
  "kernelspec": {
   "name": "python3710jvsc74a57bd0399d1cc73644b9c8e7484462cd4f9b3b32f61f571975f1cd01f67b06c060b9c6",
   "display_name": "Python 3.7.10 64-bit ('scispacy': conda)"
  }
 },
 "nbformat": 4,
 "nbformat_minor": 2,
 "cells": [
  {
   "cell_type": "code",
   "execution_count": 63,
   "metadata": {},
   "outputs": [],
   "source": [
    "import pandas as pd\n",
    "import re\n",
    "import time\n",
    "pd.options.display.width = 0\n",
    "pd.set_option('display.max_rows', 6000)\n",
    "pd.set_option('display.max_columns', 500)\n",
    "pd.set_option('display.max_colwidth', 1000)\n",
    "import pickle\n",
    "#pd.describe_option('display')\n",
    "# import enchant"
   ]
  },
  {
   "cell_type": "code",
   "execution_count": 64,
   "metadata": {},
   "outputs": [],
   "source": [
    "# generate ids from original_text\n",
    "path='/nfs/home/vyasa/projects/proj_off/data_off/clarify/spanish_comorbidity/new/'\n",
    "path_output = '/nfs/home/vyasa/projects/proj_off/data_off/clarify/spanish_comorbidity/new/output/'\n"
   ]
  },
  {
   "cell_type": "code",
   "execution_count": 65,
   "metadata": {},
   "outputs": [],
   "source": [
    "df = pd.read_csv(path+'ids_dictoinary_org.csv', encoding='utf-8')"
   ]
  },
  {
   "cell_type": "code",
   "execution_count": 66,
   "metadata": {},
   "outputs": [],
   "source": [
    "# select Columns with comorbidity_treatment_line and comorbidity\n",
    "df = df[(df['table_name']=='comorbidity_treatment_line') & (df['column_name']=='comorbidity')]"
   ]
  },
  {
   "cell_type": "code",
   "execution_count": 67,
   "metadata": {},
   "outputs": [],
   "source": [
    "# create id for the text\n",
    "dict_text_id={}\n",
    "num = 10000\n",
    "id = \"A\"\n",
    "count = 0\n",
    "for text in df['value']:\n",
    "    text = text #.strip().replace(';','')\n",
    "    if text not in dict_text_id:\n",
    "        dict_text_id[text] = id + str (num + count)\n",
    "        count = count + 1"
   ]
  },
  {
   "cell_type": "code",
   "execution_count": 68,
   "metadata": {},
   "outputs": [
    {
     "output_type": "execute_result",
     "data": {
      "text/plain": [
       "5447"
      ]
     },
     "metadata": {},
     "execution_count": 68
    }
   ],
   "source": [
    "len(dict_text_id)"
   ]
  },
  {
   "cell_type": "code",
   "execution_count": 69,
   "metadata": {},
   "outputs": [],
   "source": [
    "with open(path+'text_id.pkl', 'wb') as f:\n",
    "    pickle.dump(dict_text_id, f)\n"
   ]
  },
  {
   "cell_type": "code",
   "execution_count": 70,
   "metadata": {},
   "outputs": [
    {
     "output_type": "execute_result",
     "data": {
      "text/plain": [
       "(5453, 4)"
      ]
     },
     "metadata": {},
     "execution_count": 70
    }
   ],
   "source": [
    "# Insert_id\n",
    "df_data = pd.read_csv(path+'comorbidities_modified_witht_abbr_new.csv', sep=',', error_bad_lines=True, encoding='utf-8')\n",
    "df_data.shape"
   ]
  },
  {
   "cell_type": "code",
   "execution_count": 71,
   "metadata": {},
   "outputs": [
    {
     "output_type": "execute_result",
     "data": {
      "text/plain": [
       "Index(['Value_ID', 'value', 'value_witht_abbr', 'replacement'], dtype='object')"
      ]
     },
     "metadata": {},
     "execution_count": 71
    }
   ],
   "source": [
    "df_data.columns"
   ]
  },
  {
   "cell_type": "code",
   "execution_count": 72,
   "metadata": {},
   "outputs": [],
   "source": [
    "value_id = []\n",
    "for value in df_data['value']:\n",
    "    if value in dict_text_id: #value.strip() in dict_text_id\n",
    "        value_id.append(dict_text_id[value])\n",
    "    else:\n",
    "        print (value)\n",
    "\n",
    "df_data['Value_ID'] = value_id"
   ]
  },
  {
   "cell_type": "code",
   "execution_count": 73,
   "metadata": {},
   "outputs": [],
   "source": [
    "df_data = df_data[['Value_ID', 'value', 'value_witht_abbr', 'replacement']]"
   ]
  },
  {
   "cell_type": "code",
   "execution_count": 74,
   "metadata": {},
   "outputs": [
    {
     "output_type": "execute_result",
     "data": {
      "text/plain": [
       "  Value_ID                                value  \\\n",
       "0   A10000                    Gastritis crÛnica   \n",
       "1   A10001  Sarcoma PleomÛrfico Pectoral Mayor    \n",
       "2   A10002                        hiperuricemia   \n",
       "3   A10003             intervenido pÛlipo colon   \n",
       "4   A10004          intervenido estenosis aorta   \n",
       "\n",
       "                     value_witht_abbr                            replacement  \n",
       "0                   Gastritis crÛnica                     Chronic gastritis;  \n",
       "1  Sarcoma PleomÛrfico Pectoral Mayor  Pectoralis major pleomorphic sarcoma;  \n",
       "2                       hiperuricemia                         Hyperuricemia;  \n",
       "3            intervenido pÛlipo colon                  Colon polyp operated;  \n",
       "4         intervenido estenosis aorta              Aortic stenosis operated;  "
      ],
      "text/html": "<div>\n<style scoped>\n    .dataframe tbody tr th:only-of-type {\n        vertical-align: middle;\n    }\n\n    .dataframe tbody tr th {\n        vertical-align: top;\n    }\n\n    .dataframe thead th {\n        text-align: right;\n    }\n</style>\n<table border=\"1\" class=\"dataframe\">\n  <thead>\n    <tr style=\"text-align: right;\">\n      <th></th>\n      <th>Value_ID</th>\n      <th>value</th>\n      <th>value_witht_abbr</th>\n      <th>replacement</th>\n    </tr>\n  </thead>\n  <tbody>\n    <tr>\n      <th>0</th>\n      <td>A10000</td>\n      <td>Gastritis crÛnica</td>\n      <td>Gastritis crÛnica</td>\n      <td>Chronic gastritis;</td>\n    </tr>\n    <tr>\n      <th>1</th>\n      <td>A10001</td>\n      <td>Sarcoma PleomÛrfico Pectoral Mayor</td>\n      <td>Sarcoma PleomÛrfico Pectoral Mayor</td>\n      <td>Pectoralis major pleomorphic sarcoma;</td>\n    </tr>\n    <tr>\n      <th>2</th>\n      <td>A10002</td>\n      <td>hiperuricemia</td>\n      <td>hiperuricemia</td>\n      <td>Hyperuricemia;</td>\n    </tr>\n    <tr>\n      <th>3</th>\n      <td>A10003</td>\n      <td>intervenido pÛlipo colon</td>\n      <td>intervenido pÛlipo colon</td>\n      <td>Colon polyp operated;</td>\n    </tr>\n    <tr>\n      <th>4</th>\n      <td>A10004</td>\n      <td>intervenido estenosis aorta</td>\n      <td>intervenido estenosis aorta</td>\n      <td>Aortic stenosis operated;</td>\n    </tr>\n  </tbody>\n</table>\n</div>"
     },
     "metadata": {},
     "execution_count": 74
    }
   ],
   "source": [
    "df_data.head(5)"
   ]
  },
  {
   "cell_type": "code",
   "execution_count": 75,
   "metadata": {},
   "outputs": [
    {
     "output_type": "execute_result",
     "data": {
      "text/plain": [
       "     Value_ID  \\\n",
       "5448   A15444   \n",
       "5449   A15445   \n",
       "5450   A15446   \n",
       "5451   A10794   \n",
       "5452   A14707   \n",
       "\n",
       "                                                                                                     value  \\\n",
       "5448                                                        hepatopatia crÛnica con fibrosis e HTP por VHB   \n",
       "5449                                                                                   enfermedad de crhon   \n",
       "5450  intervenido en 3 ocasiones por oclusiÛn intestinal ultima complicada y es portador de fistula entero   \n",
       "5451                                                                                  Fibroadenoma de mama   \n",
       "5452                                                           - Meningitis en el nacimiento, sin secuelas   \n",
       "\n",
       "                                                                                          value_witht_abbr  \\\n",
       "5448                   hepatopatia crÛnica con fibrosis e hipertensión pulmonar por virus hepatitis tipo B   \n",
       "5449                                                                                   enfermedad de crhon   \n",
       "5450  intervenido en 3 ocasiones por oclusiÛn intestinal ultima complicada y es portador de fistula entero   \n",
       "5451                                                                                  Fibroadenoma de mama   \n",
       "5452                                                           - Meningitis en el nacimiento, sin secuelas   \n",
       "\n",
       "           replacement  \n",
       "5448  Hepatitis type B  \n",
       "5449     Crohn Disease  \n",
       "5450                 ;  \n",
       "5451                 ;  \n",
       "5452                 ;  "
      ],
      "text/html": "<div>\n<style scoped>\n    .dataframe tbody tr th:only-of-type {\n        vertical-align: middle;\n    }\n\n    .dataframe tbody tr th {\n        vertical-align: top;\n    }\n\n    .dataframe thead th {\n        text-align: right;\n    }\n</style>\n<table border=\"1\" class=\"dataframe\">\n  <thead>\n    <tr style=\"text-align: right;\">\n      <th></th>\n      <th>Value_ID</th>\n      <th>value</th>\n      <th>value_witht_abbr</th>\n      <th>replacement</th>\n    </tr>\n  </thead>\n  <tbody>\n    <tr>\n      <th>5448</th>\n      <td>A15444</td>\n      <td>hepatopatia crÛnica con fibrosis e HTP por VHB</td>\n      <td>hepatopatia crÛnica con fibrosis e hipertensión pulmonar por virus hepatitis tipo B</td>\n      <td>Hepatitis type B</td>\n    </tr>\n    <tr>\n      <th>5449</th>\n      <td>A15445</td>\n      <td>enfermedad de crhon</td>\n      <td>enfermedad de crhon</td>\n      <td>Crohn Disease</td>\n    </tr>\n    <tr>\n      <th>5450</th>\n      <td>A15446</td>\n      <td>intervenido en 3 ocasiones por oclusiÛn intestinal ultima complicada y es portador de fistula entero</td>\n      <td>intervenido en 3 ocasiones por oclusiÛn intestinal ultima complicada y es portador de fistula entero</td>\n      <td>;</td>\n    </tr>\n    <tr>\n      <th>5451</th>\n      <td>A10794</td>\n      <td>Fibroadenoma de mama</td>\n      <td>Fibroadenoma de mama</td>\n      <td>;</td>\n    </tr>\n    <tr>\n      <th>5452</th>\n      <td>A14707</td>\n      <td>- Meningitis en el nacimiento, sin secuelas</td>\n      <td>- Meningitis en el nacimiento, sin secuelas</td>\n      <td>;</td>\n    </tr>\n  </tbody>\n</table>\n</div>"
     },
     "metadata": {},
     "execution_count": 75
    }
   ],
   "source": [
    "df_data.tail(5)"
   ]
  },
  {
   "cell_type": "code",
   "execution_count": 76,
   "metadata": {},
   "outputs": [],
   "source": [
    "#df_data.to_csv(path+'comorbidities_modified_witht_abbr_new.csv', index=False, encoding='utf-8')"
   ]
  },
  {
   "cell_type": "code",
   "execution_count": 77,
   "metadata": {},
   "outputs": [
    {
     "output_type": "execute_result",
     "data": {
      "text/plain": [
       "'A14707'"
      ]
     },
     "metadata": {},
     "execution_count": 77
    }
   ],
   "source": [
    "dict_text_id[\"- Meningitis en el nacimiento, sin secuelas\"]"
   ]
  },
  {
   "cell_type": "code",
   "execution_count": 78,
   "metadata": {},
   "outputs": [
    {
     "output_type": "execute_result",
     "data": {
      "text/plain": [
       "(5453, 4)"
      ]
     },
     "metadata": {},
     "execution_count": 78
    }
   ],
   "source": [
    "df_data[df_data['Value_ID']==df_data['Value_ID']].shape"
   ]
  },
  {
   "cell_type": "code",
   "execution_count": 79,
   "metadata": {},
   "outputs": [
    {
     "output_type": "execute_result",
     "data": {
      "text/plain": [
       "(5453, 4)"
      ]
     },
     "metadata": {},
     "execution_count": 79
    }
   ],
   "source": [
    "df_data.shape"
   ]
  },
  {
   "cell_type": "code",
   "execution_count": 80,
   "metadata": {},
   "outputs": [
    {
     "output_type": "execute_result",
     "data": {
      "text/plain": [
       "     Value_ID  \\\n",
       "5443   A15439   \n",
       "5444   A15440   \n",
       "5445   A15441   \n",
       "5446   A15442   \n",
       "5447   A15443   \n",
       "5448   A15444   \n",
       "5449   A15445   \n",
       "5450   A15446   \n",
       "5451   A10794   \n",
       "5452   A14707   \n",
       "\n",
       "                                                                                                     value  \\\n",
       "5443                                                               hepatitis C negativizada en seguimiento   \n",
       "5444                                                  mobilidad reducida secundaria a POLIO en la infancia   \n",
       "5445                                            extrasistoles en tratameinto y seguimiento por cardiologÌa   \n",
       "5446                                                                                           AIT en 2017   \n",
       "5447                                                                                  pericarditis en 2013   \n",
       "5448                                                        hepatopatia crÛnica con fibrosis e HTP por VHB   \n",
       "5449                                                                                   enfermedad de crhon   \n",
       "5450  intervenido en 3 ocasiones por oclusiÛn intestinal ultima complicada y es portador de fistula entero   \n",
       "5451                                                                                  Fibroadenoma de mama   \n",
       "5452                                                           - Meningitis en el nacimiento, sin secuelas   \n",
       "\n",
       "                                                                                          value_witht_abbr  \\\n",
       "5443                                                               hepatitis C negativizada en seguimiento   \n",
       "5444                                                  mobilidad reducida secundaria a POLIO en la infancia   \n",
       "5445                                            extrasistoles en tratameinto y seguimiento por cardiologÌa   \n",
       "5446                                                                  ataque isquémico transitorio en 2017   \n",
       "5447                                                                                  pericarditis en 2013   \n",
       "5448                   hepatopatia crÛnica con fibrosis e hipertensión pulmonar por virus hepatitis tipo B   \n",
       "5449                                                                                   enfermedad de crhon   \n",
       "5450  intervenido en 3 ocasiones por oclusiÛn intestinal ultima complicada y es portador de fistula entero   \n",
       "5451                                                                                  Fibroadenoma de mama   \n",
       "5452                                                           - Meningitis en el nacimiento, sin secuelas   \n",
       "\n",
       "           replacement  \n",
       "5443                 ;  \n",
       "5444                 ;  \n",
       "5445                 ;  \n",
       "5446  Ischemic attack   \n",
       "5447                 ;  \n",
       "5448  Hepatitis type B  \n",
       "5449     Crohn Disease  \n",
       "5450                 ;  \n",
       "5451                 ;  \n",
       "5452                 ;  "
      ],
      "text/html": "<div>\n<style scoped>\n    .dataframe tbody tr th:only-of-type {\n        vertical-align: middle;\n    }\n\n    .dataframe tbody tr th {\n        vertical-align: top;\n    }\n\n    .dataframe thead th {\n        text-align: right;\n    }\n</style>\n<table border=\"1\" class=\"dataframe\">\n  <thead>\n    <tr style=\"text-align: right;\">\n      <th></th>\n      <th>Value_ID</th>\n      <th>value</th>\n      <th>value_witht_abbr</th>\n      <th>replacement</th>\n    </tr>\n  </thead>\n  <tbody>\n    <tr>\n      <th>5443</th>\n      <td>A15439</td>\n      <td>hepatitis C negativizada en seguimiento</td>\n      <td>hepatitis C negativizada en seguimiento</td>\n      <td>;</td>\n    </tr>\n    <tr>\n      <th>5444</th>\n      <td>A15440</td>\n      <td>mobilidad reducida secundaria a POLIO en la infancia</td>\n      <td>mobilidad reducida secundaria a POLIO en la infancia</td>\n      <td>;</td>\n    </tr>\n    <tr>\n      <th>5445</th>\n      <td>A15441</td>\n      <td>extrasistoles en tratameinto y seguimiento por cardiologÌa</td>\n      <td>extrasistoles en tratameinto y seguimiento por cardiologÌa</td>\n      <td>;</td>\n    </tr>\n    <tr>\n      <th>5446</th>\n      <td>A15442</td>\n      <td>AIT en 2017</td>\n      <td>ataque isquémico transitorio en 2017</td>\n      <td>Ischemic attack</td>\n    </tr>\n    <tr>\n      <th>5447</th>\n      <td>A15443</td>\n      <td>pericarditis en 2013</td>\n      <td>pericarditis en 2013</td>\n      <td>;</td>\n    </tr>\n    <tr>\n      <th>5448</th>\n      <td>A15444</td>\n      <td>hepatopatia crÛnica con fibrosis e HTP por VHB</td>\n      <td>hepatopatia crÛnica con fibrosis e hipertensión pulmonar por virus hepatitis tipo B</td>\n      <td>Hepatitis type B</td>\n    </tr>\n    <tr>\n      <th>5449</th>\n      <td>A15445</td>\n      <td>enfermedad de crhon</td>\n      <td>enfermedad de crhon</td>\n      <td>Crohn Disease</td>\n    </tr>\n    <tr>\n      <th>5450</th>\n      <td>A15446</td>\n      <td>intervenido en 3 ocasiones por oclusiÛn intestinal ultima complicada y es portador de fistula entero</td>\n      <td>intervenido en 3 ocasiones por oclusiÛn intestinal ultima complicada y es portador de fistula entero</td>\n      <td>;</td>\n    </tr>\n    <tr>\n      <th>5451</th>\n      <td>A10794</td>\n      <td>Fibroadenoma de mama</td>\n      <td>Fibroadenoma de mama</td>\n      <td>;</td>\n    </tr>\n    <tr>\n      <th>5452</th>\n      <td>A14707</td>\n      <td>- Meningitis en el nacimiento, sin secuelas</td>\n      <td>- Meningitis en el nacimiento, sin secuelas</td>\n      <td>;</td>\n    </tr>\n  </tbody>\n</table>\n</div>"
     },
     "metadata": {},
     "execution_count": 80
    }
   ],
   "source": [
    "df_data.tail(10)"
   ]
  }
 ]
}