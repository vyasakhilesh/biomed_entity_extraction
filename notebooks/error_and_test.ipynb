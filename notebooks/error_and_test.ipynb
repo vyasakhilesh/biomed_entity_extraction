{
 "metadata": {
  "language_info": {
   "codemirror_mode": {
    "name": "ipython",
    "version": 3
   },
   "file_extension": ".py",
   "mimetype": "text/x-python",
   "name": "python",
   "nbconvert_exporter": "python",
   "pygments_lexer": "ipython3",
   "version": "3.7.10"
  },
  "orig_nbformat": 2,
  "kernelspec": {
   "name": "python3710jvsc74a57bd0399d1cc73644b9c8e7484462cd4f9b3b32f61f571975f1cd01f67b06c060b9c6",
   "display_name": "Python 3.7.10 64-bit ('scispacy': conda)"
  }
 },
 "nbformat": 4,
 "nbformat_minor": 2,
 "cells": [
  {
   "cell_type": "code",
   "execution_count": 1,
   "metadata": {},
   "outputs": [],
   "source": [
    "import pandas as pd\n",
    "import re\n",
    "# from nltk.corpus import words\n",
    "from nltk.tokenize import word_tokenize\n",
    "import nltk\n",
    "import numpy as np\n",
    "#nltk.download('punkt')\n",
    "from textblob import Word\n",
    "pd.options.display.width = 0\n",
    "\n",
    "import spacy\n",
    "nlp = spacy.load('en_core_web_sm')\n",
    "all_stopwords = nlp.Defaults.stop_words\n",
    "\n",
    "pd.set_option('display.max_rows', 6000)\n",
    "pd.set_option('display.max_columns', 500)\n",
    "pd.set_option('display.max_colwidth', 1000)\n",
    "#pd.describe_option('display')\n",
    "# import enchant"
   ]
  },
  {
   "cell_type": "code",
   "execution_count": 2,
   "metadata": {},
   "outputs": [
    {
     "output_type": "execute_result",
     "data": {
      "text/plain": [
       "[('clergy', 0.48717948717948717),\n",
       " ('gallery', 0.28205128205128205),\n",
       " ('alley', 0.1282051282051282),\n",
       " ('allegro', 0.05128205128205128),\n",
       " ('allegory', 0.02564102564102564),\n",
       " ('allege', 0.02564102564102564)]"
      ]
     },
     "metadata": {},
     "execution_count": 2
    }
   ],
   "source": [
    "def find_in_english_dict(text):\n",
    "    for w in word_tokenize(text):\n",
    "        if Word(w.strip().lower()).spellcheck()[0][1]!=1.0 and len(re.findall(r\"[A-Z]{2,}\", w))>0:\n",
    "          # print(w)\n",
    "          return True\n",
    "    return False\n",
    "\n",
    "find_in_english_dict('HYPERTHROIDSM')\n",
    "Word('allergy'.strip().lower()).spellcheck()"
   ]
  },
  {
   "cell_type": "code",
   "execution_count": 3,
   "metadata": {},
   "outputs": [
    {
     "output_type": "execute_result",
     "data": {
      "text/plain": [
       "(  text_id text      cui_l      cui_g      cui_d  cui_len       cui_g_l   ID  \\\n",
       " 0      A1    a  [1, 2, 5]  [1, 2, 3]  [1, 2, 4]        3  [1, 2, 3, 4]  ID0   \n",
       " 1      A2    b     [2, 5]     [2, 3]        [3]        2        [2, 3]  ID1   \n",
       " 2      A3    c         []        [4]         []        0           [4]  ID2   \n",
       " 3      A4    d         []         []         []        0            []  ID3   \n",
       " \n",
       "    cui_final  \n",
       " 0  [1, 2, 5]  \n",
       " 1     [2, 5]  \n",
       " 2        [4]  \n",
       " 3         []  ,\n",
       "     ID cui_final\n",
       " 0  ID0         1\n",
       " 1  ID0         2\n",
       " 2  ID0         5\n",
       " 3  ID1         2\n",
       " 4  ID1         5\n",
       " 5  ID2         4\n",
       " 6  ID3       NaN)"
      ]
     },
     "metadata": {},
     "execution_count": 3
    }
   ],
   "source": [
    "l = {'text_id':['A1','A2','A3','A4'], 'text':['a','b','c', 'd'], 'cui_l':[[1,2,5],[2,5], [],[]],\n",
    "    'cui_g':[[1,2,3],[2,3],[4],[]], 'cui_d':[[1,2,4],[3], [], []]}\n",
    "df = pd.DataFrame(data=l)\n",
    "df['cui_len']=df['cui_l'].apply(lambda x: len(x))\n",
    "df['cui_g_l']=(df['cui_g']+df['cui_d']).apply(lambda x: list(set(x)))\n",
    "df['ID'] = ['ID'+ str(x) for x in df.index.tolist()]\n",
    "df['cui_final'] = np.where(df['cui_len']!=0, df['cui_l'], df['cui_g_l'])\n",
    "df_id_cui = df[['ID','cui_final']]\n",
    "df, df_id_cui.explode('cui_final', ignore_index=True), "
   ]
  },
  {
   "cell_type": "code",
   "execution_count": 4,
   "metadata": {},
   "outputs": [
    {
     "output_type": "display_data",
     "data": {
      "text/plain": "  Value_ID                             value         replacement \n0   A10520     PROBLEMAS VISUALES DESDE 2012     Vision Disorders\n1   A10523  PANCREATITIS DE ORIGEN LITIASICO   Pancreatolithiasis\n2   A10525                factor 5 de LELDEN      Factor V Leiden\n3   A10543                       OSTEROPORIS         Osteoporosis\n4   A10570                    ex heroinÛmano      Drug Dependence",
      "text/html": "<div>\n<style scoped>\n    .dataframe tbody tr th:only-of-type {\n        vertical-align: middle;\n    }\n\n    .dataframe tbody tr th {\n        vertical-align: top;\n    }\n\n    .dataframe thead th {\n        text-align: right;\n    }\n</style>\n<table border=\"1\" class=\"dataframe\">\n  <thead>\n    <tr style=\"text-align: right;\">\n      <th></th>\n      <th>Value_ID</th>\n      <th>value</th>\n      <th>replacement</th>\n    </tr>\n  </thead>\n  <tbody>\n    <tr>\n      <th>0</th>\n      <td>A10520</td>\n      <td>PROBLEMAS VISUALES DESDE 2012</td>\n      <td>Vision Disorders</td>\n    </tr>\n    <tr>\n      <th>1</th>\n      <td>A10523</td>\n      <td>PANCREATITIS DE ORIGEN LITIASICO</td>\n      <td>Pancreatolithiasis</td>\n    </tr>\n    <tr>\n      <th>2</th>\n      <td>A10525</td>\n      <td>factor 5 de LELDEN</td>\n      <td>Factor V Leiden</td>\n    </tr>\n    <tr>\n      <th>3</th>\n      <td>A10543</td>\n      <td>OSTEROPORIS</td>\n      <td>Osteoporosis</td>\n    </tr>\n    <tr>\n      <th>4</th>\n      <td>A10570</td>\n      <td>ex heroinÛmano</td>\n      <td>Drug Dependence</td>\n    </tr>\n  </tbody>\n</table>\n</div>"
     },
     "metadata": {}
    },
    {
     "output_type": "display_data",
     "data": {
      "text/plain": "    Value_ID                             value  \\\n522   A10520     PROBLEMAS VISUALES DESDE 2012   \n525   A10523  PANCREATITIS DE ORIGEN LITIASICO   \n527   A10525                factor 5 de LELDEN   \n545   A10543                       OSTEROPORIS   \n572   A10570                    ex heroinÛmano   \n605   A10603            Lumbociatalgia derecha   \n610   A10608              Alergia al espadrapo   \n664   A10662                 ex politoxicÛmano   \n669   A10667                   CERVICOARTROSIS   \n686   A10684                        COLETIASIS   \n\n                     value_witht_abbr           replacement  \n522     PROBLEMAS VISUALES DESDE 2012      Vision Disorders  \n525  PANCREATITIS DE ORIGEN LITIASICO    Pancreatolithiasis  \n527                factor 5 de LELDEN       Factor V Leiden  \n545                       OSTEROPORIS          Osteoporosis  \n572                    ex heroinÛmano       Drug Dependence  \n605            Lumbociatalgia derecha              Sciatica  \n610              Alergia al espadrapo               Allergy  \n664                 ex politoxicÛmano       Drug Dependence  \n669                   CERVICOARTROSIS  Cervical spondylosis  \n686                        COLETIASIS        Cholelithiasis  ",
      "text/html": "<div>\n<style scoped>\n    .dataframe tbody tr th:only-of-type {\n        vertical-align: middle;\n    }\n\n    .dataframe tbody tr th {\n        vertical-align: top;\n    }\n\n    .dataframe thead th {\n        text-align: right;\n    }\n</style>\n<table border=\"1\" class=\"dataframe\">\n  <thead>\n    <tr style=\"text-align: right;\">\n      <th></th>\n      <th>Value_ID</th>\n      <th>value</th>\n      <th>value_witht_abbr</th>\n      <th>replacement</th>\n    </tr>\n  </thead>\n  <tbody>\n    <tr>\n      <th>522</th>\n      <td>A10520</td>\n      <td>PROBLEMAS VISUALES DESDE 2012</td>\n      <td>PROBLEMAS VISUALES DESDE 2012</td>\n      <td>Vision Disorders</td>\n    </tr>\n    <tr>\n      <th>525</th>\n      <td>A10523</td>\n      <td>PANCREATITIS DE ORIGEN LITIASICO</td>\n      <td>PANCREATITIS DE ORIGEN LITIASICO</td>\n      <td>Pancreatolithiasis</td>\n    </tr>\n    <tr>\n      <th>527</th>\n      <td>A10525</td>\n      <td>factor 5 de LELDEN</td>\n      <td>factor 5 de LELDEN</td>\n      <td>Factor V Leiden</td>\n    </tr>\n    <tr>\n      <th>545</th>\n      <td>A10543</td>\n      <td>OSTEROPORIS</td>\n      <td>OSTEROPORIS</td>\n      <td>Osteoporosis</td>\n    </tr>\n    <tr>\n      <th>572</th>\n      <td>A10570</td>\n      <td>ex heroinÛmano</td>\n      <td>ex heroinÛmano</td>\n      <td>Drug Dependence</td>\n    </tr>\n    <tr>\n      <th>605</th>\n      <td>A10603</td>\n      <td>Lumbociatalgia derecha</td>\n      <td>Lumbociatalgia derecha</td>\n      <td>Sciatica</td>\n    </tr>\n    <tr>\n      <th>610</th>\n      <td>A10608</td>\n      <td>Alergia al espadrapo</td>\n      <td>Alergia al espadrapo</td>\n      <td>Allergy</td>\n    </tr>\n    <tr>\n      <th>664</th>\n      <td>A10662</td>\n      <td>ex politoxicÛmano</td>\n      <td>ex politoxicÛmano</td>\n      <td>Drug Dependence</td>\n    </tr>\n    <tr>\n      <th>669</th>\n      <td>A10667</td>\n      <td>CERVICOARTROSIS</td>\n      <td>CERVICOARTROSIS</td>\n      <td>Cervical spondylosis</td>\n    </tr>\n    <tr>\n      <th>686</th>\n      <td>A10684</td>\n      <td>COLETIASIS</td>\n      <td>COLETIASIS</td>\n      <td>Cholelithiasis</td>\n    </tr>\n  </tbody>\n</table>\n</div>"
     },
     "metadata": {}
    },
    {
     "output_type": "display_data",
     "data": {
      "text/plain": "  Value_ID                            replacement\n0   A10000                     Chronic gastritis;\n1   A10001  Pectoralis major pleomorphic sarcoma;\n2   A10002                         Hyperuricemia;\n3   A10003                  Colon polyp operated;\n4   A10004              Aortic stenosis operated;\n5   A10005                               Dyspnea;\n6   A10006                          Osteoporosis;\n7   A10007       Hysterectomy double adnexectomy;\n8   A10008            Subclinical hypothyroidism;\n9   A10009                    Prostate carcinoma;",
      "text/html": "<div>\n<style scoped>\n    .dataframe tbody tr th:only-of-type {\n        vertical-align: middle;\n    }\n\n    .dataframe tbody tr th {\n        vertical-align: top;\n    }\n\n    .dataframe thead th {\n        text-align: right;\n    }\n</style>\n<table border=\"1\" class=\"dataframe\">\n  <thead>\n    <tr style=\"text-align: right;\">\n      <th></th>\n      <th>Value_ID</th>\n      <th>replacement</th>\n    </tr>\n  </thead>\n  <tbody>\n    <tr>\n      <th>0</th>\n      <td>A10000</td>\n      <td>Chronic gastritis;</td>\n    </tr>\n    <tr>\n      <th>1</th>\n      <td>A10001</td>\n      <td>Pectoralis major pleomorphic sarcoma;</td>\n    </tr>\n    <tr>\n      <th>2</th>\n      <td>A10002</td>\n      <td>Hyperuricemia;</td>\n    </tr>\n    <tr>\n      <th>3</th>\n      <td>A10003</td>\n      <td>Colon polyp operated;</td>\n    </tr>\n    <tr>\n      <th>4</th>\n      <td>A10004</td>\n      <td>Aortic stenosis operated;</td>\n    </tr>\n    <tr>\n      <th>5</th>\n      <td>A10005</td>\n      <td>Dyspnea;</td>\n    </tr>\n    <tr>\n      <th>6</th>\n      <td>A10006</td>\n      <td>Osteoporosis;</td>\n    </tr>\n    <tr>\n      <th>7</th>\n      <td>A10007</td>\n      <td>Hysterectomy double adnexectomy;</td>\n    </tr>\n    <tr>\n      <th>8</th>\n      <td>A10008</td>\n      <td>Subclinical hypothyroidism;</td>\n    </tr>\n    <tr>\n      <th>9</th>\n      <td>A10009</td>\n      <td>Prostate carcinoma;</td>\n    </tr>\n  </tbody>\n</table>\n</div>"
     },
     "metadata": {}
    }
   ],
   "source": [
    "# merging new text translation\n",
    "\"\"\"path='/nfs/home/vyasa/projects/proj_off/data_off/clarify/spanish_comorbidity/new/'\n",
    "path_output = '/nfs/home/vyasa/projects/proj_off/data_off/clarify/spanish_comorbidity/new/output/'\n",
    "\n",
    "df = pd.read_csv(path+'comorbidities_modified_witht_abbr_new.csv', sep=',', error_bad_lines=True, encoding='utf-8')\n",
    "df.shape\n",
    "\n",
    "df_new_text = pd.read_csv(path_output+'nohaving_cuiMEV_done.csv', encoding='utf-8')\n",
    "display(df_new_text.head(5))\n",
    "\n",
    "df.loc[df['Value_ID'].isin(df_new_text.Value_ID),'replacement'] = df_new_text['replacement '].values\n",
    "display(df[df['Value_ID'].isin(df_new_text.Value_ID)].head(10))\n",
    "display (df[['Value_ID', 'replacement']].head(10))\n",
    "df.to_csv(path+'comorbidities_modified_witht_abbr_new_new.csv', encoding='utf-8', index=False)\"\"\""
   ]
  },
  {
   "cell_type": "code",
   "execution_count": 7,
   "metadata": {},
   "outputs": [
    {
     "output_type": "stream",
     "name": "stderr",
     "text": [
      "/nfs/home/vyasa/software/pkg/miniconda3/envs/scispacy/lib/python3.7/site-packages/sklearn/base.py:315: UserWarning: Trying to unpickle estimator TfidfTransformer from version 0.20.3 when using version 0.24.2. This might lead to breaking code or invalid results. Use at your own risk.\n",
      "  UserWarning)\n",
      "/nfs/home/vyasa/software/pkg/miniconda3/envs/scispacy/lib/python3.7/site-packages/sklearn/base.py:315: UserWarning: Trying to unpickle estimator TfidfVectorizer from version 0.20.3 when using version 0.24.2. This might lead to breaking code or invalid results. Use at your own risk.\n",
      "  UserWarning)\n",
      "Name:  Surgery Appendicitis\n",
      "/nfs/home/vyasa/software/pkg/miniconda3/envs/scispacy/lib/python3.7/site-packages/scispacy/candidate_generation.py:284: VisibleDeprecationWarning: Creating an ndarray from ragged nested sequences (which is a list-or-tuple of lists-or-tuples-or ndarrays with different lengths or shapes) is deprecated. If you meant to do this, you must specify 'dtype=object' when creating the ndarray.\n",
      "  extended_neighbors[empty_vectors_boolean_flags] = numpy.array(neighbors)[:-1]\n",
      "/nfs/home/vyasa/software/pkg/miniconda3/envs/scispacy/lib/python3.7/site-packages/scispacy/candidate_generation.py:285: VisibleDeprecationWarning: Creating an ndarray from ragged nested sequences (which is a list-or-tuple of lists-or-tuples-or ndarrays with different lengths or shapes) is deprecated. If you meant to do this, you must specify 'dtype=object' when creating the ndarray.\n",
      "  extended_distances[empty_vectors_boolean_flags] = numpy.array(distances)[:-1]\n"
     ]
    }
   ],
   "source": [
    "import scispacy\n",
    "import spacy\n",
    "from scispacy.linking import EntityLinker\n",
    "\n",
    "nlp = spacy.load(\"en_core_sci_lg\")\n",
    "nlp.add_pipe(\"scispacy_linker\", config={\"resolve_abbreviations\": False, \"linker_name\": \"umls\", \"filter_for_definitions\":False})\n",
    "\n",
    "doc = nlp(\"Surgery Appendicitis\")\n",
    "# Let's look at a random entity!\n",
    "entity = doc.ents[0]\n",
    "print(\"Name: \", entity)"
   ]
  },
  {
   "cell_type": "code",
   "execution_count": 8,
   "metadata": {},
   "outputs": [
    {
     "output_type": "stream",
     "name": "stdout",
     "text": [
      "(Surgery Appendicitis,)\n"
     ]
    }
   ],
   "source": [
    "print (doc.ents)\n",
    "linker = nlp.get_pipe(\"scispacy_linker\")\n",
    "for umls_ent in entity._.kb_ents:\n",
    "\tprint(linker.kb.cui_to_entity[umls_ent[0]])"
   ]
  },
  {
   "cell_type": "code",
   "execution_count": null,
   "metadata": {},
   "outputs": [],
   "source": []
  }
 ]
}