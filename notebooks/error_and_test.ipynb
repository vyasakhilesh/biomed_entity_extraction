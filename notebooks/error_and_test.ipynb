{
 "metadata": {
  "language_info": {
   "codemirror_mode": {
    "name": "ipython",
    "version": 3
   },
   "file_extension": ".py",
   "mimetype": "text/x-python",
   "name": "python",
   "nbconvert_exporter": "python",
   "pygments_lexer": "ipython3",
   "version": "3.6.13"
  },
  "orig_nbformat": 2,
  "kernelspec": {
   "name": "python3613jvsc74a57bd0399d1cc73644b9c8e7484462cd4f9b3b32f61f571975f1cd01f67b06c060b9c6",
   "display_name": "Python 3.7.10 64-bit ('scispacy': conda)"
  },
  "metadata": {
   "interpreter": {
    "hash": "399d1cc73644b9c8e7484462cd4f9b3b32f61f571975f1cd01f67b06c060b9c6"
   }
  }
 },
 "nbformat": 4,
 "nbformat_minor": 2,
 "cells": [
  {
   "cell_type": "code",
   "execution_count": null,
   "metadata": {},
   "outputs": [],
   "source": [
    "import pandas as pd\n",
    "import re\n",
    "# from nltk.corpus import words\n",
    "from nltk.tokenize import word_tokenize\n",
    "import nltk\n",
    "import numpy as np\n",
    "#nltk.download('punkt')\n",
    "from textblob import Word\n",
    "pd.options.display.width = 0\n",
    "\n",
    "import spacy\n",
    "nlp = spacy.load('en_core_web_sm')\n",
    "all_stopwords = nlp.Defaults.stop_words\n",
    "\n",
    "pd.set_option('display.max_rows', 6000)\n",
    "pd.set_option('display.max_columns', 500)\n",
    "pd.set_option('display.max_colwidth', 1000)\n",
    "#pd.describe_option('display')\n",
    "# import enchant"
   ]
  },
  {
   "cell_type": "code",
   "execution_count": null,
   "metadata": {},
   "outputs": [],
   "source": [
    "def find_in_english_dict(text):\n",
    "    for w in word_tokenize(text):\n",
    "        if Word(w.strip().lower()).spellcheck()[0][1]!=1.0 and len(re.findall(r\"[A-Z]{2,}\", w))>0:\n",
    "          # print(w)\n",
    "          return True\n",
    "    return False\n",
    "\n",
    "find_in_english_dict('HYPERTHROIDSM')\n",
    "Word('allergy'.strip().lower()).spellcheck()"
   ]
  },
  {
   "cell_type": "code",
   "execution_count": null,
   "metadata": {},
   "outputs": [],
   "source": [
    "l = {'text_id':['A1','A2','A3','A4'], 'text':['a','b','c', 'd'], 'cui_l':[[1,2,5],[2,5], [],[]],\n",
    "    'cui_g':[[1,2,3],[2,3],[4],[]], 'cui_d':[[1,2,4],[3], [], []]}\n",
    "df = pd.DataFrame(data=l)\n",
    "df['cui_len']=df['cui_l'].apply(lambda x: len(x))\n",
    "df['cui_g_l']=(df['cui_g']+df['cui_d']).apply(lambda x: list(set(x)))\n",
    "df['ID'] = ['ID'+ str(x) for x in df.index.tolist()]\n",
    "df['cui_final'] = np.where(df['cui_len']!=0, df['cui_l'], df['cui_g_l'])\n",
    "df_id_cui = df[['ID','cui_final']]\n",
    "df, df_id_cui.explode('cui_final', ignore_index=True), "
   ]
  },
  {
   "cell_type": "code",
   "execution_count": null,
   "metadata": {},
   "outputs": [],
   "source": [
    "# merging new text translation\n",
    "\"\"\"path='/nfs/home/vyasa/projects/proj_off/data_off/clarify/spanish_comorbidity/new/'\n",
    "path_output = '/nfs/home/vyasa/projects/proj_off/data_off/clarify/spanish_comorbidity/new/output/'\n",
    "\n",
    "df = pd.read_csv(path+'comorbidities_modified_witht_abbr_new.csv', sep=',', error_bad_lines=True, encoding='utf-8')\n",
    "df.shape\n",
    "\n",
    "df_new_text = pd.read_csv(path_output+'nohaving_cuiMEV_done.csv', encoding='utf-8')\n",
    "display(df_new_text.head(5))\n",
    "\n",
    "df.loc[df['Value_ID'].isin(df_new_text.Value_ID),'replacement'] = df_new_text['replacement '].values\n",
    "display(df[df['Value_ID'].isin(df_new_text.Value_ID)].head(10))\n",
    "display (df[['Value_ID', 'replacement']].head(10))\n",
    "df.to_csv(path+'comorbidities_modified_witht_abbr_new_new.csv', encoding='utf-8', index=False)\"\"\""
   ]
  },
  {
   "cell_type": "code",
   "execution_count": 2,
   "metadata": {},
   "outputs": [
    {
     "output_type": "stream",
     "name": "stdout",
     "text": [
      "(Surgery, Appendicitis)\nCUI: C1274039, Name: General surgery specialty\nDefinition: A specialty in which manual or operative procedures are used in the treatment of disease, injuries, or deformities.\nTUI(s): T091\nAliases: (total: 10): \n\t Surgery, General Surgery, General Surgery, surgery general, Surgery.general, general surgery, General surgery, General surgery, Surgery, General, General surgery (qualifier value)\nCUI: C0038894, Name: Surgery specialty\nDefinition: The branch of medical science that treats disease or injury by operative procedures.\nTUI(s): T091\nAliases: (total: 5): \n\t Surgery, Surgery, Surgery, Surgery, Surgery\nCUI: C4084778, Name: Surgery - Clinical Class\nDefinition: None\nTUI(s): T170\nAliases: (total: 2): \n\t Surgery, SURG\nCUI: C1705196, Name: Surgery Domain\nDefinition: A subject domain utilized for the submission of information encompassing and representing data, vocabulary or records related to surgery.\nTUI(s): T170\nAliases: (total: 3): \n\t Surgery Domain, Surgery, SG\nCUI: C0543467, Name: Operative Surgical Procedures\nDefinition: Operations carried out for the correction of deformities and defects, repair of injuries, and diagnosis and cure of certain diseases. (Taber, 18th ed.)\nTUI(s): T061\nAliases (abbreviated, total: 75): \n\t Operative Surgical Procedures, Operative Surgical Procedure, Procedure, Operative Surgical, Surgical Procedure, Operative, Procedures, Operative Surgical, Surgical Procedures, Operative, Operative Procedures, operative procedures, Operative procedure, Operative procedure\nCUI: C0003615, Name: Appendicitis\nDefinition: Acute inflammation of the APPENDIX. Acute appendicitis is classified as simple, gangrenous, or perforated.\nTUI(s): T047\nAliases (abbreviated, total: 21): \n\t Appendicitis, Appendicitis, Appendicitis, Appendicitis, Appendicitis, Appendicitis, Appendicitis, Appendicitis, Appendicitis, Appendicitis\n"
     ]
    }
   ],
   "source": [
    "import scispacy\n",
    "import spacy\n",
    "from scispacy.umls_linking import UmlsEntityLinker\n",
    "\n",
    "nlp = spacy.load(\"en_core_sci_lg\")\n",
    "linker = UmlsEntityLinker(resolve_abbreviations=True)\n",
    "nlp.add_pipe(linker)\n",
    "#nlp.add_pipe(\"scispacy_linker\")\n",
    "\n",
    "doc = nlp(\"Surgery Appendicitis\")\n",
    "print (doc.ents)\n",
    "for entity in doc.ents:\n",
    "\tfor umls_ent in entity._.umls_ents:\n",
    "\t\tprint(linker.umls.cui_to_entity[umls_ent[0]])"
   ]
  },
  {
   "cell_type": "code",
   "execution_count": 3,
   "metadata": {},
   "outputs": [],
   "source": [
    "import spacy\n",
    "import scispacy\n",
    "\n",
    "from scispacy.linking import EntityLinker\n",
    "\n",
    "nlp = spacy.load(\"en_core_sci_lg\")\n",
    "nlp.add_pipe(\"scispacy_linker\", config={\"resolve_abbreviations\": True, \"linker_name\": \"umls\"})\n",
    "\n",
    "doc = nlp(\"Surgery Appendicitis\")\n",
    "\n",
    "# Each entity is linked to UMLS with a score\n",
    "# (currently just char-3gram matching).\n",
    "linker = nlp.get_pipe(\"scispacy_linker\")\n",
    "for entity in doc.ents:\n",
    "    for umls_ent in entity._.kb_ents:\n",
    "        print(linker.kb.cui_to_entity[umls_ent[0]])"
   ]
  },
  {
   "cell_type": "code",
   "execution_count": null,
   "metadata": {},
   "outputs": [],
   "source": []
  }
 ]
}